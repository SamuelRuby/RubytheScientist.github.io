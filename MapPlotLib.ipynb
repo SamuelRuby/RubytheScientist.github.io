{
  "nbformat": 4,
  "nbformat_minor": 0,
  "metadata": {
    "colab": {
      "name": "MapPlotLib",
      "provenance": [],
      "collapsed_sections": [],
      "authorship_tag": "ABX9TyM0W8ZH8tzzgLtuhAT14qh/",
      "include_colab_link": true
    },
    "kernelspec": {
      "name": "python3",
      "display_name": "Python 3"
    },
    "language_info": {
      "name": "python"
    }
  },
  "cells": [
    {
      "cell_type": "markdown",
      "metadata": {
        "id": "view-in-github",
        "colab_type": "text"
      },
      "source": [
        "<a href=\"https://colab.research.google.com/github/SamuelRuby/RubytheScientist.github.io/blob/main/MapPlotLib.ipynb\" target=\"_parent\"><img src=\"https://colab.research.google.com/assets/colab-badge.svg\" alt=\"Open In Colab\"/></a>"
      ]
    },
    {
      "cell_type": "code",
      "execution_count": null,
      "metadata": {
        "id": "-dfKqUQDc7I2"
      },
      "outputs": [],
      "source": [
        "# Import the matplotlib.pyplot submodule and name it plt\n",
        "import matplotlib.pyplot as plt\n",
        "\n",
        "# Create a Figure and an Axes with plt.subplots\n",
        "fig, ax = plt.subplots()\n",
        "\n",
        "# Plot MLY-PRCP-NORMAL from seattle_weather against the MONTH\n",
        "ax.plot(seattle_weather[\"MONTH\"], seattle_weather['MLY-PRCP-NORMAL'])\n",
        "\n",
        "# Plot MLY-PRCP-NORMAL from austin_weather against MONTH\n",
        "ax.plot(austin_weather['MONTH'], austin_weather['MLY-PRCP-NORMAL'])\n",
        "\n",
        "# Call the show function\n",
        "plt.show()\n",
        "\n"
      ]
    },
    {
      "cell_type": "markdown",
      "source": [
        "customizing data appearance\n",
        "# Plot Seattle data, setting data appearance\n",
        "ax.plot(seattle_weather[\"MONTH\"], seattle_weather[\"MLY-PRCP-NORMAL\"],marker = 'o', linestyle = '--', color= 'b')\n",
        "\n",
        "# Plot Austin data, setting data appearance\n",
        "ax.plot(austin_weather[\"MONTH\"], austin_weather[\"MLY-PRCP-NORMAL\"], marker = 'v', linestyle = '--', color= 'r')\n",
        "\n",
        "# Call show to display the resulting plot\n",
        "plt.show()\n"
      ],
      "metadata": {
        "id": "3xG1uaZngD-D"
      }
    },
    {
      "cell_type": "markdown",
      "source": [
        "Customizing axis labels and adding titles"
      ],
      "metadata": {
        "id": "wHrKyiKIg4mN"
      }
    },
    {
      "cell_type": "code",
      "source": [
        "ax.plot(seattle_weather[\"MONTH\"], seattle_weather[\"MLY-PRCP-NORMAL\"])\n",
        "ax.plot(austin_weather[\"MONTH\"], austin_weather[\"MLY-PRCP-NORMAL\"])\n",
        "\n",
        "# Customize the x-axis label\n",
        "ax.set_xlabel ('Time (months)')\n",
        "\n",
        "# Customize the y-axis label\n",
        "ax.set_ylabel('Precipitation (inches)')\n",
        "\n",
        "# Add the title\n",
        "ax.set_title ('Weather patterns in Austin and Seattle')\n",
        "\n",
        "# Display the figure\n",
        "plt.show()\n"
      ],
      "metadata": {
        "id": "qXfKo3c3g80f"
      },
      "execution_count": null,
      "outputs": []
    },
    {
      "cell_type": "markdown",
      "source": [
        "creating small multiples with plt.subplots\n"
      ],
      "metadata": {
        "id": "Jycv-KyhlOcR"
      }
    },
    {
      "cell_type": "code",
      "source": [
        "# Create a Figure and an array of subplots with 2 rows and 2 columns\n",
        "fig, ax = plt.subplots(2, 2)\n",
        "\n",
        "# Addressing the top left Axes as index 0, 0, plot month and Seattle precipitation\n",
        "ax[0, 0].plot(seattle_weather['MONTH'], seattle_weather['MLY-PRCP-NORMAL'])\n",
        "\n",
        "# In the top right (index 0,1), plot month and Seattle temperatures\n",
        "ax[0, 1].plot(seattle_weather['MONTH'], seattle_weather['MLY-TAVG-NORMAL'])\n",
        "\n",
        "# In the bottom left (1, 0) plot month and Austin precipitations\n",
        "ax[1, 0].plot(austin_weather['MONTH'], austin_weather['MLY-PRCP-NORMAL'])\n",
        "\n",
        "# In the bottom right (1, 1) plot month and Austin temperatures\n",
        "ax[1, 1].plot(austin_weather['MONTH'], austin_weather['MLY-TAVG-NORMAL'])\n",
        "plt.show()\n"
      ],
      "metadata": {
        "id": "jz0U7svclVOR"
      },
      "execution_count": null,
      "outputs": []
    },
    {
      "cell_type": "markdown",
      "source": [
        "Small multiples with shared y axis\n",
        "# Create a figure and an array of axes: 2 rows, 1 column with shared y axis\n",
        "fig, ax = plt.subplots(2, 1, sharey=True)\n",
        "\n",
        "# Plot Seattle precipitation data in the top axes\n",
        "ax[0].plot(seattle_weather['MONTH'],seattle_weather['MLY-PRCP-NORMAL'], color = 'b')\n",
        "ax[0].plot(seattle_weather['MONTH'],seattle_weather['MLY-PRCP-25PCTL'], color = 'b', linestyle = '--')\n",
        "ax[0].plot(seattle_weather['MONTH'],seattle_weather['MLY-PRCP-75PCTL'], color = 'b', linestyle = '--')\n",
        "\n",
        "# Plot Austin precipitation data in the bottom axes\n",
        "ax[1].plot(austin_weather['MONTH'],austin_weather['MLY-PRCP-NORMAL'], color = 'r')\n",
        "ax[1].plot(austin_weather['MONTH'],austin_weather['MLY-PRCP-25PCTL'], color = 'r', linestyle = '--')\n",
        "ax[1].plot(austin_weather['MONTH'],austin_weather['MLY-PRCP-75PCTL'], color = 'r', linestyle = '--')\n",
        "\n",
        "plt.show()"
      ],
      "metadata": {
        "id": "6-ZPh5I2nR7f"
      }
    },
    {
      "cell_type": "markdown",
      "source": [
        "PLOTTING DATA"
      ],
      "metadata": {
        "id": "8W-WYR0Lrgst"
      }
    },
    {
      "cell_type": "code",
      "source": [
        "Reading data with a time index"
      ],
      "metadata": {
        "id": "B6GcFl0GraXE"
      },
      "execution_count": null,
      "outputs": []
    },
    {
      "cell_type": "code",
      "source": [
        "# Import pandas as pd\n",
        "import pandas as pd\n",
        "\n",
        "# Read the data from file using read_csv\n",
        "climate_change = pd.read_csv(\"climate_change.csv\", parse_dates=[\"date\"], index_col=[\"date\"])\n",
        "\n",
        "\n",
        "Plot time series\n",
        "import matplotlib.pyplot as plt\n",
        "fig, ax = plt.subplots()\n",
        "\n",
        "# Add the time-series for \"relative_temp\" to the plot\n",
        "ax.plot(climate_change.index, climate_change ['relative_temp'])\n",
        "\n",
        "# Set the x-axis label\n",
        "ax.set_xlabel(\"Time\");\n",
        "\n",
        "# Set the y-axis label\n",
        "ax.set_ylabel ('Relative temperature (Celsius)')\n",
        "\n",
        "# Show the figure\n",
        "plt.show()"
      ],
      "metadata": {
        "id": "uGx3fhxmrjPm"
      },
      "execution_count": null,
      "outputs": []
    },
    {
      "cell_type": "markdown",
      "source": [
        "using a time index to zoom in"
      ],
      "metadata": {
        "id": "CfsMp6w7uEzd"
      }
    },
    {
      "cell_type": "code",
      "source": [
        "import matplotlib.pyplot as plt\n",
        "\n",
        "# Use plt.subplots to create fig and ax\n",
        "fig,ax = plt.subplots()\n",
        "\n",
        "# Create variable seventies with data from \"1970-01-01\" to \"1979-12-31\"\n",
        "seventies = climate_change['1970-01-01': '1979-12-31']\n",
        "\n",
        "# Add the time-series for \"co2\" data from seventies to the plot\n",
        "ax.plot(seventies.index, seventies[\"co2\"])\n",
        "\n",
        "# Show the figure\n",
        "plt.show()"
      ],
      "metadata": {
        "id": "PP9iHNTauHsH"
      },
      "execution_count": null,
      "outputs": []
    },
    {
      "cell_type": "markdown",
      "source": [
        "plotting 2 variables"
      ],
      "metadata": {
        "id": "5g1SS1OayhWK"
      }
    },
    {
      "cell_type": "code",
      "source": [
        "import matplotlib.pyplot as plt\n",
        "\n",
        "# Initalize a Figure and Axes\n",
        "fig,ax = plt.subplots()\n",
        "\n",
        "# Plot the CO2 variable in blue\n",
        "ax.plot(climate_change.index, climate_change['co2'], color= 'blue')\n",
        "\n",
        "# Create a twin Axes that shares the x-axis\n",
        "ax2 = ax.twinx()\n",
        "\n",
        "# Plot the relative temperature in red\n",
        "ax2.plot(climate_change.index, climate_change['relative_temp'], color='red')\n",
        "plt.show()"
      ],
      "metadata": {
        "id": "IK_GQYVDyjfv"
      },
      "execution_count": null,
      "outputs": []
    },
    {
      "cell_type": "markdown",
      "source": [
        "defining a function that plots time series"
      ],
      "metadata": {
        "id": "g5ss0u-azUDB"
      }
    },
    {
      "cell_type": "code",
      "source": [
        "# Define a function called plot_timeseries\n",
        "def plot_timeseries(axes, x, y, color, xlabel, ylabel):\n",
        "\n",
        "  # Plot the inputs x,y in the provided color\n",
        "  axes.plot(x,y, color=color)\n",
        "\n",
        "  # Set the x-axis label\n",
        "  axes.set_xlabel(xlabel)\n",
        "\n",
        "  # Set the y-axis label\n",
        "  axes.set_ylabel(ylabel, color=color)\n",
        "\n",
        "  # Set the colors tick params for y-axis\n",
        "  axes.tick_params('y', colors=color)"
      ],
      "metadata": {
        "id": "mhQnaBEAzWua"
      },
      "execution_count": null,
      "outputs": []
    },
    {
      "cell_type": "markdown",
      "source": [
        "using a plotting function"
      ],
      "metadata": {
        "id": "anQWwsJj2FXZ"
      }
    },
    {
      "cell_type": "code",
      "source": [
        "fig, ax = plt.subplots()\n",
        "\n",
        "# Plot the CO2 levels time-series in blue\n",
        "plot_timeseries(ax,climate_change.index, climate_change['co2'], 'blue', 'Time (years)', 'CO2 levels')\n",
        "\n",
        "# Create a twin Axes object that shares the x-axis\n",
        "ax2 = ax.twinx()\n",
        "\n",
        "# Plot the relative temperature data in red\n",
        "plot_timeseries(ax2,climate_change.index, climate_change['relative_temp'], 'red', 'Time (years)', 'Relative temperature (Celsius)')\n",
        "\n",
        "plt.show()"
      ],
      "metadata": {
        "id": "SNxm2Br72H1_"
      },
      "execution_count": null,
      "outputs": []
    },
    {
      "cell_type": "markdown",
      "source": [
        "Annotating a plot of time-series data"
      ],
      "metadata": {
        "id": "A9_qoac7516p"
      }
    },
    {
      "cell_type": "code",
      "source": [
        "fig, ax = plt.subplots()\n",
        "\n",
        "# Plot the relative temperature data\n",
        "ax.plot(climate_change.index,climate_change['relative_temp'])\n",
        "\n",
        "# Annotate the date at which temperatures exceeded 1 degree\n",
        "ax.annotate(\">1 degree\",  xy=[pd.Timestamp(\"2015-10-06\"), 1])\n",
        "\n",
        "plt.show()\n",
        "\n",
        "\n",
        "\n",
        "\n",
        "fig, ax = plt.subplots()\n",
        "\n",
        "# Plot the CO2 levels time-series in blue\n",
        "plot_timeseries(ax, climate_change.index, climate_change['co2'], 'blue', \"Time (years)\", \"CO2 levels\")\n",
        "\n",
        "# Create an Axes object that shares the x-axis\n",
        "ax2 = ax.twinx()\n",
        "\n",
        "# Plot the relative temperature data in red\n",
        "plot_timeseries(ax2, climate_change.index, climate_change[\"relative_temp\"], 'red', \"Time (years)\", \"Relative temp (Celsius)\")\n",
        "\n",
        "# Annotate point with relative temperature >1 degree\n",
        "ax2.annotate(\">1 degree\", \n",
        "             xytext=(pd.Timestamp('2008-10-06'), -0.2), \n",
        "            xy=(pd.Timestamp('2015-10-06'), 1), arrowprops=dict(arrowstyle='->', color='gray'));\n",
        "\n",
        "plt.show()"
      ],
      "metadata": {
        "id": "JDo6CoM_59Oo"
      },
      "execution_count": null,
      "outputs": []
    },
    {
      "cell_type": "markdown",
      "source": [
        "Bar Chart"
      ],
      "metadata": {
        "id": "6bDcBGASWogW"
      }
    },
    {
      "cell_type": "code",
      "source": [
        "fig, ax = plt.subplots()\n",
        "\n",
        "# Plot a bar-chart of gold medals as a function of country\n",
        "ax.bar(medals.index, medals['Gold'])\n",
        "# Set the x-axis tick labels to the country names\n",
        "ax.set_xticklabels(medals.index, rotation =90)\n",
        "\n",
        "# Set the y-axis label\n",
        "ax.set_ylabel('Number of medals')\n",
        "\n",
        "plt.show()\n"
      ],
      "metadata": {
        "id": "alSPdJwQWpvu"
      },
      "execution_count": null,
      "outputs": []
    },
    {
      "cell_type": "markdown",
      "source": [
        "Stacked bar chart"
      ],
      "metadata": {
        "id": "JDLILUY2Ycpx"
      }
    },
    {
      "cell_type": "code",
      "source": [
        "# Add bars for \"Gold\" with the label \"Gold\"\n",
        "ax.bar(medals.index, medals['Gold'], label='Gold')\n",
        "\n",
        "# Stack bars for \"Silver\" on top with label \"Silver\"\n",
        "ax.bar(medals.index, medals['Silver'], bottom= medals['Gold'], label = 'Silver')\n",
        "\n",
        "# Stack bars for \"Bronze\" on top of that with label \"Bronze\"\n",
        "ax.bar(medals.index, medals['Bronze'], bottom=medals['Gold'] + medals ['Silver'], label = 'Bronze')\n",
        "\n",
        "# Display the legend\n",
        "ax.legend()\n",
        "\n",
        "plt.show()"
      ],
      "metadata": {
        "id": "GGM8oOavYgKp"
      },
      "execution_count": null,
      "outputs": []
    },
    {
      "cell_type": "markdown",
      "source": [
        "Creating Histograms"
      ],
      "metadata": {
        "id": "OUEOY_2QdH28"
      }
    },
    {
      "cell_type": "code",
      "source": [
        "fig, ax = plt.subplots()\n",
        "# Plot a histogram of \"Weight\" for mens_rowing\n",
        "ax.hist(mens_rowing ['Weight'])\n",
        "\n",
        "# Compare to histogram of \"Weight\" for mens_gymnastics\n",
        "ax.hist(mens_gymnastics['Weight'])\n",
        "\n",
        "# Set the x-axis label to \"Weight (kg)\"\n",
        "ax.set_xlabel('Weight (kg)')\n",
        "\n",
        "# Set the y-axis label to \"# of observations\"\n",
        "ax.set_ylabel ('# of observations')\n",
        "\n",
        "plt.show()\n"
      ],
      "metadata": {
        "id": "cfajCPsKdKA1"
      },
      "execution_count": null,
      "outputs": []
    },
    {
      "cell_type": "markdown",
      "source": [
        "'Step' Histogram"
      ],
      "metadata": {
        "id": "yLi_GsQufplK"
      }
    },
    {
      "cell_type": "code",
      "source": [
        "fig, ax = plt.subplots()\n",
        "\n",
        "# Plot a histogram of \"Weight\" for mens_rowing\n",
        "ax.hist(mens_rowing['Weight'], label = 'Rowing', bins=5, histtype= 'step')\n",
        "\n",
        "# Compare to histogram of \"Weight\" for mens_gymnastics\n",
        "ax.hist(mens_gymnastics ['Weight'], label = 'Gymnastics', bins= 5, histtype= 'step')\n",
        "\n",
        "ax.set_xlabel(\"Weight (kg)\")\n",
        "ax.set_ylabel(\"# of observations\")\n",
        "\n",
        "# Add the legend and show the Figure\n",
        "ax.legend()\n",
        "plt.show()"
      ],
      "metadata": {
        "id": "YuQAH2qFfslc"
      },
      "execution_count": null,
      "outputs": []
    },
    {
      "cell_type": "markdown",
      "source": [
        "Adding error bar to a bar chart"
      ],
      "metadata": {
        "id": "Ia501zrFkrH5"
      }
    },
    {
      "cell_type": "code",
      "source": [
        "fig, ax = plt.subplots()\n",
        "\n",
        "# Add a bar for the rowing \"Height\" column mean/std\n",
        "ax.bar(\"Rowing\", mens_rowing['Height'].mean(), yerr=mens_rowing['Height'].std())\n",
        "\n",
        "# Add a bar for the gymnastics \"Height\" column mean/std\n",
        "ax.bar ('Gymnastics', mens_gymnastics ['Height'].mean(), yerr= mens_gymnastics['Height'].std())\n",
        "\n",
        "# Label the y-axis\n",
        "ax.set_ylabel(\"Height (cm)\")\n",
        "\n",
        "plt.show()\n"
      ],
      "metadata": {
        "id": "cfoMw4SYktQv"
      },
      "execution_count": null,
      "outputs": []
    },
    {
      "cell_type": "markdown",
      "source": [
        "Adding error bar to a plot"
      ],
      "metadata": {
        "id": "Ch15ipIslssu"
      }
    },
    {
      "cell_type": "code",
      "source": [
        "fig, ax = plt.subplots()\n",
        "\n",
        "# Add Seattle temperature data in each month with error bars\n",
        "ax.errorbar(seattle_weather['MONTH'],seattle_weather['MLY-TAVG-NORMAL'], yerr=seattle_weather['MLY-TAVG-STDDEV'])\n",
        "\n",
        "# Add Austin temperature data in each month with error bars\n",
        "ax.errorbar(austin_weather['MONTH'],austin_weather['MLY-TAVG-NORMAL'], yerr=austin_weather['MLY-TAVG-STDDEV'])\n",
        "# Set the y-axis label\n",
        "ax.set_ylabel('Temperature (Fahrenheit)')\n",
        "\n",
        "plt.show()\n"
      ],
      "metadata": {
        "id": "nToi5fZslvRx"
      },
      "execution_count": null,
      "outputs": []
    },
    {
      "cell_type": "markdown",
      "source": [
        "Creating box plots"
      ],
      "metadata": {
        "id": "UU7v0UXImhiy"
      }
    },
    {
      "cell_type": "code",
      "source": [
        "fig, ax = plt.subplots()\n",
        "\n",
        "# Add a boxplot for the \"Height\" column in the DataFrames\n",
        "ax.boxplot([mens_rowing['Height'],mens_gymnastics['Height']])\n",
        "\n",
        "# Add x-axis tick labels:\n",
        "ax.set_xticklabels(['Rowing', 'Gymnastics'])\n",
        "\n",
        "# Add a y-axis label\n",
        "ax.set_ylabel('Height (cm)')\n",
        "\n",
        "plt.show()\n"
      ],
      "metadata": {
        "id": "VePo8hs3mjI0"
      },
      "execution_count": null,
      "outputs": []
    },
    {
      "cell_type": "markdown",
      "source": [
        "Simple scatter plot"
      ],
      "metadata": {
        "id": "wyMvLDzfpNg4"
      }
    },
    {
      "cell_type": "code",
      "source": [
        "fig, ax = plt.subplots()\n",
        "\n",
        "# Add data: \"co2\" on x-axis, \"relative_temp\" on y-axis\n",
        "ax.scatter(climate_change['co2'], climate_change ['relative_temp'])\n",
        "\n",
        "# Set the x-axis label to \"CO2 (ppm)\"\n",
        "ax.set_xlabel('CO2 (ppm)')\n",
        "\n",
        "# Set the y-axis label to \"Relative temperature (C)\"\n",
        "ax.set_ylabel('Relative temperature (C)')\n",
        "\n",
        "plt.show()"
      ],
      "metadata": {
        "id": "p7_g6480pPgi"
      },
      "execution_count": null,
      "outputs": []
    },
    {
      "cell_type": "markdown",
      "source": [
        "Encoding time by color"
      ],
      "metadata": {
        "id": "U0kKAtAgqHHl"
      }
    },
    {
      "cell_type": "code",
      "source": [
        "fig, ax = plt.subplots()\n",
        "\n",
        "# Add data: \"co2\", \"relative_temp\" as x-y, index as color\n",
        "ax.scatter (climate_change['co2'], climate_change['relative_temp'], c=climate_change.index)\n",
        "\n",
        "# Set the x-axis label to \"CO2 (ppm)\"\n",
        "ax.set_xlabel('CO2 (ppm)')\n",
        "\n",
        "# Set the y-axis label to \"Relative temperature (C)\"\n",
        "ax.set_ylabel('Relative temperature (C)')\n",
        "\n",
        "plt.show()"
      ],
      "metadata": {
        "id": "g-UOEyFfqJQ0"
      },
      "execution_count": null,
      "outputs": []
    },
    {
      "cell_type": "markdown",
      "source": [
        "Switching between styles"
      ],
      "metadata": {
        "id": "Bm0xKAMFwV-J"
      }
    },
    {
      "cell_type": "code",
      "source": [
        "# Use the \"ggplot\" style and create new Figure/Axes\n",
        "plt.style.use('ggplot')\n",
        "fig,ax = plt.subplots()\n",
        "\n",
        "ax.plot(seattle_weather[\"MONTH\"], seattle_weather[\"MLY-TAVG-NORMAL\"])\n",
        "plt.show()\n",
        "\n",
        "\n",
        "# Use the \"Solarize_Light2\" style and create new Figure/Axes\n",
        "plt.style.use ('Solarize_Light2')\n",
        "fig, ax = plt.subplots()\n",
        "ax.plot(austin_weather[\"MONTH\"], austin_weather[\"MLY-TAVG-NORMAL\"])\n",
        "plt.show()\n",
        "\n",
        "Save a figure with different sizes"
      ],
      "metadata": {
        "id": "GdMSIQFhwYPG"
      },
      "execution_count": null,
      "outputs": []
    },
    {
      "cell_type": "code",
      "source": [
        "# Set figure dimensions and save as a PNG\n",
        "fig.set_size_inches([3, 5])\n",
        "fig.savefig('figure_3_5.png')\n",
        "\n"
      ],
      "metadata": {
        "id": "iC4FZWKtzjf-"
      },
      "execution_count": null,
      "outputs": []
    },
    {
      "cell_type": "markdown",
      "source": [
        "AUTOMATING FIGURES FROM A COLUMN- \n",
        "Unique Values of a Column\n"
      ],
      "metadata": {
        "id": "Hp-ZHLFX2j6a"
      }
    },
    {
      "cell_type": "code",
      "source": [
        "# Extract the \"Sport\" column\n",
        "sports_column = summer_2016_medals[\"Sport\"]\n",
        "\n",
        "# Find the unique values of the \"Sport\" column\n",
        "sports = summer_2016_medals[\"Sport\"].unique()\n",
        "# Print out the unique sports values\n",
        "print(sports)"
      ],
      "metadata": {
        "id": "fRHFaYhy2rri"
      },
      "execution_count": null,
      "outputs": []
    },
    {
      "cell_type": "markdown",
      "source": [
        "Automate your visualisation"
      ],
      "metadata": {
        "id": "dyORH_tQ25-h"
      }
    },
    {
      "cell_type": "code",
      "source": [
        "fig, ax = plt.subplots()\n",
        "\n",
        "# Loop over the different sports branches. Iterate over the values of sports setting sport as your loop variable.\n",
        "for sport in sports:\n",
        "  # Extract the rows only for this sport. In each iteration, extract the rows where the \"Sport\" column is equal to sport.\n",
        "  sport_df = summer_2016_medals[summer_2016_medals[\"Sport\"]==sport]\n",
        "  # Add a bar for the \"Weight\" mean with std y error bar\n",
        "  ax.bar(sport, sport_df[\"Weight\"].mean(), yerr=sport_df[\"Weight\"].std())\n",
        "\n",
        "ax.set_ylabel(\"Weight\")\n",
        "ax.set_xticklabels(sports, rotation=90)\n",
        "\n",
        "# Save the figure to file\n",
        "fig.savefig(\"sports_weights.png\")"
      ],
      "metadata": {
        "id": "GtI_MuxU28v7"
      },
      "execution_count": null,
      "outputs": []
    },
    {
      "cell_type": "markdown",
      "source": [
        ""
      ],
      "metadata": {
        "id": "1MnU_eHztNiP"
      }
    }
  ]
}