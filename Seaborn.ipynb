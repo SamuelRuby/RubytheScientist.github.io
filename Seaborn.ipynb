{
  "nbformat": 4,
  "nbformat_minor": 0,
  "metadata": {
    "colab": {
      "name": "Seaborn",
      "provenance": [],
      "collapsed_sections": [],
      "authorship_tag": "ABX9TyMvEGYtaVFNiuVlNa8JMJJc",
      "include_colab_link": true
    },
    "kernelspec": {
      "name": "python3",
      "display_name": "Python 3"
    },
    "language_info": {
      "name": "python"
    }
  },
  "cells": [
    {
      "cell_type": "markdown",
      "metadata": {
        "id": "view-in-github",
        "colab_type": "text"
      },
      "source": [
        "<a href=\"https://colab.research.google.com/github/SamuelRuby/RubytheScientist.github.io/blob/main/Seaborn.ipynb\" target=\"_parent\"><img src=\"https://colab.research.google.com/assets/colab-badge.svg\" alt=\"Open In Colab\"/></a>"
      ]
    },
    {
      "cell_type": "code",
      "execution_count": null,
      "metadata": {
        "id": "ydy9Wu7UkOi0"
      },
      "outputs": [],
      "source": [
        ""
      ]
    },
    {
      "cell_type": "markdown",
      "source": [
        "Making a scatter plot with lists"
      ],
      "metadata": {
        "id": "LsubqLMMkSHQ"
      }
    },
    {
      "cell_type": "code",
      "source": [
        "# Import Matplotlib and Seaborn\n",
        "import matplotlib.pyplot as plt\n",
        "import seaborn as sns\n",
        "\n",
        "# Change this scatter plot to have percent literate on the y-axis\n",
        "sns.scatterplot(x=gdp, y=percent_literate)\n",
        "\n",
        "# Show plot\n",
        "plt.show()\n",
        "\n",
        "\n",
        "\n",
        "\n",
        "# Import Matplotlib and Seaborn\n",
        "import seaborn as sns\n",
        "import matplotlib.pyplot as plt\n",
        "\n",
        "\n",
        "# Create count plot with region on the y-axis\n",
        "sns.countplot(y= region)\n",
        "\n",
        "# Show plot\n",
        "plt.show()\n"
      ],
      "metadata": {
        "id": "_ITDpDX-kV0L"
      },
      "execution_count": null,
      "outputs": []
    },
    {
      "cell_type": "markdown",
      "source": [
        "Making a countplot with a dataFrame\n"
      ],
      "metadata": {
        "id": "wbgU_AgFUB5d"
      }
    },
    {
      "cell_type": "code",
      "source": [
        "# Import Matplotlib, Pandas, and Seaborn\n",
        "import pandas as pd \n",
        "import matplotlib.pyplot as plt \n",
        "import seaborn as sns\n",
        "\n",
        "\n",
        "# Create a DataFrame from csv file\n",
        "df= pd.read_csv(csv_filepath)\n",
        "\n",
        "# Create a count plot with \"Spiders\" on the x-axis\n",
        "sns.countplot(x='Spiders', data=df)\n",
        "\n",
        "# Display the plot\n",
        "plt.show()\n",
        "\n"
      ],
      "metadata": {
        "id": "zAKWTXzBUFKT"
      },
      "execution_count": null,
      "outputs": []
    },
    {
      "cell_type": "markdown",
      "source": [
        "Hue and scatter plots"
      ],
      "metadata": {
        "id": "_Dd9fhMJWlUU"
      }
    },
    {
      "cell_type": "code",
      "source": [
        "# Import Matplotlib and Seaborn\n",
        "import matplotlib.pyplot as plt\n",
        "import seaborn as sns\n",
        "\n",
        "# Change the legend order in the scatter plot\n",
        "sns.scatterplot(x=\"absences\", y=\"G3\", \n",
        "                data=student_data, \n",
        "                hue=\"location\", hue_order=['Rural', 'Urban'])\n",
        "\n",
        "# Show plot\n",
        "plt.show()"
      ],
      "metadata": {
        "id": "dYURQbfCWm9R"
      },
      "execution_count": null,
      "outputs": []
    },
    {
      "cell_type": "markdown",
      "source": [
        "Hue and Countplots"
      ],
      "metadata": {
        "id": "SUkyZDqWX78g"
      }
    },
    {
      "cell_type": "code",
      "source": [
        "# Import Matplotlib and Seaborn\n",
        "import matplotlib.pyplot as plt\n",
        "import seaborn as sns\n",
        "\n",
        "# Create a dictionary mapping subgroup values to colors\n",
        "palette_colors = {'Rural': \"green\", 'Urban': \"blue\"}\n",
        "\n",
        "# Create a count plot of school with location subgroups\n",
        "sns.countplot(x='school', data = student_data, hue='location', palette = {'Rural': 'green', 'Urban': 'blue'})\n",
        "\n",
        "# Display plot\n",
        "plt.show()\n"
      ],
      "metadata": {
        "id": "sPpnVIhkX9up"
      },
      "execution_count": null,
      "outputs": []
    },
    {
      "cell_type": "markdown",
      "source": [
        "Creating subplots with columns and rows"
      ],
      "metadata": {
        "id": "-1gmgsl0ezOd"
      }
    },
    {
      "cell_type": "code",
      "source": [
        "# Change this scatter plot to arrange the plots in rows instead of columns\n",
        "sns.relplot(x=\"absences\", y=\"G3\", \n",
        "            data=student_data,\n",
        "            kind=\"scatter\", \n",
        "            row=\"study_time\")\n",
        "\n",
        "# Show plot\n",
        "plt.show()"
      ],
      "metadata": {
        "id": "sIbo1JZve2Sv"
      },
      "execution_count": null,
      "outputs": []
    },
    {
      "cell_type": "markdown",
      "source": [
        "Creating two-factor subplots"
      ],
      "metadata": {
        "id": "KNevEHbegcXT"
      }
    },
    {
      "cell_type": "code",
      "source": [
        "# Adjust further to add subplots based on family support\n",
        "sns.relplot(x=\"G1\", y=\"G3\", \n",
        "            data=student_data,\n",
        "            kind=\"scatter\", \n",
        "            col=\"schoolsup\",\n",
        "            col_order=[\"yes\", \"no\"], row = 'famsup', row_order = ['yes', 'no'])\n",
        "\n",
        "# Show plot\n",
        "plt.show()"
      ],
      "metadata": {
        "id": "3ztjRGJigf61"
      },
      "execution_count": null,
      "outputs": []
    },
    {
      "cell_type": "markdown",
      "source": [
        "Changing the size of scatter plot points"
      ],
      "metadata": {
        "id": "0XXIg0I5iYOd"
      }
    },
    {
      "cell_type": "code",
      "source": [
        "# Import Matplotlib and Seaborn\n",
        "import matplotlib.pyplot as plt\n",
        "import seaborn as sns\n",
        "\n",
        "# Create scatter plot of horsepower vs. mpg\n",
        "sns.relplot(x=\"horsepower\", y=\"mpg\", \n",
        "            data=mpg, kind=\"scatter\", \n",
        "            size=\"cylinders\", hue= 'cylinders')\n",
        "\n",
        "# Show plot\n",
        "plt.show()\n",
        "\n",
        "\n",
        "# Import Matplotlib and Seaborn\n",
        "import matplotlib.pyplot as plt\n",
        "import seaborn as sns\n",
        "\n",
        "# Create a scatter plot of acceleration vs. mpg\n",
        "sns.relplot(x='acceleration',y='mpg', data=mpg, kind='scatter',style='origin', hue='origin')\n",
        "\n",
        "\n",
        "\n",
        "# Show plot\n",
        "plt.show()\n"
      ],
      "metadata": {
        "id": "sfUjf7y6ib8J"
      },
      "execution_count": null,
      "outputs": []
    },
    {
      "cell_type": "markdown",
      "source": [
        "Interpreting Line plots"
      ],
      "metadata": {
        "id": "hyEl9tZ8lTwP"
      }
    },
    {
      "cell_type": "code",
      "source": [
        "# Import Matplotlib and Seaborn\n",
        "import matplotlib.pyplot as plt\n",
        "import seaborn as sns\n",
        "\n",
        "# Create line plot\n",
        "sns.relplot(x='model_year', y='mpg',data=mpg, kind='line')\n",
        "\n",
        "\n",
        "# Show plot\n",
        "plt.show()"
      ],
      "metadata": {
        "id": "pv2-8Z4LlWCl"
      },
      "execution_count": null,
      "outputs": []
    },
    {
      "cell_type": "markdown",
      "source": [
        "visualizing standard deviation with line plots"
      ],
      "metadata": {
        "id": "BBmpfrZemIxu"
      }
    },
    {
      "cell_type": "code",
      "source": [
        "# Make the shaded area show the standard deviation\n",
        "sns.relplot(x=\"model_year\", y=\"mpg\",\n",
        "            data=mpg, kind=\"line\", ci='sd')\n",
        "\n",
        "# Show plot\n",
        "plt.show()"
      ],
      "metadata": {
        "id": "nt3hLAuamORs"
      },
      "execution_count": null,
      "outputs": []
    },
    {
      "cell_type": "markdown",
      "source": [
        "plotting subgroups in lineplots"
      ],
      "metadata": {
        "id": "AEnoHhqjnRUD"
      }
    },
    {
      "cell_type": "code",
      "source": [
        "# First, Import Matplotlib and Seaborn\n",
        "import matplotlib.pyplot as plt\n",
        "import seaborn as sns\n",
        "\n",
        "# Create line plot of model year vs. horsepower\n",
        "sns.relplot(x='model_year', y='horsepower', data=mpg, kind='line', ci=None)\n",
        "\n",
        "\n",
        "\n",
        "# Show plot\n",
        "plt.show()\n",
        "\n",
        "\n",
        "# secondly, Import Matplotlib and Seaborn\n",
        "import matplotlib.pyplot as plt\n",
        "import seaborn as sns\n",
        "\n",
        "# Change to create subgroups for country of origin\n",
        "sns.relplot(x=\"model_year\", y=\"horsepower\", \n",
        "            data=mpg, kind=\"line\", style='origin',hue= 'origin',ci=None)\n",
        "\n",
        "# Show plot\n",
        "plt.show()\n",
        "\n",
        "# Thirdly, Import Matplotlib and Seaborn\n",
        "import matplotlib.pyplot as plt\n",
        "import seaborn as sns\n",
        "\n",
        "# Add markers and make each line have the same style\n",
        "sns.relplot(x=\"model_year\", y=\"horsepower\", \n",
        "            data=mpg, kind=\"line\", \n",
        "            ci=None, style=\"origin\", \n",
        "            hue=\"origin\", markers=True, dashes=False)\n",
        "\n",
        "# Show plot\n",
        "plt.show()"
      ],
      "metadata": {
        "id": "VvaHg0OAnUg4"
      },
      "execution_count": null,
      "outputs": []
    },
    {
      "cell_type": "markdown",
      "source": [
        "Count plots"
      ],
      "metadata": {
        "id": "hgfScFW3z1RG"
      }
    },
    {
      "cell_type": "code",
      "source": [
        "# Separate into column subplots based on age category\n",
        "sns.catplot(y=\"Internet usage\", data=survey_data,\n",
        "            kind=\"count\", col=\"Age Category\")\n",
        "\n",
        "# Show plot\n",
        "plt.show()"
      ],
      "metadata": {
        "id": "Pwyk-dCIz2sy"
      },
      "execution_count": null,
      "outputs": []
    },
    {
      "cell_type": "markdown",
      "source": [
        "Bar plots with percentages"
      ],
      "metadata": {
        "id": "NC-qveCKz_gp"
      }
    },
    {
      "cell_type": "code",
      "source": [
        "# Create a bar plot of interest in math, separated by gender\n",
        "sns.catplot(x=\"Gender\", y=\"Interested in Math\",\n",
        "            data=survey_data, kind=\"bar\")\n",
        "\n",
        "\n",
        "# Show plot\n",
        "plt.show()"
      ],
      "metadata": {
        "id": "uqBW6ieE0Buj"
      },
      "execution_count": null,
      "outputs": []
    },
    {
      "cell_type": "markdown",
      "source": [
        "Customizing bar plots"
      ],
      "metadata": {
        "id": "Qke4VNId0PjJ"
      }
    },
    {
      "cell_type": "code",
      "source": [
        "# Create bar plot of average final grade in each study category\n",
        "sns.catplot(x=\"study_time\", y=\"G3\",\n",
        "            data=student_data,\n",
        "            kind=\"bar\",\n",
        "            order=[\"<2 hours\",\n",
        "                   \"2 to 5 hours\",\n",
        "                   \"5 to 10 hours\",\n",
        "                   \">10 hours\"])\n",
        "\n",
        "# Show plot\n",
        "plt.show()\n",
        "\n",
        "\n",
        "\n",
        "# List of categories from lowest to highest\n",
        "sns.catplot(x=\"study_time\", y=\"G3\",\n",
        "            data=student_data,\n",
        "            kind=\"bar\",\n",
        "            order=[\"<2 hours\",\n",
        "                   \"2 to 5 hours\",\n",
        "                   \"5 to 10 hours\",\n",
        "                   \">10 hours\"])\n",
        "\n",
        "# Show plot\n",
        "plt.show()\n",
        "\n",
        "\n",
        "\n",
        "# List of categories from lowest to highest\n",
        "sns.catplot(x=\"study_time\", y=\"G3\",\n",
        "            data=student_data,\n",
        "            kind=\"bar\",\n",
        "            order=[\"<2 hours\",\n",
        "                   \"2 to 5 hours\",\n",
        "                   \"5 to 10 hours\",\n",
        "                   \">10 hours\"],\n",
        "            ci=None)\n",
        "\n",
        "# Show plot\n",
        "plt.show()"
      ],
      "metadata": {
        "id": "jXonI2FO0SEs"
      },
      "execution_count": null,
      "outputs": []
    },
    {
      "cell_type": "markdown",
      "source": [
        "Creating and interpreting a boxplot"
      ],
      "metadata": {
        "id": "tUudEoGG2Pt2"
      }
    },
    {
      "cell_type": "code",
      "source": [
        "# Specify the category ordering\n",
        "study_time_order = [\"<2 hours\", \"2 to 5 hours\",\n",
        "                    \"5 to 10 hours\", \">10 hours\"]\n",
        "\n",
        "# Create a box plot and set the order of the categories\n",
        "sns.catplot(x=\"study_time\", y=\"G3\",\n",
        "            data=student_data,\n",
        "            kind=\"box\",\n",
        "            order=study_time_order)\n",
        "\n",
        "# Show plot\n",
        "plt.show()"
      ],
      "metadata": {
        "id": "5BmC57EF2T-T"
      },
      "execution_count": null,
      "outputs": []
    },
    {
      "cell_type": "markdown",
      "source": [
        "Omitting Outliers"
      ],
      "metadata": {
        "id": "mi84Z1CB2coE"
      }
    },
    {
      "cell_type": "code",
      "source": [
        "# Create a box plot with subgroups and omit the outliers\n",
        "sns.catplot(x=\"internet\", y=\"G3\",\n",
        "            data=student_data,\n",
        "            kind=\"box\",\n",
        "            hue=\"location\",\n",
        "            sym=\"\")\n",
        "\n",
        "# Show plot\n",
        "plt.show()"
      ],
      "metadata": {
        "id": "37gIv9Mp2ep2"
      },
      "execution_count": null,
      "outputs": []
    },
    {
      "cell_type": "markdown",
      "source": [
        "Adjusting Whiskers"
      ],
      "metadata": {
        "id": "cS-Li9Kf2_H2"
      }
    },
    {
      "cell_type": "code",
      "source": [
        "# Set the whiskers to 0.5 * IQR\n",
        "sns.catplot(x=\"romantic\", y=\"G3\",\n",
        "            data=student_data,\n",
        "            kind=\"box\",\n",
        "            whis=0.5)\n",
        "\n",
        "# Show plot\n",
        "plt.show()\n",
        "\n",
        "\n",
        "# Extend the whiskers to the 5th and 95th percentile\n",
        "sns.catplot(x=\"romantic\", y=\"G3\",\n",
        "            data=student_data,\n",
        "            kind=\"box\",\n",
        "            whis=[5, 95])\n",
        "\n",
        "# Show plot\n",
        "plt.show()\n",
        "\n",
        "\n",
        "sns.catplot(x=\"romantic\", y=\"G3\",\n",
        "            data=student_data,\n",
        "            kind=\"box\",\n",
        "            whis=[0, 100])\n",
        "\n",
        "# Show plot\n",
        "plt.show()"
      ],
      "metadata": {
        "id": "k22xsUJy3BfN"
      },
      "execution_count": null,
      "outputs": []
    },
    {
      "cell_type": "markdown",
      "source": [
        "Customizing point plots"
      ],
      "metadata": {
        "id": "UFTwQDrY4mub"
      }
    },
    {
      "cell_type": "code",
      "source": [
        "# Create a point plot of family relationship vs. absences\n",
        "sns.catplot(x=\"famrel\", y=\"absences\",\n",
        "            data=student_data,\n",
        "            kind=\"point\")\n",
        "            \n",
        "# Show plot\n",
        "plt.show()\n",
        "\n",
        "\n",
        "sns.catplot(x=\"famrel\", y=\"absences\",\n",
        "            data=student_data,\n",
        "            kind=\"point\",\n",
        "            capsize=0.2)\n",
        "\n",
        "# Remove the lines joining the points\n",
        "sns.catplot(x=\"famrel\", y=\"absences\",\n",
        "\t\t\tdata=student_data,\n",
        "            kind=\"point\",\n",
        "            capsize=0.2, join=False)\n",
        "            \n",
        "# Show plot\n",
        "plt.show()"
      ],
      "metadata": {
        "id": "qILU3JDm4pnM"
      },
      "execution_count": null,
      "outputs": []
    },
    {
      "cell_type": "markdown",
      "source": [
        "Pointplots with subgroups"
      ],
      "metadata": {
        "id": "Dn8KIoA_5F-T"
      }
    },
    {
      "cell_type": "code",
      "source": [
        "# Create a point plot that uses color to create subgroups\n",
        "sns.catplot(x=\"romantic\", y=\"absences\",\n",
        "            data=student_data,\n",
        "            kind=\"point\",\n",
        "            hue=\"school\")\n",
        "\n",
        "# Show plot\n",
        "plt.show()\n",
        "\n",
        "# Turn off the confidence intervals for this plot\n",
        "sns.catplot(x=\"romantic\", y=\"absences\",\n",
        "\t\t\tdata=student_data,\n",
        "            kind=\"point\",\n",
        "            hue=\"school\", ci=None)\n",
        "\n",
        "# Show plot\n",
        "plt.show()\n",
        "\n",
        "# Import median function from numpy\n",
        "from numpy import median\n",
        "\n",
        "# Plot the median number of absences instead of the mean\n",
        "sns.catplot(x=\"romantic\", y=\"absences\",\n",
        "\t\t\tdata=student_data,\n",
        "            kind=\"point\",\n",
        "            hue=\"school\",\n",
        "            ci=None, estimator=median)\n",
        "\n",
        "# Show plot\n",
        "plt.show()\n"
      ],
      "metadata": {
        "id": "34iMLcaw5Ipa"
      },
      "execution_count": null,
      "outputs": []
    },
    {
      "cell_type": "markdown",
      "source": [
        "Changing style and Palette\n"
      ],
      "metadata": {
        "id": "D-HeUMI2T1Yk"
      }
    },
    {
      "cell_type": "code",
      "source": [
        "# Change the color palette to \"RdBu\"\n",
        "sns.set_style(\"whitegrid\")\n",
        "sns.set_palette(\"RdBu\")\n",
        "\n",
        "# Create a count plot of survey responses\n",
        "category_order = [\"Never\", \"Rarely\", \"Sometimes\", \n",
        "                  \"Often\", \"Always\"]\n",
        "\n",
        "sns.catplot(x=\"Parents Advice\", \n",
        "            data=survey_data, \n",
        "            kind=\"count\", \n",
        "            order=category_order)\n",
        "\n",
        "# Show plot\n",
        "plt.show()"
      ],
      "metadata": {
        "id": "o6sAA_NcT4Em"
      },
      "execution_count": null,
      "outputs": []
    },
    {
      "cell_type": "markdown",
      "source": [
        "Changing the scale"
      ],
      "metadata": {
        "id": "TPZw3xxgUHPp"
      }
    },
    {
      "cell_type": "code",
      "source": [
        "# Set the context to \"paper\"\n",
        "sns.set_context ('paper')\n",
        "\n",
        "# Create bar plot\n",
        "sns.catplot(x=\"Number of Siblings\", y=\"Feels Lonely\",\n",
        "            data=survey_data, kind=\"bar\")\n",
        "\n",
        "# Show plot\n",
        "plt.show()\n",
        "\n",
        "\n",
        "# Change the context to \"poster\"\n",
        "sns.set_context(\"poster\")\n",
        "\n",
        "# Create bar plot\n",
        "sns.catplot(x=\"Number of Siblings\", y=\"Feels Lonely\",\n",
        "            data=survey_data, kind=\"bar\")\n",
        "\n",
        "# Show plot\n",
        "plt.show()"
      ],
      "metadata": {
        "id": "nMEPXIowUI_p"
      },
      "execution_count": null,
      "outputs": []
    },
    {
      "cell_type": "markdown",
      "source": [
        "Using a custom palette"
      ],
      "metadata": {
        "id": "Uf2LLD5KVYZl"
      }
    },
    {
      "cell_type": "code",
      "source": [
        "# Set the style to \"darkgrid\"\n",
        "sns.set_style ('darkgrid')\n",
        "\n",
        "# Set a custom color palette\n",
        "custom_palette= ['#39A7D0', '#36ADA4']\n",
        "sns.set_palette (custom_palette)\n",
        "# Create the box plot of age distribution by gender\n",
        "sns.catplot(x=\"Gender\", y=\"Age\", \n",
        "            data=survey_data, kind=\"box\")\n",
        "\n",
        "# Show plot\n",
        "plt.show()"
      ],
      "metadata": {
        "id": "mA_7oHN5Vaap"
      },
      "execution_count": null,
      "outputs": []
    },
    {
      "cell_type": "markdown",
      "source": [
        "Adding a title and axis labels"
      ],
      "metadata": {
        "id": "3E2ohZvhaoW1"
      }
    },
    {
      "cell_type": "code",
      "source": [
        "# Create line plot\n",
        "g = sns.lineplot(x=\"model_year\", y=\"mpg_mean\", \n",
        "                 data=mpg_mean,\n",
        "                 hue=\"origin\")\n",
        "\n",
        "# Add a title \"Average MPG Over Time\"\n",
        "g.set_title(\"Average MPG Over Time\")\n",
        "\n",
        "# Add x-axis and y-axis labels\n",
        "g.set (xlabel = 'Car Model Year', ylabel= 'Average MPG')\n",
        "\n",
        "\n",
        "# Show plot\n",
        "plt.show()"
      ],
      "metadata": {
        "id": "n_LSCNGEaq1-"
      },
      "execution_count": null,
      "outputs": []
    },
    {
      "cell_type": "markdown",
      "source": [
        "Rotating x-tick Labels"
      ],
      "metadata": {
        "id": "EDWMFJvKa2tn"
      }
    },
    {
      "cell_type": "code",
      "source": [
        "# Create point plot\n",
        "sns.catplot(x=\"origin\", \n",
        "            y=\"acceleration\", \n",
        "            data=mpg, \n",
        "            kind=\"point\", \n",
        "            join=False, \n",
        "            capsize=0.1)\n",
        "\n",
        "# Rotate x-tick labels\n",
        "plt.xticks(rotation=90)\n",
        "\n",
        "# Show plot\n",
        "plt.show()"
      ],
      "metadata": {
        "id": "g9C7u90Sa5hS"
      },
      "execution_count": null,
      "outputs": []
    },
    {
      "cell_type": "markdown",
      "source": [
        "Box plots with subgroups"
      ],
      "metadata": {
        "id": "P8GNsM39dx4O"
      }
    },
    {
      "cell_type": "code",
      "source": [
        "# Set palette to \"Blues\"\n",
        "sns.set_palette ('Blues')\n",
        "\n",
        "# Adjust to add subgroups based on \"Interested in Pets\"\n",
        "g = sns.catplot(x=\"Gender\",\n",
        "                y=\"Age\", data=survey_data, \n",
        "                kind=\"box\", hue= 'Interested in Pets')\n",
        "\n",
        "# Set title to \"Age of Those Interested in Pets vs. Not\"\n",
        "g.fig.suptitle (\"Age of Those Interested in Pets vs. Not\")\n",
        "\n",
        "# Show plot\n",
        "plt.show()"
      ],
      "metadata": {
        "id": "en9jYw_Yd0cx"
      },
      "execution_count": null,
      "outputs": []
    },
    {
      "cell_type": "markdown",
      "source": [
        "Bar plot with subgroups and subplots"
      ],
      "metadata": {
        "id": "zmnIZKEse7cJ"
      }
    },
    {
      "cell_type": "code",
      "source": [
        "# Set the figure style to \"dark\"\n",
        "sns.set_style ('dark')\n",
        "\n",
        "# Adjust to add subplots per gender\n",
        "g = sns.catplot(x=\"Village - town\", y=\"Likes Techno\", \n",
        "                data=survey_data, kind=\"bar\",\n",
        "                col = 'Gender')\n",
        "\n",
        "# Add title and axis labels\n",
        "g.fig.suptitle(\"Percentage of Young People Who Like Techno\", y=1.02)\n",
        "g.set(xlabel=\"Location of Residence\", \n",
        "       ylabel=\"% Who Like Techno\")\n",
        "\n",
        "# Show plot\n",
        "plt.show()"
      ],
      "metadata": {
        "id": "A_yX1wSkfBEx"
      },
      "execution_count": null,
      "outputs": []
    },
    {
      "cell_type": "code",
      "source": [
        ""
      ],
      "metadata": {
        "id": "cP8lQYlLYh8u"
      },
      "execution_count": null,
      "outputs": []
    },
    {
      "cell_type": "markdown",
      "source": [
        "Using default palettes"
      ],
      "metadata": {
        "id": "pMx8clN0h8Ww"
      }
    },
    {
      "cell_type": "code",
      "source": [
        "# Loop through differences between bright and colorblind palettes\n",
        "for p in ['bright', 'colorblind']:\n",
        "    sns.set_palette(p)\n",
        "    sns.distplot(df['fmr_3'])\n",
        "    plt.show()\n",
        "    \n",
        "    # Clear the plots    \n",
        "    plt.clf()"
      ],
      "metadata": {
        "id": "LDDYEmc4h-8_"
      },
      "execution_count": null,
      "outputs": []
    },
    {
      "cell_type": "markdown",
      "source": [
        "Custom Palettes"
      ],
      "metadata": {
        "id": "ltH2TTitjJjI"
      }
    },
    {
      "cell_type": "code",
      "source": [
        "#purple sequential palette\n",
        "sns.palplot(sns.color_palette ('Purples', 8))\n",
        "plt.show()\n",
        "\n",
        "#palette with 10 colors\n",
        "sns.palplot(sns.color_palette('husl', 10))\n",
        "plt.show()\n",
        "\n",
        "#diverging palette with coolwarm\n",
        "sns.palplot(sns.color_palette('coolwarm', 6))\n",
        "plt.show()"
      ],
      "metadata": {
        "id": "uSIxjVJZjLLV"
      },
      "execution_count": null,
      "outputs": []
    },
    {
      "cell_type": "markdown",
      "source": [
        "Using matplotlib axis"
      ],
      "metadata": {
        "id": "ueip1Rr3mpUG"
      }
    },
    {
      "cell_type": "code",
      "source": [
        "# Create a figure and axes\n",
        "fig, ax = plt.subplots()\n",
        "\n",
        "# Plot the distribution of data\n",
        "sns.distplot(df['fmr_3'], ax=ax)\n",
        "\n",
        "# Create a more descriptive x axis label\n",
        "ax.set(xlabel=\"3 Bedroom Fair Market Rent\")\n",
        "\n",
        "# Show the plot\n",
        "plt.show()\n",
        "\n",
        "\n",
        "#More customization\n",
        "# Create a figure and axes\n",
        "fig,ax = plt.subplots()\n",
        "\n",
        "# Plot the distribution of 1 bedroom rents\n",
        "sns.distplot(df['fmr_1'], ax=ax)\n",
        "\n",
        "# Modify the properties of the plot\n",
        "ax.set(xlabel=\"1 Bedroom Fair Market Rent\",\n",
        "       xlim=(100, 1500),\n",
        "       title=\"US Rent\")\n",
        "\n",
        "# Display the plot\n",
        "plt.show()\n"
      ],
      "metadata": {
        "id": "Vd0m0G5DmtFw"
      },
      "execution_count": null,
      "outputs": []
    },
    {
      "cell_type": "markdown",
      "source": [
        "Adding annotations"
      ],
      "metadata": {
        "id": "V-SkA9LEnwF7"
      }
    },
    {
      "cell_type": "code",
      "source": [
        "# Create a figure and axes. Then plot the data\n",
        "fig, ax = plt.subplots()\n",
        "sns.distplot(df['fmr_1'], ax=ax)\n",
        "\n",
        "# Customize the labels and limits\n",
        "ax.set(xlabel=\"1 Bedroom Fair Market Rent\", xlim=(100,1500), title=\"US Rent\")\n",
        "\n",
        "# Add vertical lines for the median and mean\n",
        "ax.axvline(x=median, color='m', label='Median', linestyle='--', linewidth=2)\n",
        "ax.axvline(x=mean, color='b', label='Mean', linestyle='-', linewidth=2)\n",
        "\n",
        "# Show the legend and plot the data\n",
        "ax.legend()\n",
        "plt.show()"
      ],
      "metadata": {
        "id": "FD5O4gJdnx3D"
      },
      "execution_count": null,
      "outputs": []
    },
    {
      "cell_type": "markdown",
      "source": [
        "Multiple Plots"
      ],
      "metadata": {
        "id": "lSXy4mFCoano"
      }
    },
    {
      "cell_type": "code",
      "source": [
        "# Create a plot with 1 row and 2 columns that share the y axis label\n",
        "fig, (ax0, ax1) = plt.subplots(nrows=1, ncols=2, sharey=True)\n",
        "\n",
        "# Plot the distribution of 1 bedroom apartments on ax0\n",
        "sns.distplot(df['fmr_1'], ax=ax0)\n",
        "ax0.set(xlabel=\"1 Bedroom Fair Market Rent\", xlim=(100,1500))\n",
        "\n",
        "# Plot the distribution of 2 bedroom apartments on ax1\n",
        "sns.distplot(df['fmr_2'], ax=ax1)\n",
        "ax1.set(xlabel=\"2 Bedroom Fair Market Rent\", xlim=(100,1500))\n",
        "\n",
        "# Display the plot\n",
        "plt.show()"
      ],
      "metadata": {
        "id": "LL7eoT_locPP"
      },
      "execution_count": null,
      "outputs": []
    },
    {
      "cell_type": "markdown",
      "source": [
        "Creating heatmaps"
      ],
      "metadata": {
        "id": "H2SLCWxZeAZE"
      }
    },
    {
      "cell_type": "code",
      "source": [
        "# Create a crosstab table of the data\n",
        "pd_crosstab = pd.crosstab(df[\"Group\"], df[\"YEAR\"])\n",
        "print(pd_crosstab)\n",
        "\n",
        "# Plot a heatmap of the table\n",
        "sns.heatmap(pd_crosstab)\n",
        "\n",
        "# Rotate tick marks for visibility\n",
        "plt.yticks(rotation=0)\n",
        "plt.xticks(rotation=90)\n",
        "\n",
        "plt.show()\n",
        "\n"
      ],
      "metadata": {
        "id": "twQaJfYseCJ_"
      },
      "execution_count": null,
      "outputs": []
    },
    {
      "cell_type": "markdown",
      "source": [
        "Building a FacetGrid"
      ],
      "metadata": {
        "id": "m7NpjzvNW3fj"
      }
    },
    {
      "cell_type": "code",
      "source": [
        "# Create FacetGrid with Degree_Type and specify the order of the rows using row_order\n",
        "g2 = sns.FacetGrid(df, \n",
        "             row=\"Degree_Type\",\n",
        "             row_order=['Graduate', 'Bachelors', 'Associates', 'Certificate'])\n",
        "\n",
        "# Map a pointplot of SAT_AVG_ALL onto the grid\n",
        "g2.map(sns.pointplot, 'SAT_AVG_ALL')\n",
        "\n",
        "# Show the plot\n",
        "plt.show()\n",
        "plt.clf()"
      ],
      "metadata": {
        "id": "YSKFUgqaW5m8"
      },
      "execution_count": null,
      "outputs": []
    },
    {
      "cell_type": "markdown",
      "source": [
        "Factorplot"
      ],
      "metadata": {
        "id": "fBG4rKCGXLBJ"
      }
    },
    {
      "cell_type": "code",
      "source": [
        "# Create a factor plot that contains boxplots of Tuition values\n",
        "sns.factorplot(data=df,\n",
        "         x='Tuition',\n",
        "         kind='box',\n",
        "         row='Degree_Type')\n",
        "\n",
        "plt.show()\n",
        "plt.clf()\n",
        "\n",
        "\n",
        "# Create a facetted pointplot of Average SAT_AVG_ALL scores facetted by Degree Type \n",
        "sns.factorplot(data=df,\n",
        "        x='SAT_AVG_ALL',\n",
        "        kind='point',\n",
        "        row='Degree_Type',\n",
        "        row_order=['Graduate', 'Bachelors', 'Associates', 'Certificate'])\n",
        "\n",
        "plt.show()\n",
        "plt.clf()"
      ],
      "metadata": {
        "id": "4YVMo8jMXMTo"
      },
      "execution_count": null,
      "outputs": []
    },
    {
      "cell_type": "markdown",
      "source": [
        "Lmplot"
      ],
      "metadata": {
        "id": "ZrKqOwhhYmsq"
      }
    },
    {
      "cell_type": "code",
      "source": [
        "# Create a FacetGrid varying by column and columns ordered with the degree_order variable\n",
        "g = sns.FacetGrid(df, col=\"Degree_Type\", col_order=degree_ord)\n",
        "\n",
        "# Map a scatter plot of Undergrad Population compared to PCTPELL\n",
        "g.map(plt.scatter, 'UG', 'PCTPELL')\n",
        "\n",
        "plt.show()\n",
        "plt.clf()\n",
        "\n",
        "\n",
        "# Re-create the previous plot as an lmplot\n",
        "sns.lmplot(data=df,\n",
        "        x='UG',\n",
        "        y='PCTPELL',\n",
        "        col=\"Degree_Type\",\n",
        "        col_order=degree_ord)\n",
        "\n",
        "plt.show()\n",
        "plt.clf()\n",
        "\n",
        "\n",
        "\n",
        "# Create an lmplot that has a column for Ownership, a row for Degree_Type and hue based on the WOMENONLY column\n",
        "sns.lmplot(data=df,\n",
        "        x='SAT_AVG_ALL',\n",
        "        y='Tuition',\n",
        "        col=\"Ownership\",\n",
        "        row='Degree_Type',\n",
        "        row_order=['Graduate', 'Bachelors'],\n",
        "       hue='WOMENONLY',\n",
        "        col_order=inst_ord)\n",
        "\n",
        "plt.show()\n",
        "plt.clf()"
      ],
      "metadata": {
        "id": "MqFr1gFbYnms"
      },
      "execution_count": null,
      "outputs": []
    },
    {
      "cell_type": "markdown",
      "source": [
        "PairGrid"
      ],
      "metadata": {
        "id": "JSWu2GO6aPrw"
      }
    },
    {
      "cell_type": "code",
      "source": [
        "# Create a PairGrid with a scatter plot for fatal_collisions and premiums\n",
        "g = sns.PairGrid(df, vars=[\"fatal_collisions\", \"premiums\"])\n",
        "g2 = g.map(plt.scatter)\n",
        "\n",
        "plt.show()\n",
        "plt.clf()\n",
        "\n",
        "# Create the same PairGrid but map a histogram on the diag\n",
        "g = sns.PairGrid(df, vars=[\"fatal_collisions\", \"premiums\"])\n",
        "g2 = g.map_diag(plt.hist)\n",
        "g3 = g2.map_offdiag(plt.scatter)\n",
        "\n",
        "plt.show()\n",
        "plt.clf()"
      ],
      "metadata": {
        "id": "qyeW_aJ2aRAT"
      },
      "execution_count": null,
      "outputs": []
    },
    {
      "cell_type": "markdown",
      "source": [
        "Pairplot"
      ],
      "metadata": {
        "id": "HsMlB3LJa_-7"
      }
    },
    {
      "cell_type": "code",
      "source": [
        "# Create a pairwise plot of the variables using a scatter plot\n",
        "sns.pairplot(data=df,\n",
        "       vars=[\"fatal_collisions\", \"premiums\"],\n",
        "        kind='scatter')\n",
        "\n",
        "plt.show()\n",
        "plt.clf()\n",
        "\n",
        "\n",
        "# Plot the same data but use a different color palette and color code by Region\n",
        "sns.pairplot(data=df,\n",
        "       vars=[\"fatal_collisions\", \"premiums\"],\n",
        "        kind='scatter',\n",
        "        hue='Region',\n",
        "        palette='RdBu',\n",
        "        diag_kws={'alpha':.5})\n",
        "\n",
        "plt.show()\n",
        "plt.clf()\n",
        "\n",
        "\n",
        "#Additional Customizations\n",
        "# Build a pairplot with different x and y variables\n",
        "sns.pairplot(data=df,\n",
        "        x_vars=[\"fatal_collisions_speeding\", \"fatal_collisions_alc\"],\n",
        "        y_vars=['premiums', 'insurance_losses'],\n",
        "        kind='scatter',\n",
        "        hue='Region',\n",
        "        palette='husl')\n",
        "\n",
        "plt.show()\n",
        "plt.clf()\n",
        "\n",
        "\n",
        "# plot relationships between insurance_losses and premiums\n",
        "sns.pairplot(data=df,\n",
        "            vars=[\"insurance_losses\", \"premiums\"],\n",
        "             kind='reg',\n",
        "             palette='BrBG',\n",
        "             diag_kind = 'kde',\n",
        "             hue='Region')\n",
        "\n",
        "plt.show()\n",
        "plt.clf()"
      ],
      "metadata": {
        "id": "DOF0m8kXbA_Q"
      },
      "execution_count": null,
      "outputs": []
    },
    {
      "cell_type": "markdown",
      "source": [
        "JointGrid and Jointplot"
      ],
      "metadata": {
        "id": "badd3nFa_1eo"
      }
    },
    {
      "cell_type": "code",
      "source": [
        "# Build a JointGrid comparing humidity and total_rentals\n",
        "sns.set_style(\"whitegrid\")\n",
        "g = sns.JointGrid(x=\"hum\",\n",
        "            y=\"total_rentals\",\n",
        "            data=df,\n",
        "            xlim=(0.1, 1.0)) \n",
        "\n",
        "g.plot(sns.regplot, sns.distplot)\n",
        "\n",
        "plt.show()\n",
        "plt.clf()\n",
        "\n",
        "\n",
        "# Create a jointplot similar to the JointGrid \n",
        "sns.jointplot(x=\"hum\",\n",
        "        y=\"total_rentals\",\n",
        "        kind='reg',\n",
        "        data=df)\n",
        "\n",
        "plt.show()\n",
        "plt.clf()"
      ],
      "metadata": {
        "id": "ohDsopd3_3zp"
      },
      "execution_count": null,
      "outputs": []
    },
    {
      "cell_type": "markdown",
      "source": [
        "Jointplots and Regression"
      ],
      "metadata": {
        "id": "GdrMFJLUAbiR"
      }
    },
    {
      "cell_type": "code",
      "source": [
        "# Plot temp vs. total_rentals as a regression plot\n",
        "sns.jointplot(x=\"temp\",\n",
        "         y=\"total_rentals\",\n",
        "         kind='reg',\n",
        "         data=df,\n",
        "         order=2,\n",
        "         xlim=(0, 1))\n",
        "\n",
        "plt.show()\n",
        "plt.clf()\n",
        "\n",
        "\n",
        "# Plot a jointplot showing the residuals\n",
        "sns.jointplot(x=\"temp\",\n",
        "        y=\"total_rentals\",\n",
        "        kind='resid',\n",
        "        data=df,\n",
        "        order=2)\n",
        "\n",
        "plt.show()\n",
        "plt.clf()\n",
        "\n",
        "\n",
        "\n",
        "# Create a jointplot of temp vs. casual riders\n",
        "# Include a kdeplot over the scatter plot\n",
        "g = (sns.jointplot(x=\"temp\",\n",
        "             y=\"casual\",\n",
        "             kind='scatter',\n",
        "             data=df,\n",
        "             marginal_kws=dict(bins=10, rug=True))\n",
        "    .plot_joint(sns.kdeplot))\n",
        "    \n",
        "plt.show()\n",
        "plt.clf()\n",
        "\n",
        "# Replicate the previous plot but only for registered riders\n",
        "g = (sns.jointplot(x=\"temp\",\n",
        "             y=\"registered\",\n",
        "             kind='scatter',\n",
        "             data=df,\n",
        "             marginal_kws=dict(bins=10, rug=True))\n",
        "    .plot_joint(sns.kdeplot))\n",
        "\n",
        "plt.show()\n",
        "plt.clf()"
      ],
      "metadata": {
        "id": "mKk_oZoUAdkX"
      },
      "execution_count": null,
      "outputs": []
    }
  ]
}