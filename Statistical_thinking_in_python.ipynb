{
  "nbformat": 4,
  "nbformat_minor": 0,
  "metadata": {
    "colab": {
      "name": "Statistical thinking in python",
      "provenance": [],
      "collapsed_sections": [],
      "authorship_tag": "ABX9TyOrXzg1bcfLr8Q8dE8lOBdy",
      "include_colab_link": true
    },
    "kernelspec": {
      "name": "python3",
      "display_name": "Python 3"
    },
    "language_info": {
      "name": "python"
    }
  },
  "cells": [
    {
      "cell_type": "markdown",
      "metadata": {
        "id": "view-in-github",
        "colab_type": "text"
      },
      "source": [
        "<a href=\"https://colab.research.google.com/github/SamuelRuby/RubytheScientist.github.io/blob/main/Statistical_thinking_in_python.ipynb\" target=\"_parent\"><img src=\"https://colab.research.google.com/assets/colab-badge.svg\" alt=\"Open In Colab\"/></a>"
      ]
    },
    {
      "cell_type": "markdown",
      "source": [
        "Graphical exploratory data analysis"
      ],
      "metadata": {
        "id": "UmTFrW8NpaP4"
      }
    },
    {
      "cell_type": "code",
      "source": [
        "1. Plotting a histogram of iris data\n",
        "For the exercises in this section, you will use a classic data set collected by botanist Edward Anderson and made famous by Ronald Fisher, one of the most prolific statisticians in history. Anderson carefully measured the anatomical properties of samples of three different species of iris, Iris setosa, Iris versicolor, and Iris virginica. The full data set is available as part of scikit-learn. Here, you will work with his measurements of petal length.\n",
        "Plot a histogram of the petal lengths of his 50 samples of Iris versicolor using matplotlib/seaborn's default settings. Recall that to specify the default seaborn style, you can use sns.set(), where sns is the alias that seaborn is imported as.\n",
        "The subset of the data set containing the Iris versicolor petal lengths in units of centimeters (cm) is stored in the NumPy array versicolor_petal_length.\n",
        "In the video, Justin plotted the histograms by using the pandas library and indexing the DataFrame to extract the desired column. Here, however, you only need to use the provided NumPy array. Also, Justin assigned his plotting statements (except for plt.show()) to the dummy variable _. This is to prevent unnecessary output from being displayed. It is not required for your solutions to these exercises, however it is good practice to use it. Alternatively, if you are working in an interactive environment such as a Jupyter notebook, you could use a ; after your plotting statements to achieve the same effect. Justin prefers using _. Therefore, you will see it used in the solution code.\n",
        "INSTRUCTIONS\n",
        "100 XP\n",
        "Import matplotlib.pyplot and seaborn as their usual aliases (plt and sns).\n",
        "Use seaborn to set the plotting defaults.\n",
        "Plot a histogram of the Iris versicolor petal lengths using plt.hist() and the provided NumPy array versicolor_petal_length.\n",
        "Show the histogram using plt.show().\n",
        "'''\n",
        "# Import plotting modules\n",
        "import matplotlib.pyplot as plt\n",
        "import seaborn as sns\n",
        "\n",
        "# Set default Seaborn style\n",
        "sns.set()\n",
        "\n",
        "# Plot histogram of versicolor petal lengths\n",
        "plt.hist(versicolor_petal_length)\n",
        "\n",
        "# Show histogram\n",
        "plt.show()\n",
        "\n",
        "'''\n",
        "2. Axis labels!\n",
        "In the last exercise, you made a nice histogram of petal lengths of Iris versicolor, but you didn't label the axes! That's ok; it's not your fault since we didn't ask you to. Now, add axis labels to the plot using plt.xlabel() and plt.ylabel(). Don't forget to add units and assign both statements to _. The packages matplotlib.pyplot and seaborn are already imported with their standard aliases. This will be the case in what follows, unless specified otherwise.\n",
        "INSTRUCTIONS\n",
        "100 XP\n",
        "Label the axes. Don't forget that you should always include units in your axis labels. Your y-axis label is just 'count'. Your x-axis label is 'petal length (cm)'. The units are essential!\n",
        "Display the plot constructed in the above steps using plt.show().\n",
        "'''\n",
        "\n",
        "# Plot histogram of versicolor petal lengths\n",
        "_ = plt.hist(versicolor_petal_length)\n",
        "\n",
        "# Label axes\n",
        "_=plt.xlabel('petal length (cm)')\n",
        "_=plt.ylabel('count')\n",
        "\n",
        "\n",
        "# Show histogram\n",
        "plt.show()\n",
        "\n",
        "'''\n",
        "3. Adjusting the number of bins in a histogram\n",
        "The histogram you just made had ten bins. This is the default of matplotlib. The \"square root rule\" is a commonly-used rule of thumb for choosing number of bins: choose the number of bins to be the square root of the number of samples. Plot the histogram of Iris versicolor petal lengths again, this time using the square root rule for the number of bins. You specify the number of bins using the bins keyword argument of plt.hist().\n",
        "The plotting utilities are already imported and the seaborn defaults already set. The variable you defined in the last exercise, versicolor_petal_length, is already in your namespace.\n",
        "INSTRUCTIONS\n",
        "100 XP\n",
        "Import numpy as np. This gives access to the square root function, np.sqrt().\n",
        "Determine how many data points you have using len().\n",
        "Compute the number of bins using the square root rule.\n",
        "Convert the number of bins to an integer using the built in int() function.\n",
        "Generate the histogram and make sure to use the bins keyword argument.\n",
        "Hit 'Submit Answer' to plot the figure and see the fruit of your labors!\n",
        "'''\n",
        "\n",
        "# Import numpy\n",
        "import numpy as np\n",
        "\n",
        "# Compute number of data points: n_data\n",
        "n_data = len(versicolor_petal_length)\n",
        "\n",
        "# Number of bins is the square root of number of data points: n_bins\n",
        "n_bins = np.sqrt(n_data)\n",
        "\n",
        "# Convert number of bins to integer: n_bins\n",
        "n_bins = int(n_bins)\n",
        "\n",
        "# Plot the histogram\n",
        "_=plt.hist(versicolor_petal_length,bins = n_bins)\n",
        "\n",
        "# Label axes\n",
        "_ = plt.xlabel('petal length (cm)')\n",
        "_ = plt.ylabel('count')\n",
        "\n",
        "# Show histogram\n",
        "plt.show()\n",
        "\n",
        "'''\n",
        "4. Bee swarm plot\n",
        "Make a bee swarm plot of the iris petal lengths. Your x-axis should contain each of the three species, and the y-axis the petal lengths. A data frame containing the data is in your namespace as df.\n",
        "For your reference, the code Justin used to create the bee swarm plot in the video is provided below:\n",
        "_ = sns.swarmplot(x='state', y='dem_share', data=df_swing)\n",
        "_ = plt.xlabel('state')\n",
        "_ = plt.ylabel('percent of vote for Obama')\n",
        "plt.show()\n",
        "In the IPython Shell, you can use sns.swarmplot? or help(sns.swarmplot) for more details on how to make bee swarm plots using seaborn.\n",
        "INSTRUCTIONS\n",
        "100 XP\n",
        "In the IPython Shell, inspect the DataFrame df using df.head(). This will let you identify which column names you need to pass as the x and y keyword arguments in your call to sns.swarmplot().\n",
        "Use sns.swarmplot() to make a bee swarm plot from the DataFrame containing the Fisher iris data set, df. The x-axis should contain each of the three species, and the y-axis should contain the petal lengths.\n",
        "Label the axes.\n",
        "Show your plot.\n",
        "'''\n",
        "\n",
        "# Create bee swarm plot with Seaborn's default settings\n",
        "sns.swarmplot(x='species',y='petal length (cm)',data = df)\n",
        "\n",
        "# Label the axes\n",
        "plt.xlabel('species')\n",
        "plt.ylabel('petal length (cm)')\n",
        "\n",
        "# Show the plot\n",
        "plt.show()\n",
        "\n",
        "'''\n",
        "5. Computing the ECDF\n",
        "In this exercise, you will write a function that takes as input a 1D array of data and then returns the x and y values of the ECDF. You will use this function over and over again throughout this course and its sequel. ECDFs are among the most important plots in statistical analysis. You can write your own function, foo(x,y) according to the following skeleton:\n",
        "def foo(a,b):\n",
        "    \"\"\"State what function does here\"\"\"\n",
        "    # Computation performed here\n",
        "    return x, y\n",
        "The function foo() above takes two arguments a and b and returns two values x and y. The function header def foo(a,b): contains the function signature foo(a,b), which consists of the function name, along with its parameters. For more on writing your own functions, see DataCamp's course Python Data Science Toolbox (Part 1) here!\n",
        "INSTRUCTIONS\n",
        "100 XP\n",
        "Define a function with the signature ecdf(data). Within the function definition,\n",
        "Compute the number of data points, n, using the len() function.\n",
        "The x-values are the sorted data. Use the np.sort() function to perform the sorting.\n",
        "The y data of the ECDF go from 1/n to 1 in equally spaced increments. You can construct this using np.arange(). Remember, however, that the end value in np.arange() is not inclusive. Therefore, np.arange() will need to go from 1 to n+1. Be sure to divide this by n.\n",
        "The function returns the values x and y.\n",
        "'''\n",
        "\n",
        "def ecdf(data):\n",
        "    \"\"\"Compute ECDF for a one-dimensional array of measurements.\"\"\"\n",
        "    # Number of data points: n\n",
        "    n = len(data)\n",
        "\n",
        "    # x-data for the ECDF: x\n",
        "    x = np.sort(data)\n",
        "\n",
        "    # y-data for the ECDF: y\n",
        "    y = np.arange(1, n+1) / n\n",
        "\n",
        "    return x, y\n",
        "\n",
        "'''\n",
        "6. Plotting the ECDF\n",
        "You will now use your ecdf() function to compute the ECDF for the petal lengths of Anderson's Iris versicolor flowers. You will then plot the ECDF. Recall that your ecdf() function returns two arrays so you will need to unpack them. An example of such unpacking is x, y = foo(data), for some function foo().\n",
        "INSTRUCTIONS\n",
        "100 XP\n",
        "Use ecdf() to compute the ECDF of versicolor_petal_length. Unpack the output into x_vers and y_vers.\n",
        "Plot the ECDF as dots. Remember to include marker = '.' and linestyle = 'none' in addition to x_vers and y_vers as arguments inside plt.plot().\n",
        "Label the axes. You can label the y-axis 'ECDF'.\n",
        "Show your plot.\n",
        "'''\n",
        "\n",
        "# Compute ECDF for versicolor data: x_vers, y_vers\n",
        "x_vers, y_vers = ecdf(versicolor_petal_length)\n",
        "\n",
        "# Generate plot\n",
        "_ = plt.plot(x_vers,y_vers,marker = '.',linestyle = 'none')\n",
        "\n",
        "# Label the axes\n",
        "plt.xlabel('length')\n",
        "plt.ylabel('ECDF')\n",
        "\n",
        "\n",
        "# Display the plot\n",
        "plt.show()\n",
        "\n",
        "'''\n",
        "7. Comparison of ECDFs\n",
        "ECDFs also allow you to compare two or more distributions (though plots get cluttered if you have too many). Here, you will plot ECDFs for the petal lengths of all three iris species. You already wrote a function to generate ECDFs so you can put it to good use!\n",
        "To overlay all three ECDFs on the same plot, you can use plt.plot() three times, once for each ECDF. Remember to include marker='.' and linestyle='none' as arguments inside plt.plot().\n",
        "INSTRUCTIONS\n",
        "100 XP\n",
        "Compute ECDFs for each of the three species using your ecdf() function. The variables setosa_petal_length, versicolor_petal_length, and virginica_petal_length are all in your namespace. Unpack the ECDFs into x_set, y_set, x_vers, y_vers and x_virg, y_virg, respectively.\n",
        "Plot all three ECDFs on the same plot as dots. To do this, you will need three plt.plot() commands. Assign the result of each to _.\n",
        "A legend and axis labels have been added for you, so hit 'Submit Answer' to see all the ECDFs!\n",
        "'''\n",
        "\n",
        "# Compute ECDFs\n",
        "x_set,y_set = ecdf(setosa_petal_length)\n",
        "x_vers,y_vers = ecdf(versicolor_petal_length)\n",
        "x_virg,y_virg = ecdf(virginica_petal_length)\n",
        "\n",
        "\n",
        "\n",
        "# Plot all ECDFs on the same plot\n",
        "_ = plt.plot(x_set,y_set, marker = '.', linestyle = 'none')\n",
        "_ = plt.plot(x_vers, y_vers, marker = '.', linestyle = 'none')\n",
        "_ = plt.plot(x_virg, y_virg, marker = '.', linestyle = 'none')\n",
        "\n",
        "\n",
        "\n",
        "# Annotate the plot\n",
        "plt.legend(('setosa', 'versicolor', 'virginica'), loc='lower right')\n",
        "_ = plt.xlabel('petal length (cm)')\n",
        "_ = plt.ylabel('ECDF')\n",
        "\n",
        "# Display the plot\n",
        "plt.show()"
      ],
      "metadata": {
        "id": "0VEMJU8Rpcng"
      },
      "execution_count": null,
      "outputs": []
    },
    {
      "cell_type": "markdown",
      "source": [
        " Quantitative exploratory data analysis"
      ],
      "metadata": {
        "id": "pB7I-GRfppob"
      }
    },
    {
      "cell_type": "code",
      "source": [
        ". Computing means\n",
        "The mean of all measurements gives an indication of the typical magnitude of a measurement. It is computed using np.mean().\n",
        "INSTRUCTIONS\n",
        "100 XP\n",
        "Compute the mean petal length of Iris versicolor from Anderson's classic data set. The variable versicolor_petal_length is provided in your namespace. Assign the mean to mean_length_vers.\n",
        "Hit submit to print the result.\n",
        "'''\n",
        "\n",
        "# Compute the mean: mean_length_vers\n",
        "mean_length_vers = np.mean(versicolor_petal_length)\n",
        "# Print the result with some nice formatting\n",
        "print('I. versicolor:', mean_length_vers, 'cm')\n",
        "\n",
        "'''\n",
        "2. Computing percentiles\n",
        "In this exercise, you will compute the percentiles of petal length of Iris versicolor.\n",
        "INSTRUCTIONS\n",
        "100 XP\n",
        "Create percentiles, a NumPy array of percentiles you want to compute. These are the 2.5th, 25th, 50th, 75th, and 97.5th. You can do so by creating a list containing these ints/floats and convert the list to a NumPy array using np.array(). For example, np.array([30, 50]) would create an array consisting of the 30th and 50th percentiles.\n",
        "Use np.percentile() to compute the percentiles of the petal lengths from the Iris versicolor samples. The variable versicolor_petal_length is in your namespace.\n",
        "Print the percentiles.\n",
        "'''\n",
        "\n",
        "# Specify array of percentiles: percentiles\n",
        "percentiles = np.array([2.5,25,50,75,97.5])\n",
        "\n",
        "# Compute percentiles: ptiles_vers\n",
        "ptiles_vers = np.percentile(versicolor_petal_length,percentiles)\n",
        "\n",
        "# Print the result\n",
        "print(ptiles_vers)\n",
        "\n",
        "'''\n",
        "3. Comparing percentiles to ECDF\n",
        "To see how the percentiles relate to the ECDF, you will plot the percentiles of Iris versicolor petal lengths you calculated in the last exercise on the ECDF plot you generated in chapter 1. The percentile variables from the previous exercise are available in the workspace as ptiles_vers and percentiles.\n",
        "Note that to ensure the Y-axis of the ECDF plot remains between 0 and 1, you will need to rescale the percentiles array accordingly - in this case, dividing it by 100.\n",
        "INSTRUCTIONS\n",
        "100 XP\n",
        "Plot the percentiles as red diamonds on the ECDF. Pass the x and y co-ordinates - ptiles_vers and percentiles/100 - as positional arguments and specify the marker='D', color='red' and linestyle='none' keyword arguments. The argument for the y-axis - percentiles/100 has been specified for you.\n",
        "Display the plot.\n",
        "'''\n",
        "\n",
        "# Plot the ECDF\n",
        "_ = plt.plot(x_vers, y_vers, '.')\n",
        "_ = plt.xlabel('petal length (cm)')\n",
        "_ = plt.ylabel('ECDF')\n",
        "\n",
        "# Overlay percentiles as red diamonds.\n",
        "_ = plt.plot(ptiles_vers, percentiles/100, marker='D', color='red',\n",
        "         linestyle='none')\n",
        "\n",
        "# Show the plot\n",
        "plt.show()\n",
        "\n",
        "'''\n",
        "4. Box-and-whisker plot\n",
        "Making a box plot for the petal lengths is unnecessary because the iris data set is not too large and the bee swarm plot works fine. However, it is always good to get some practice. Make a box plot of the iris petal lengths. You have a pandas DataFrame, df, which contains the petal length data, in your namespace. Inspect the data frame df in the IPython shell using df.head() to make sure you know what the pertinent columns are.\n",
        "For your reference, the code used to produce the box plot in the video is provided below:\n",
        "_ = sns.boxplot(x='east_west', y='dem_share', data=df_all_states)\n",
        "_ = plt.xlabel('region')\n",
        "_ = plt.ylabel('percent of vote for Obama')\n",
        "In the IPython Shell, you can use sns.boxplot? or help(sns.boxplot) for more details on how to make box plots using seaborn.\n",
        "INSTRUCTIONS\n",
        "100 XP\n",
        "The set-up is exactly the same as for the bee swarm plot; you just call sns.boxplot() with the same keyword arguments as you would sns.swarmplot(). The x-axis is 'species' and y-axis is 'petal length (cm)'.\n",
        "Don't forget to label your axes!\n",
        "Display the figure using the normal call.\n",
        "'''\n",
        "\n",
        "# Create box plot with Seaborn's default settings\n",
        "_ = sns.boxplot(x='species', y='petal length (cm)', data=df)\n",
        "\n",
        "# Label the axes\n",
        "plt.xlabel('species')\n",
        "plt.ylabel('petal length (cm)')\n",
        "\n",
        "\n",
        "# Show the plot\n",
        "plt.show()\n",
        "\n",
        "'''\n",
        "5. Computing the variance\n",
        "It is important to have some understanding of what commonly-used functions are doing under the hood. Though you may already know how to compute variances, this is a beginner course that does not assume so. In this exercise, we will explicitly compute the variance of the petal length of Iris veriscolor using the equations discussed in the videos. We will then use np.var() to compute it.\n",
        "INSTRUCTIONS\n",
        "100 XP\n",
        "Create an array called differences that is the difference between the petal lengths (versicolor_petal_length) and the mean petal length. The variable versicolor_petal_length is already in your namespace as a NumPy array so you can take advantage of NumPy's vectorized operations.\n",
        "Square each element in this array. For example, x**2 squares each element in the array x. Store the result as diff_sq.\n",
        "Compute the mean of the elements in diff_sq using np.mean(). Store the result as variance_explicit.\n",
        "Compute the variance of versicolor_petal_length using np.var(). Store the result as variance_np.\n",
        "Print both variance_explicit and variance_np in one print call to make sure they are consistent.\n",
        "'''\n",
        "\n",
        "# Array of differences to mean: differences\n",
        "differences = np.array(versicolor_petal_length -\n",
        "                       np.mean(versicolor_petal_length))\n",
        "\n",
        "# Square the differences: diff_sq\n",
        "diff_sq = differences ** 2\n",
        "\n",
        "# Compute the mean square difference: variance_explicit\n",
        "variance_explicit = np.mean(diff_sq)\n",
        "\n",
        "# Compute the variance using NumPy: variance_np\n",
        "variance_np = np.var(versicolor_petal_length)\n",
        "\n",
        "# Print the results\n",
        "print(variance_explicit, variance_np)\n",
        "\n",
        "'''\n",
        "6. The standard deviation and the variance\n",
        "As mentioned in the video, the standard deviation is the square root of the variance. You will see this for yourself by computing the standard deviation using np.std() and comparing it to what you get by computing the variance with np.var() and then computing the square root.\n",
        "INSTRUCTIONS\n",
        "100 XP\n",
        "Compute the variance of the data in the versicolor_petal_length array using np.var().\n",
        "Print the square root of this value.\n",
        "Compute the standard deviation of the data in the versicolor_petal_length array using np.std() and print the result.\n",
        "'''\n",
        "\n",
        "# Compute the variance: variance\n",
        "variance = np.var(versicolor_petal_length)\n",
        "\n",
        "# Print the square root of the variance\n",
        "print(np.sqrt(variance))\n",
        "\n",
        "# Print the standard deviation\n",
        "print(np.std(versicolor_petal_length))\n",
        "\n",
        "'''\n",
        "7. Scatter plots\n",
        "When you made bee swarm plots, box plots, and ECDF plots in previous exercises, you compared the petal lengths of different species of iris. But what if you want to compare two properties of a single species? This is exactly what we will do in this exercise. We will make a scatter plot of the petal length and width measurements of Anderson's Iris versicolor flowers. If the flower scales (that is, it preserves its proportion as it grows), we would expect the length and width to be correlated.\n",
        "For your reference, the code used to produce the scatter plot in the video is provided below:\n",
        "_ = plt.plot(total_votes/1000, dem_share, marker='.', linestyle='none')\n",
        "_ = plt.xlabel('total votes (thousands)')\n",
        "_ = plt.ylabel('percent of vote for Obama')\n",
        "INSTRUCTIONS\n",
        "100 XP\n",
        "Use plt.plot() with the appropriate keyword arguments to make a scatter plot of versicolor petal length (x-axis) versus petal width (y-axis). The variables versicolor_petal_length and versicolor_petal_width are already in your namespace. Do not forget to use the marker='.' and linestyle='none' keyword arguments.\n",
        "Label the axes.\n",
        "Display the plot.\n",
        "'''\n",
        "\n",
        "# Make a scatter plot\n",
        "_ = plt.plot(versicolor_petal_length, versicolor_petal_width,\n",
        "             marker='.', linestyle='none')\n",
        "\n",
        "\n",
        "# Label the axes\n",
        "_ = plt.xlabel('versicolor petal length')\n",
        "_ = plt.ylabel('versicolor petal width')\n",
        "\n",
        "\n",
        "# Show the result\n",
        "plt.show()\n",
        "\n",
        "'''\n",
        "8. Computing the covariance\n",
        "The covariance may be computed using the Numpy function np.cov(). For example, we have two sets of data x and y, np.cov(x, y) returns a 2D array where entries [0,1] and [1,0] are the covariances. Entry [0,0] is the variance of the data in x, and entry [1,1] is the variance of the data in y. This 2D output array is called the covariance matrix, since it organizes the self- and covariance.\n",
        "To remind you how the I. versicolor petal length and width are related, we include the scatter plot you generated in a previous exercise.\n",
        "INSTRUCTIONS\n",
        "100 XP\n",
        "Use np.cov() to compute the covariance matrix for the petal length (versicolor_petal_length) and width (versicolor_petal_width) of I. versicolor.\n",
        "Print the covariance matrix.\n",
        "Extract the covariance from entry [0,1] of the covariance matrix. Note that by symmetry, entry [1,0] is the same as entry [0,1].\n",
        "Print the covariance.\n",
        "'''\n",
        "\n",
        "# Compute the covariance matrix: covariance_matrix\n",
        "covariance_matrix = np.cov(versicolor_petal_length, versicolor_petal_width)\n",
        "\n",
        "# Print covariance matrix\n",
        "print(covariance_matrix)\n",
        "\n",
        "# Extract covariance of length and width of petals: petal_cov\n",
        "petal_cov = covariance_matrix[0, 1]\n",
        "\n",
        "# Print the length/width covariance\n",
        "print(petal_cov)\n",
        "\n",
        "'''\n",
        "9. Computing the Pearson correlation coefficient\n",
        "As mentioned in the video, the Pearson correlation coefficient, also called the Pearson r, is often easier to interpret than the covariance. It is computed using the np.corrcoef() function. Like np.cov(), it takes two arrays as arguments and returns a 2D array. Entries [0,0] and [1,1] are necessarily equal to 1 (can you think about why?), and the value we are after is entry [0,1].\n",
        "In this exercise, you will write a function, pearson_r(x, y) that takes in two arrays and returns the Pearson correlation coefficient. You will then use this function to compute it for the petal lengths and widths of I. versicolor.\n",
        "Again, we include the scatter plot you generated in a previous exercise to remind you how the petal width and length are related.\n",
        "INSTRUCTIONS\n",
        "100 XP\n",
        "Define a function with signature pearson_r(x, y).\n",
        "Use np.corrcoef() to compute the correlation matrix of x and y (pass them to np.corrcoef() in that order).\n",
        "The function returns entry [0,1] of the correlation matrix.\n",
        "Compute the Pearson correlation between the data in the arrays versicolor_petal_length and versicolor_petal_width. Assign the result to r.\n",
        "Print the result.\n",
        "'''\n",
        "\n",
        "def pearson_r(x, y):\n",
        "    \"\"\"Compute Pearson correlation coefficient between two arrays.\"\"\"\n",
        "    # Compute correlation matrix: corr_mat\n",
        "    corr_mat = np.corrcoef(x, y)\n",
        "\n",
        "    # Return entry [0,1]\n",
        "    return corr_mat[0,1]\n",
        "\n",
        "# Compute Pearson correlation coefficient for I. versicolor: r\n",
        "r = pearson_r(versicolor_petal_length, versicolor_petal_width)\n",
        "\n",
        "# Print the result\n",
        "print(r)"
      ],
      "metadata": {
        "id": "-oNJB9oqpvpM"
      },
      "execution_count": null,
      "outputs": []
    },
    {
      "cell_type": "markdown",
      "source": [
        "Thinking probabilistically-- Discrete variables"
      ],
      "metadata": {
        "id": "bLR1dYt8p5lD"
      }
    },
    {
      "cell_type": "code",
      "source": [
        "1. Generating random numbers using the np.random module\n",
        "We will be hammering the np.random module for the rest of this course and its sequel. Actually, you will probably call functions from this module more than any other while wearing your hacker statistician hat. Let's start by taking its simplest function, np.random.random() for a test spin. The function returns a random number between zero and one. Call np.random.random() a few times in the IPython shell. You should see numbers jumping around between zero and one.\n",
        "In this exercise, we'll generate lots of random numbers between zero and one, and then plot a histogram of the results. If the numbers are truly random, all bars in the histogram should be of (close to) equal height.\n",
        "You may have noticed that, in the video, Justin generated 4 random numbers by passing the keyword argument size=4 to np.random.random(). Such an approach is more efficient than a for loop: in this exercise, however, you will write a for loop to experience hacker statistics as the practice of repeating an experiment over and over again.\n",
        "INSTRUCTIONS\n",
        "100 XP\n",
        "INSTRUCTIONS\n",
        "100 XP\n",
        "Seed the random number generator using the seed 42.\n",
        "Initialize an empty array, random_numbers, of 100,000 entries to store the random numbers. Make sure you use np.empty(100000) to do this.\n",
        "Write a for loop to draw 100,000 random numbers using np.random.random(), storing them in the random_numbers array. To do so, loop over range(100000).\n",
        "Plot a histogram of random_numbers. It is not necessary to label the axes in this case because we are just checking the random number generator. Hit 'Submit Answer' to show your plot.\n",
        "'''\n",
        "\n",
        "# Seed the random number generator\n",
        "np.random.seed(42)\n",
        "\n",
        "# Initialize random numbers: random_numbers\n",
        "random_numbers = np.empty(100000)\n",
        "\n",
        "# Generate random numbers by looping over range(100000)\n",
        "for i in range(100000):\n",
        "    random_numbers[i] = np.random.random()\n",
        "    print(random_numbers[i])\n",
        "\n",
        "# Plot a histogram\n",
        "_ = plt.hist(random_numbers)\n",
        "\n",
        "# Show the plot\n",
        "plt.show()\n",
        "\n",
        "'''\n",
        "2. The np.random module and Bernoulli trials\n",
        "You can think of a Bernoulli trial as a flip of a possibly biased coin. Specifically, each coin flip has a probability p of landing heads (success) and probability 1−p of landing tails (failure). In this exercise, you will write a function to perform n Bernoulli trials, perform_bernoulli_trials(n, p), which returns the number of successes out of n Bernoulli trials, each of which has probability p of success. To perform each Bernoulli trial, use the np.random.random() function, which returns a random number between zero and one.\n",
        "INSTRUCTIONS\n",
        "100 XP\n",
        "INSTRUCTIONS\n",
        "100 XP\n",
        "Define a function with signature perform_bernoulli_trials(n, p).\n",
        "Initialize to zero a variable n_success the counter of Trues, which are Bernoulli trial successes.\n",
        "Write a for loop where you perform a Bernoulli trial in each iteration and increment the number of success if the result is True. Perform n iterations by looping over range(n).\n",
        "To perform a Bernoulli trial, choose a random number between zero and one using np.random.random(). If the number you chose is less than p, increment n_success (use the += 1 operator to achieve this).\n",
        "The function returns the number of successes n_success.\n",
        "'''\n",
        "\n",
        "def perform_bernoulli_trials(n, p):\n",
        "    \"\"\"Perform n Bernoulli trials with success probability p\n",
        "    and return number of successes.\"\"\"\n",
        "    # Initialize number of successes: n_success\n",
        "    n_success = 0\n",
        "\n",
        "\n",
        "    # Perform trials\n",
        "    for i in range(n):\n",
        "        # Choose random number between zero and one: random_number\n",
        "        random_number = np.random.random()\n",
        "\n",
        "        # If less than p, it's a success so add one to n_success\n",
        "        if random_number < p:\n",
        "            n_success += 1\n",
        "\n",
        "    return n_success\n",
        "\n",
        "print(perform_bernoulli_trials(10000,0.65))\n",
        "\n",
        "'''\n",
        "3. How many defaults might we expect?\n",
        "Let's say a bank made 100 mortgage loans. It is possible that anywhere between 0 and 100 of the loans will be defaulted upon. You would like to know the probability of getting a given number of defaults, given that the probability of a default is p = 0.05. To investigate this, you will do a simulation. You will perform 100 Bernoulli trials using the perform_bernoulli_trials() function you wrote in the previous exercise and record how many defaults we get. Here, a success is a default. (Remember that the word \"success\" just means that the Bernoulli trial evaluates to True, i.e., did the loan recipient default?) You will do this for another 100 Bernoulli trials. And again and again until we have tried it 1000 times. Then, you will plot a histogram describing the probability of the number of defaults.\n",
        "INSTRUCTIONS\n",
        "100 XP\n",
        "INSTRUCTIONS\n",
        "100 XP\n",
        "Seed the random number generator to 42.\n",
        "Initialize n_defaults, an empty array, using np.empty(). It should contain 1000 entries, since we are doing 1000 simulations.\n",
        "Write a for loop with 1000 iterations to compute the number of defaults per 100 loans using the perform_bernoulli_trials() function. It accepts two arguments: the number of trials n - in this case 100 - and the probability of success p - in this case the probability of a default, which is 0.05. On each iteration of the loop store the result in an entry of n_defaults.\n",
        "Plot a histogram of n_defaults. Include the normed=True keyword argument so that the height of the bars of the histogram indicate the probability.\n",
        "Show your plot.\n",
        "'''\n",
        "\n",
        "# Seed random number generator\n",
        "np.random.seed(42)\n",
        "\n",
        "# Initialize the number of defaults: n_defaults\n",
        "n_defaults = np.empty(1000)\n",
        "\n",
        "# Compute the number of defaults\n",
        "for i in range(1000):\n",
        "    n_defaults[i] = perform_bernoulli_trials(100,0.05)\n",
        "\n",
        "\n",
        "# Plot the histogram with default number of bins; label your axes\n",
        "_ = plt.hist(n_defaults, normed = True)\n",
        "_ = plt.xlabel('number of defaults out of 100 loans')\n",
        "_ = plt.ylabel('probability')\n",
        "\n",
        "# Show the plot\n",
        "plt.show()\n",
        "\n",
        "'''\n",
        "4. Will the bank fail?\n",
        "Plot the number of defaults you got from the previous exercise, in your namespace as n_defaults, as a CDF. The ecdf() function you wrote in the first chapter is available.\n",
        "If interest rates are such that the bank will lose money if 10 or more of its loans are defaulted upon, what is the probability that the bank will lose money?\n",
        "INSTRUCTIONS\n",
        "100 XP\n",
        "INSTRUCTIONS\n",
        "100 XP\n",
        "Compute the x and y values for the ECDF of n_defaults.\n",
        "Plot the ECDF, making sure to label the axes. Remember to include marker = '.' and linestyle = 'none' in addition to x and y in your call plt.plot().\n",
        "Show the plot.\n",
        "Compute the total number of entries in your n_defaults array that were greater than or equal to 10. To do so, compute a boolean array that tells you whether a given entry of n_defaults is >= 10. Then sum all the entries in this array using np.sum(). For example, np.sum(n_defaults <= 5) would compute the number of defaults with 5 or fewer defaults.\n",
        "The probability that the bank loses money is the fraction of n_defaults that are greater than or equal to 10. Print this result by hitting 'Submit Answer'!\n",
        "'''\n",
        "\n",
        "# Compute ECDF: x, y\n",
        "x,y = ecdf(n_defaults)\n",
        "\n",
        "# Plot the ECDF with labeled axes\n",
        "_ = plt.plot(x,y, marker = '.', linestyle = 'none')\n",
        "_ = plt.xlabel('x')\n",
        "_ = plt.ylabel('y')\n",
        "\n",
        "\n",
        "# Show the plot\n",
        "plt.show()\n",
        "\n",
        "# Compute the number of 100-loan simulations with 10 or more defaults: n_lose_money\n",
        "n_lose_money = np.sum(n_defaults >= 10)\n",
        "\n",
        "# Compute and print probability of losing money\n",
        "print('Probability of losing money =', n_lose_money / len(n_defaults))\n",
        "\n",
        "'''\n",
        "5. Sampling out of the Binomial distribution\n",
        "Compute the probability mass function for the number of defaults we would expect for 100 loans as in the last section, but instead of simulating all of the Bernoulli trials, perform the sampling using np.random.binomial(). This is identical to the calculation you did in the last set of exercises using your custom-written perform_bernoulli_trials() function, but far more computationally efficient. Given this extra efficiency, we will take 10,000 samples instead of 1000. After taking the samples, plot the CDF as last time. This CDF that you are plotting is that of the Binomial distribution.\n",
        "Note: For this exercise and all going forward, the random number generator is pre-seeded for you (with np.random.seed(42)) to save you typing that each time.\n",
        "INSTRUCTIONS\n",
        "100 XP\n",
        "INSTRUCTIONS\n",
        "100 XP\n",
        "Draw samples out of the Binomial distribution using np.random.binomial(). You should use parameters n = 100 and p = 0.05, and set the size keyword argument to 10000.\n",
        "Compute the CDF using your previously-written ecdf() function.\n",
        "Plot the CDF with axis labels. The x-axis here is the number of defaults out of 100 loans, while the y-axis is the CDF.\n",
        "Show the plot.\n",
        "'''\n",
        "\n",
        "# Take 10,000 samples out of the binomial distribution: n_defaults\n",
        "n_defaults = np.random.binomial(n=100, p=0.05, size=10000)\n",
        "\n",
        "# Compute CDF: x, y\n",
        "x, y = ecdf(n_defaults)\n",
        "\n",
        "# Plot the CDF with axis labels\n",
        "_ = plt.plot(x, y, marker='.', linestyle='none')\n",
        "_ = plt.xlabel('Defaults out of 100')\n",
        "_ = plt.ylabel('CDF')\n",
        "\n",
        "\n",
        "\n",
        "# Show the plot\n",
        "plt.show()\n",
        "\n",
        "'''\n",
        "6. Plotting the Binomial PMF\n",
        "As mentioned in the video, plotting a nice looking PMF requires a bit of matplotlib trickery that we will not go into here. Instead, we will plot the PMF of the Binomial distribution as a histogram with skills you have already learned. The trick is setting up the edges of the bins to pass to plt.hist() via the bins keyword argument. We want the bins centered on the integers. So, the edges of the bins should be -0.5, 0.5, 1.5, 2.5, ... up to max(n_defaults) + 1.5. You can generate an array like this using np.arange() and then subtracting 0.5 from the array.\n",
        "You have already sampled out of the Binomial distribution during your exercises on loan defaults, and the resulting samples are in the NumPy array n_defaults.\n",
        "INSTRUCTIONS\n",
        "100 XP\n",
        "Using np.arange(), compute the bin edges such that the bins are centered on the integers. Store the resulting array in the variable bins.\n",
        "Use plt.hist() to plot the histogram of n_defaults with the normed=True and bins=bins keyword arguments.\n",
        "Show the plot.\n",
        "'''\n",
        "\n",
        "# Compute bin edges: bins\n",
        "bins = np.arange(min(n_defaults), max(n_defaults) + 1.5) - 0.5\n",
        "\n",
        "# Generate histogram\n",
        "_ = plt.hist(n_defaults, normed=True, bins=bins)\n",
        "\n",
        "# Label axes\n",
        "_ = plt.xlabel('x')\n",
        "_ = plt.ylabel('y')\n",
        "\n",
        "\n",
        "# Show the plot\n",
        "plt.show()\n",
        "\n",
        "'''\n",
        "7. Relationship between Binomial and Poisson distributions\n",
        "You just heard that the Poisson distribution is a limit of the Binomial distribution for rare events. This makes sense if you think about the stories. Say we do a Bernoulli trial every minute for an hour, each with a success probability of 0.1. We would do 60 trials, and the number of successes is Binomially distributed, and we would expect to get about 6 successes. This is just like the Poisson story we discussed in the video, where we get on average 6 hits on a website per hour. So, the Poisson distribution with arrival rate equal to np approximates a Binomial distribution for n Bernoulli trials with probability p of success (with n large and p small). Importantly, the Poisson distribution is often simpler to work with because it has only one parameter instead of two for the Binomial distribution.\n",
        "Let's explore these two distributions computationally. You will compute the mean and standard deviation of samples from a Poisson distribution with an arrival rate of 10. Then, you will compute the mean and standard deviation of samples from a Binomial distribution with parameters n and p such that np=10.\n",
        "INSTRUCTIONS\n",
        "100 XP\n",
        "INSTRUCTIONS\n",
        "100 XP\n",
        "Using the np.random.poisson() function, draw 10000 samples from a Poisson distribution with a mean of 10.\n",
        "Make a list of the n and p values to consider for the Binomial distribution. Choose n = [20, 100, 1000] and p = [0.5, 0.1, 0.01] so that np is always 10.\n",
        "Using np.random.binomial() inside the provided for loop, draw 10000 samples from a Binomial distribution with each n, p pair and print the mean and standard deviation of the samples. There are 3 n, p pairs: 20, 0.5, 100, 0.1, and 1000, 0.01. These can be accessed inside the loop as n[i], p[i].\n",
        "'''\n",
        "\n",
        "# Draw 10,000 samples out of Poisson distribution: samples_poisson\n",
        "samples_poisson = np.random.poisson(10, size=10000)\n",
        "\n",
        "# Print the mean and standard deviation\n",
        "print('Poisson:     ', np.mean(samples_poisson),\n",
        "                       np.std(samples_poisson))\n",
        "\n",
        "# Specify values of n and p to consider for Binomial: n, p\n",
        "n = [20, 100, 1000]\n",
        "p = [0.5, 0.1, 0.01]\n",
        "\n",
        "\n",
        "# Draw 10,000 samples for each n,p pair: samples_binomial\n",
        "for i in range(3):\n",
        "    samples_binomial = np.random.binomial(n[i], p[i], 10000)\n",
        "\n",
        "    # Print results\n",
        "    print('n =', n[i], 'Binom:', np.mean(samples_binomial),\n",
        "                                 np.std(samples_binomial))\n",
        "\n",
        "'''\n",
        "8. Was 2015 anomalous?\n",
        "1990 and 2015 featured the most no-hitters of any season of baseball (there were seven). Given that there are on average 251/115 no-hitters per season, what is the probability of having seven or more in a season?\n",
        "INSTRUCTIONS\n",
        "100 XP\n",
        "Draw 10000 samples from a Poisson distribution with a mean of 251/115 and assign to n_nohitters.\n",
        "Determine how many of your samples had a result greater than or equal to 7 and assign to n_large.\n",
        "Compute the probability, p_large, of having 7 or more no-hitters by dividing n_large by the total number of samples (10000).\n",
        "Hit 'Submit Answer' to print the probability that you calculated.\n",
        "'''\n",
        "\n",
        "# Draw 10,000 samples out of Poisson distribution: n_nohitters\n",
        "n_nohitters = np.random.poisson((251 / 115), size=10000)\n",
        "\n",
        "# Compute number of samples that are seven or greater: n_large\n",
        "n_large = np.sum(n_nohitters >= 7)\n",
        "\n",
        "# Compute probability of getting seven or more: p_large\n",
        "p_large = n_large / 10000\n",
        "\n",
        "# Print the result\n",
        "print('Probability of seven or more no-hitters:', p_large)\n",
        "\n"
      ],
      "metadata": {
        "id": "E9KUubx4p6W8"
      },
      "execution_count": null,
      "outputs": []
    },
    {
      "cell_type": "markdown",
      "source": [
        " Thinking probabilistically-- Continuous variables"
      ],
      "metadata": {
        "id": "eBEf58s_qDRD"
      }
    },
    {
      "cell_type": "code",
      "source": [
        "1. The Normal PDF\n",
        "In this exercise, you will explore the Normal PDF and also learn a way to plot a PDF of a known distribution using hacker statistics. Specifically, you will plot a Normal PDF for various values of the variance.\n",
        "INSTRUCTIONS\n",
        "100 XP\n",
        "INSTRUCTIONS\n",
        "100 XP\n",
        "Draw 100,000 samples from a Normal distribution that has a mean of 20 and a standard deviation of 1. Do the same for Normal distributions with standard deviations of 3 and 10, each still with a mean of 20. Assign the results to samples_std1, samples_std3 and samples_std10, respectively.\n",
        "Plot a histograms of each of the samples; for each, use 100 bins, also using the keyword arguments normed=True and histtype='step'. The latter keyword argument makes the plot look much like the smooth theoretical PDF. You will need to make 3 plt.hist() calls.\n",
        "Hit 'Submit Answer' to make a legend, showing which standard deviations you used, and show your plot! There is no need to label the axes because we have not defined what is being described by the Normal distribution; we are just looking at shapes of PDFs.\n",
        "'''\n",
        "\n",
        "# Draw 100000 samples from Normal distribution with stds of interest: samples_std1, samples_std3, samples_std10\n",
        "samples_std1 = np.random.normal(20, 1, size=100000)\n",
        "samples_std3 = np.random.normal(20, 3, size=100000)\n",
        "samples_std10 = np.random.normal(20, 10, size=100000)\n",
        "\n",
        "\n",
        "\n",
        "# Make histograms\n",
        "_ = plt.hist(samples_std1, bins=100, normed=True, histtype='step')\n",
        "_ = plt.hist(samples_std3, bins=100, normed=True, histtype='step')\n",
        "_ = plt.hist(samples_std10, bins=100, normed=True, histtype='step')\n",
        "\n",
        "\n",
        "\n",
        "# Make a legend, set limits and show plot\n",
        "_ = plt.legend(('std = 1', 'std = 3', 'std = 10'))\n",
        "plt.ylim(-0.01, 0.42)\n",
        "plt.show()\n",
        "\n",
        "'''\n",
        "2. The Normal CDF\n",
        "Now that you have a feel for how the Normal PDF looks, let's consider its CDF. Using the samples you generated in the last exercise (in your namespace as samples_std1, samples_std3, and samples_std10), generate and plot the CDFs.\n",
        "INSTRUCTIONS\n",
        "100 XP\n",
        "Use your ecdf() function to generate x and y values for CDFs: x_std1, y_std1, x_std3, y_std3 and x_std10, y_std10, respectively.\n",
        "Plot all three CDFs as dots (do not forget the marker and linestyle keyword arguments!).\n",
        "Hit submit to make a legend, showing which standard deviations you used, and to show your plot. There is no need to label the axes because we have not defined what is being described by the Normal distribution; we are just looking at shapes of CDFs.\n",
        "'''\n",
        "\n",
        "# Generate CDFs\n",
        "x_std1, y_std1 = ecdf(samples_std1)\n",
        "x_std3, y_std3 = ecdf(samples_std3)\n",
        "x_std10, y_std10 = ecdf(samples_std10)\n",
        "\n",
        "\n",
        "\n",
        "# Plot CDFs\n",
        "_ = plt.plot(x_std1, y_std1, marker='.', linestyle='none')\n",
        "_ = plt.plot(x_std3, y_std3, marker='.', linestyle='none')\n",
        "_ = plt.plot(x_std10, y_std10, marker='.', linestyle='none')\n",
        "\n",
        "\n",
        "# Make a legend and show the plot\n",
        "_ = plt.legend(('std = 1', 'std = 3', 'std = 10'), loc='lower right')\n",
        "plt.show()\n",
        "\n",
        "'''\n",
        "3. Are the Belmont Stakes results Normally distributed?\n",
        "Since 1926, the Belmont Stakes is a 1.5 mile-long race of 3-year old thoroughbred horses. Secretariat ran the fastest Belmont Stakes in history in 1973. While that was the fastest year, 1970 was the slowest because of unusually wet and sloppy conditions. With these two outliers removed from the data set, compute the mean and standard deviation of the Belmont winners' times. Sample out of a Normal distribution with this mean and standard deviation using the np.random.normal() function and plot a CDF. Overlay the ECDF from the winning Belmont times. Are these close to Normally distributed?\n",
        "Note: Justin scraped the data concerning the Belmont Stakes from the Belmont Wikipedia page.\n",
        "INSTRUCTIONS\n",
        "100 XP\n",
        "INSTRUCTIONS\n",
        "100 XP\n",
        "Compute mean and standard deviation of Belmont winners' times with the two outliers removed. The NumPy array belmont_no_outliers has these data.\n",
        "Take 10,000 samples out of a normal distribution with this mean and standard deviation using np.random.normal().\n",
        "Compute the CDF of the theoretical samples and the ECDF of the Belmont winners' data, assigning the results to x_theor, y_theor and x, y, respectively.\n",
        "Hit submit to plot the CDF of your samples with the ECDF, label your axes and show the plot.\n",
        "'''\n",
        "\n",
        "# Compute mean and standard deviation: mu, sigma\n",
        "mu = np.mean(belmont_no_outliers)\n",
        "sigma = np.std(belmont_no_outliers)\n",
        "\n",
        "\n",
        "# Sample out of a normal distribution with this mu and sigma: samples\n",
        "samples = np.random.normal(mu, sigma, 10000)\n",
        "\n",
        "# Get the CDF of the samples and of the data\n",
        "x_theor, y_theor = ecdf(samples)\n",
        "x, y = ecdf(belmont_no_outliers)\n",
        "\n",
        "\n",
        "# Plot the CDFs and show the plot\n",
        "_ = plt.plot(x_theor, y_theor)\n",
        "_ = plt.plot(x, y, marker='.', linestyle='none')\n",
        "_ = plt.xlabel('Belmont winning time (sec.)')\n",
        "_ = plt.ylabel('CDF')\n",
        "plt.show()\n",
        "\n",
        "'''\n",
        "4. What are the chances of a horse matching or beating Secretariat's record?\n",
        "Assume that the Belmont winners' times are Normally distributed (with the 1970 and 1973 years removed), what is the probability that the winner of a given Belmont Stakes will run it as fast or faster than Secretariat?\n",
        "INSTRUCTIONS\n",
        "100 XP\n",
        "Take 1,000,000 samples from the normal distribution using the np.random.normal() function. The mean mu and standard deviation sigma are already loaded into the namespace of your IPython instance.\n",
        "Compute the fraction of samples that have a time less than or equal to Secretariat's time of 144 seconds.\n",
        "Print the result.\n",
        "'''\n",
        "\n",
        "# Take a million samples out of the Normal distribution: samples\n",
        "samples = np.random.normal(mu, sigma, 1000000)\n",
        "\n",
        "# Compute the fraction that are faster than 144 seconds: prob\n",
        "prob = np.sum(samples <= 144) / len(samples)\n",
        "\n",
        "# Print the result\n",
        "print('Probability of besting Secretariat:', prob)\n",
        "\n",
        "'''\n",
        "5. If you have a story, you can simulate it!\n",
        "Sometimes, the story describing our probability distribution does not have a named distribution to go along with it. In these cases, fear not! You can always simulate it. We'll do that in this and the next exercise.\n",
        "In earlier exercises, we looked at the rare event of no-hitters in Major League Baseball. Hitting the cycle is another rare baseball event. When a batter hits the cycle, he gets all four kinds of hits, a single, double, triple, and home run, in a single game. Like no-hitters, this can be modeled as a Poisson process, so the time between hits of the cycle are also Exponentially distributed.\n",
        "How long must we wait to see both a no-hitter and then a batter hit the cycle? The idea is that we have to wait some time for the no-hitter, and then after the no-hitter, we have to wait for hitting the cycle. Stated another way, what is the total waiting time for the arrival of two different Poisson processes? The total waiting time is the time waited for the no-hitter, plus the time waited for the hitting the cycle.\n",
        "Now, you will write a function to sample out of the distribution described by this story.\n",
        "INSTRUCTIONS\n",
        "100 XP\n",
        "INSTRUCTIONS\n",
        "100 XP\n",
        "Define a function with call signature successive_poisson(tau1, tau2, size=1) that samples the waiting time for a no-hitter and a hit of the cycle.\n",
        "Draw waiting times tau1 (size number of samples) for the no-hitter out of an exponential distribution and assign to t1.\n",
        "Draw waiting times tau2 (size number of samples) for hitting the cycle out of an exponential distribution and assign to t2.\n",
        "The function returns the sum of the waiting times for the two events.\n",
        "'''\n",
        "\n",
        "def successive_poisson(tau1, tau2, size=1):\n",
        "    \"\"\"Compute time for arrival of 2 successive Poisson processes.\"\"\"\n",
        "    # Draw samples out of first exponential distribution: t1\n",
        "    t1 = np.random.exponential(tau1, size)\n",
        "\n",
        "    # Draw samples out of second exponential distribution: t2\n",
        "    t2 = np.random.exponential(tau2, size)\n",
        "\n",
        "    return t1 + t2\n",
        "    \n",
        "'''\n",
        "6. Distribution of no-hitters and cycles\n",
        "Now, you'll use your sampling function to compute the waiting time to observe a no-hitter and hitting of the cycle. The mean waiting time for a no-hitter is 764 games, and the mean waiting time for hitting the cycle is 715 games.\n",
        "INSTRUCTIONS\n",
        "100 XP\n",
        "Use your successive_poisson() function to draw 100,000 out of the distribution of waiting times for observing a no-hitter and a hitting of the cycle.\n",
        "Plot the PDF of the waiting times using the step histogram technique of a previous exercise. Don't forget the necessary keyword arguments. You should use bins=100, normed=True, and histtype='step'.\n",
        "Label the axes.\n",
        "Show your plot.\n",
        "'''\n",
        "\n",
        "# Draw samples of waiting times: waiting_times\n",
        "waiting_times = np.array(successive_poisson(764, 715, 100000))\n",
        "\n",
        "# Make the histogram\n",
        "_ = plt.hist(waiting_times, bins=100, normed=True, histtype='step')\n",
        "\n",
        "\n",
        "# Label axes\n",
        "_ = plt.xlabel('x')\n",
        "_ = plt.ylabel('y')\n",
        "\n",
        "\n",
        "# Show the plot\n",
        "plt.show()"
      ],
      "metadata": {
        "id": "B84HzUGyqEAI"
      },
      "execution_count": null,
      "outputs": []
    },
    {
      "cell_type": "code",
      "execution_count": null,
      "metadata": {
        "id": "XjhPCBQHy44c"
      },
      "outputs": [],
      "source": [
        "How often do we get no-hitters"
      ]
    },
    {
      "cell_type": "code",
      "source": [
        "# Seed random number generator\n",
        "np.random.seed(42)\n",
        "\n",
        "# Compute mean no-hitter time: tau\n",
        "tau = np.mean(nohitter_times)\n",
        "\n",
        "# Draw out of an exponential distribution with parameter tau: inter_nohitter_time\n",
        "inter_nohitter_time =np.random.exponential(tau, size= 100000)\n",
        "\n",
        "# Plot the PDF and label axes\n",
        "_ = plt.hist(inter_nohitter_time,\n",
        "             bins=50, normed=True, histtype = 'step')\n",
        "_ = plt.xlabel('Games between no-hitters')\n",
        "_ = plt.ylabel('PDF')\n",
        "\n",
        "# Show the plot\n",
        "plt.show()\n"
      ],
      "metadata": {
        "id": "j5uNTg_kzBGo"
      },
      "execution_count": null,
      "outputs": []
    },
    {
      "cell_type": "markdown",
      "source": [
        "To ensure our data follow the story"
      ],
      "metadata": {
        "id": "Gk-W_y4L0kWH"
      }
    },
    {
      "cell_type": "code",
      "source": [
        "# Create an ECDF from real data: x, y\n",
        "x, y = ecdf (nohitter_times)\n",
        "\n",
        "# Create a CDF from theoretical samples: x_theor, y_theor\n",
        "x_theor, y_theor = ecdf (inter_nohitter_time)\n",
        "\n",
        "# Overlay the plots\n",
        "plt.plot(x_theor, y_theor)\n",
        "plt.plot(x, y, marker='.', linestyle='none')\n",
        "\n",
        "# Margins and axis labels\n",
        "plt.margins(0.02)\n",
        "plt.xlabel('Games between no-hitters')\n",
        "plt.ylabel('CDF')\n",
        "\n",
        "# Show the plot\n",
        "plt.show()\n"
      ],
      "metadata": {
        "id": "cCj6TAn20oST"
      },
      "execution_count": null,
      "outputs": []
    },
    {
      "cell_type": "markdown",
      "source": [
        "Is this an optimal parameter?"
      ],
      "metadata": {
        "id": "wNA5ArAs1b4m"
      }
    },
    {
      "cell_type": "code",
      "source": [
        "# Plot the theoretical CDFs\n",
        "plt.plot(x_theor, y_theor)\n",
        "plt.plot(x, y, marker='.', linestyle='none')\n",
        "plt.margins(0.02)\n",
        "plt.xlabel('Games between no-hitters')\n",
        "plt.ylabel('CDF')\n",
        "\n",
        "# Take samples with half tau: samples_half\n",
        "samples_half = np.random.exponential (tau/2, size=10000)\n",
        "\n",
        "# Take samples with double tau: samples_double\n",
        "samples_double = np.random.exponential (2*tau, size = 10000)\n",
        "\n",
        "# Generate CDFs from these samples\n",
        "x_half, y_half = ecdf (samples_half)\n",
        "x_double, y_double = ecdf (samples_double)\n",
        "\n",
        "# Plot these CDFs as lines\n",
        "_ = plt.plot(x_half, y_half)\n",
        "_ = plt.plot(x_double, y_double)\n",
        "\n",
        "# Show the plot\n",
        "plt.show()"
      ],
      "metadata": {
        "id": "wROYQmaD1gGv"
      },
      "execution_count": null,
      "outputs": []
    },
    {
      "cell_type": "code",
      "source": [
        "EDA of literacy/Fertility data"
      ],
      "metadata": {
        "id": "qbXC18Da3kB2"
      },
      "execution_count": null,
      "outputs": []
    },
    {
      "cell_type": "code",
      "source": [
        "# Plot the illiteracy rate versus fertility\n",
        "_ = plt.plot(illiteracy, fertility, marker='.', linestyle='none')\n",
        "\n",
        "# Set the margins and label axes\n",
        "plt.margins(0.02)\n",
        "_ = plt.xlabel('percent illiterate')\n",
        "_ = plt.ylabel('fertility')\n",
        "\n",
        "# Show the plot\n",
        "plt.show()\n",
        "\n",
        "# Show the Pearson correlation coefficient\n",
        "print(pearson_r(illiteracy, fertility))\n"
      ],
      "metadata": {
        "id": "ZWgoi3_j3niY"
      },
      "execution_count": null,
      "outputs": []
    },
    {
      "cell_type": "markdown",
      "source": [
        "Linear regression"
      ],
      "metadata": {
        "id": "Hh0AaxPX5APa"
      }
    },
    {
      "cell_type": "code",
      "source": [
        "# Plot the illiteracy rate versus fertility\n",
        "_ = plt.plot(illiteracy, fertility, marker='.', linestyle='none')\n",
        "plt.margins(0.02)\n",
        "_ = plt.xlabel('percent illiterate')\n",
        "_ = plt.ylabel('fertility')\n",
        "\n",
        "# Perform a linear regression using np.polyfit(): a, b\n",
        "a, b = np.polyfit(illiteracy, fertility, 1)\n",
        "\n",
        "# Print the results to the screen\n",
        "print('slope =', a, 'children per woman / percent illiterate')\n",
        "print('intercept =', b, 'children per woman')\n",
        "\n",
        "# Make theoretical line to plot\n",
        "x = np.array ([0,100])\n",
        "y = a * x + b\n",
        "\n",
        "# Add regression line to your plot\n",
        "_ = plt.plot(x, y)\n",
        "\n",
        "# Draw the plot\n",
        "plt.show()\n"
      ],
      "metadata": {
        "id": "fPRupKRa5Byp"
      },
      "execution_count": null,
      "outputs": []
    },
    {
      "cell_type": "markdown",
      "source": [
        "Linear regression on appropraite Anscombe data"
      ],
      "metadata": {
        "id": "OB2TD_N88R7T"
      }
    },
    {
      "cell_type": "code",
      "source": [
        "# Perform linear regression: a, b\n",
        "a, b = np.polyfit (x, y, 1)\n",
        "\n",
        "# Print the slope and intercept\n",
        "print(a, b)\n",
        "\n",
        "# Generate theoretical x and y data: x_theor, y_theor\n",
        "x_theor = np.array([3, 15])\n",
        "y_theor = a * x_theor + b\n",
        "\n",
        "# Plot the Anscombe data and theoretical line\n",
        "_ =  plt.plot(x, y, marker='.', linestyle='none')\n",
        "_ = plt.plot(x_theor, y_theor)\n",
        "\n",
        "# Label the axes\n",
        "plt.xlabel('x')\n",
        "plt.ylabel('y')\n",
        "\n",
        "# Show the plot\n",
        "plt.show()"
      ],
      "metadata": {
        "id": "lgxGNLOt8W79"
      },
      "execution_count": null,
      "outputs": []
    },
    {
      "cell_type": "markdown",
      "source": [
        "Linear regression on all Anscombe data"
      ],
      "metadata": {
        "id": "UX4ZEkpr8t1_"
      }
    },
    {
      "cell_type": "code",
      "source": [
        "# Iterate through x,y pairs\n",
        "for x, y in zip(anscombe_x, anscombe_y):\n",
        "    # Compute the slope and intercept: a, b\n",
        "    a, b = np.polyfit(x, y, 1)\n",
        "\n",
        "    # Print the result\n",
        "    print('slope:', a, 'intercept:', b)\n"
      ],
      "metadata": {
        "id": "JZ3dBYnv8xVU"
      },
      "execution_count": null,
      "outputs": []
    },
    {
      "cell_type": "markdown",
      "source": [
        ""
      ],
      "metadata": {
        "id": "aAwY5Tqw_Uw6"
      }
    },
    {
      "cell_type": "markdown",
      "source": [
        "How optimal is it"
      ],
      "metadata": {
        "id": "VZzQWS2E6ijN"
      }
    },
    {
      "cell_type": "code",
      "source": [
        "# Specify slopes to consider: a_vals\n",
        "a_vals = np.linspace (0, 0.1, 200)\n",
        "\n",
        "# Initialize sum of square of residuals: rss\n",
        "rss = np.empty_like (a_vals)\n",
        "\n",
        "# Compute sum of square of residuals for each value of a_vals\n",
        "for i, a in enumerate(a_vals):\n",
        "    rss[i] = np.sum((fertility - a*illiteracy - b)**2)\n",
        "\n",
        "# Plot the RSS\n",
        "plt.plot(a_vals, rss, '-')\n",
        "plt.xlabel('slope (children per woman / percent illiterate)')\n",
        "plt.ylabel('sum of square of residuals')\n",
        "\n",
        "plt.show()\n"
      ],
      "metadata": {
        "id": "fqoz-cK76kOF"
      },
      "execution_count": null,
      "outputs": []
    },
    {
      "cell_type": "markdown",
      "source": [
        "Visualizing bootstrap samples"
      ],
      "metadata": {
        "id": "1xGvlea0_YiK"
      }
    },
    {
      "cell_type": "code",
      "source": [
        "for _ in range(50):\n",
        "    # Generate bootstrap sample: bs_sample\n",
        "    bs_sample = np.random.choice(rainfall, size=len(rainfall))\n",
        "\n",
        "    # Compute and plot ECDF from bootstrap sample\n",
        "    x, y = ecdf(bs_sample)\n",
        "    _ = plt.plot(x, y, marker='.', linestyle='none',\n",
        "                 color='gray', alpha=0.1)\n",
        "\n",
        "# Compute and plot ECDF from original data\n",
        "x, y = ecdf (rainfall)\n",
        "_ = plt.plot(x, y, marker='.')\n",
        "\n",
        "# Make margins and label axes\n",
        "plt.margins(0.02)\n",
        "_ = plt.xlabel('yearly rainfall (mm)')\n",
        "_ = plt.ylabel('ECDF')\n",
        "\n",
        "# Show the plot\n",
        "plt.show()"
      ],
      "metadata": {
        "id": "eOR-hc4k_cho"
      },
      "execution_count": null,
      "outputs": []
    },
    {
      "cell_type": "markdown",
      "source": [
        "Generating many bootstrap replicate"
      ],
      "metadata": {
        "id": "Su_L5pkDDbMg"
      }
    },
    {
      "cell_type": "code",
      "source": [
        "def draw_bs_reps(data, func, size=1):\n",
        "    \"\"\"Draw bootstrap replicates.\"\"\"\n",
        "\n",
        "    # Initialize array of replicates: bs_replicates\n",
        "    bs_replicates = np.empty (size)\n",
        "\n",
        "    # Generate replicates\n",
        "    for i in range(size):\n",
        "        bs_replicates[i] = bootstrap_replicate_1d(data, func)\n",
        "\n",
        "    return bs_replicates\n"
      ],
      "metadata": {
        "id": "cWXIDzSXDd4G"
      },
      "execution_count": null,
      "outputs": []
    },
    {
      "cell_type": "markdown",
      "source": [
        "Bootstrap replicate of the mean and SEM "
      ],
      "metadata": {
        "id": "F93-SL0DD-BK"
      }
    },
    {
      "cell_type": "code",
      "source": [
        "# Take 10,000 bootstrap replicates of the mean: bs_replicates\n",
        "bs_replicates = draw_bs_reps(rainfall,np.mean,size=10000)\n",
        "\n",
        "# Compute and print SEM\n",
        "sem = np.std(rainfall) / np.sqrt(len(rainfall))\n",
        "print(sem)\n",
        "\n",
        "# Compute and print standard deviation of bootstrap replicates\n",
        "bs_std = np.std(bs_replicates)\n",
        "print(bs_std)\n",
        "\n",
        "# Make a histogram of the results\n",
        "_ = plt.hist(bs_replicates, bins=50, normed=True)\n",
        "_ = plt.xlabel('mean annual rainfall (mm)')\n",
        "_ = plt.ylabel('PDF')\n",
        "\n",
        "# Show the plot\n",
        "plt.show()"
      ],
      "metadata": {
        "id": "unmAsKX2EBBM"
      },
      "execution_count": null,
      "outputs": []
    },
    {
      "cell_type": "markdown",
      "source": [
        "Bootstrap replicates of other statistics"
      ],
      "metadata": {
        "id": "r_txKyXgFeHq"
      }
    },
    {
      "cell_type": "code",
      "source": [
        "# Generate 10,000 bootstrap replicates of the variance: bs_replicates\n",
        "bs_replicates = draw_bs_reps(rainfall,np.var,size=10000)\n",
        "\n",
        "# Put the variance in units of square centimeters\n",
        "bs_replicates/=100\n",
        "\n",
        "# Make a histogram of the results\n",
        "_ = plt.hist(bs_replicates, bins=50, normed = True)\n",
        "_ = plt.xlabel('variance of annual rainfall (sq. cm)')\n",
        "_ = plt.ylabel('PDF')\n",
        "\n",
        "# Show the plot\n",
        "plt.show()\n"
      ],
      "metadata": {
        "id": "vMLgY-_5FhaT"
      },
      "execution_count": null,
      "outputs": []
    },
    {
      "cell_type": "markdown",
      "source": [
        "Confidence interval on the rate of no-hitters"
      ],
      "metadata": {
        "id": "g9EvlWcwGCrv"
      }
    },
    {
      "cell_type": "code",
      "source": [
        "# Draw bootstrap replicates of the mean no-hitter time (equal to tau): bs_replicates\n",
        "bs_replicates = draw_bs_reps(nohitter_times,np.mean,size=10000)\n",
        "\n",
        "# Compute the 95% confidence interval: conf_int\n",
        "conf_int = np.percentile(bs_replicates, [2.5, 97.5])\n",
        "\n",
        "# Print the confidence interval\n",
        "print('95% confidence interval =', conf_int, 'games')\n",
        "\n",
        "# Plot the histogram of the replicates\n",
        "_ = plt.hist(bs_replicates, bins=50, normed=True)\n",
        "_ = plt.xlabel(r'$\\tau$ (games)')\n",
        "_ = plt.ylabel('PDF')\n",
        "\n",
        "# Show the plot\n",
        "plt.show()\n"
      ],
      "metadata": {
        "id": "Rb96pK6qGGRJ"
      },
      "execution_count": null,
      "outputs": []
    },
    {
      "cell_type": "markdown",
      "source": [
        "A function to do pairs bootstrap"
      ],
      "metadata": {
        "id": "qrAZ0R4ZJayD"
      }
    },
    {
      "cell_type": "code",
      "source": [
        "def draw_bs_pairs_linreg(x, y, size=1):\n",
        "    \"\"\"Perform pairs bootstrap for linear regression.\"\"\"\n",
        "\n",
        "    # Set up array of indices to sample from: inds\n",
        "    inds = np.arange(len(x))\n",
        "\n",
        "    # Initialize replicates: bs_slope_reps, bs_intercept_reps\n",
        "    bs_slope_reps = np.empty(size)\n",
        "    bs_intercept_reps = np.empty(size)\n",
        "\n",
        "    # Generate replicates\n",
        "    for i in range(size):\n",
        "        bs_inds = np.random.choice(inds, size=len(inds))\n",
        "        bs_x, bs_y = x[bs_inds], y[bs_inds]\n",
        "        bs_slope_reps[i], bs_intercept_reps[i] = np.polyfit(bs_x, bs_y, 1)\n",
        "\n",
        "    return bs_slope_reps, bs_intercept_reps\n"
      ],
      "metadata": {
        "id": "CGKAiB22JeiQ"
      },
      "execution_count": null,
      "outputs": []
    },
    {
      "cell_type": "markdown",
      "source": [
        "Pair bootstrap of literacy/fertility data"
      ],
      "metadata": {
        "id": "j2CBXTnJKNRl"
      }
    },
    {
      "cell_type": "code",
      "source": [
        "# Generate replicates of slope and intercept using pairs bootstrap\n",
        "bs_slope_reps, bs_intercept_reps =  draw_bs_pairs_linreg(illiteracy,fertility,size=1000)\n",
        "\n",
        "# Compute and print 95% CI for slope\n",
        "print(np.percentile(bs_slope_reps, [2.5, 97.5]))\n",
        "\n",
        "# Plot the histogram\n",
        "_ = plt.hist(bs_slope_reps, bins=50, normed=True)\n",
        "_ = plt.xlabel('slope')\n",
        "_ = plt.ylabel('PDF')\n",
        "plt.show()"
      ],
      "metadata": {
        "id": "zb9h4SuOKVQ1"
      },
      "execution_count": null,
      "outputs": []
    },
    {
      "cell_type": "markdown",
      "source": [
        "plotting bootstrap regressions"
      ],
      "metadata": {
        "id": "x-be2egCKjRE"
      }
    },
    {
      "cell_type": "code",
      "source": [
        "x = np.array([0, 100])\n",
        "\n",
        "# Plot the bootstrap lines\n",
        "for i in range(100):\n",
        "    _ = plt.plot(x, bs_slope_reps[i] * x + bs_intercept_reps[i],\n",
        "                 linewidth=0.5, alpha=0.2, color='red')\n",
        "\n",
        "# Plot the data\n",
        "_ = plt.plot(illiteracy, fertility, marker='.', linestyle='none')\n",
        "\n",
        "# Label axes, set the margins, and show the plot\n",
        "_ = plt.xlabel('illiteracy')\n",
        "_ = plt.ylabel('fertility')\n",
        "plt.margins(0.02)\n",
        "plt.show()"
      ],
      "metadata": {
        "id": "RIilVqUSKncK"
      },
      "execution_count": null,
      "outputs": []
    },
    {
      "cell_type": "markdown",
      "source": [
        "Generating a permutation sample"
      ],
      "metadata": {
        "id": "1BA_1ae-N_pg"
      }
    },
    {
      "cell_type": "code",
      "source": [
        "def permutation_sample(data1, data2):\n",
        "    \"\"\"Generate a permutation sample from two data sets.\"\"\"\n",
        "\n",
        "    # Concatenate the data sets: data\n",
        "    data = np.concatenate((data1, data2))\n",
        "\n",
        "    # Permute the concatenated array: permuted_data\n",
        "    permuted_data = np.random.permutation (data)\n",
        "\n",
        "    # Split the permuted array into two: perm_sample_1, perm_sample_2\n",
        "    perm_sample_1 = permuted_data[:len(data1)]\n",
        "    perm_sample_2 = permuted_data[len(data1):]\n",
        "\n",
        "    return perm_sample_1, perm_sample_2"
      ],
      "metadata": {
        "id": "iPeCGuMYOCfS"
      },
      "execution_count": null,
      "outputs": []
    },
    {
      "cell_type": "markdown",
      "source": [
        "Visualizing permutation sampling"
      ],
      "metadata": {
        "id": "EO8C4ihkPc_t"
      }
    },
    {
      "cell_type": "code",
      "source": [
        "for _ in range(50):\n",
        "    # Generate permutation samples\n",
        "    perm_sample_1, perm_sample_2 =permutation_sample (rain_june, rain_november)\n",
        "\n",
        "\n",
        "    # Compute ECDFs\n",
        "    x_1, y_1 = ecdf(perm_sample_1)\n",
        "    x_2, y_2 = ecdf(perm_sample_2)\n",
        "\n",
        "    # Plot ECDFs of permutation sample\n",
        "    _ = plt.plot(x_1, y_1, marker='.', linestyle='none',\n",
        "                 color='red', alpha=0.02)\n",
        "    _ = plt.plot(x_2, y_2, marker='.', linestyle='none',\n",
        "                 color='blue', alpha=0.02)\n",
        "\n",
        "# Create and plot ECDFs from original data\n",
        "x_1, y_1 = ecdf(rain_june)\n",
        "x_2, y_2 = ecdf(rain_november)\n",
        "_ = plt.plot(x_1, y_1, marker='.', linestyle='none', color='red')\n",
        "_ = plt.plot(x_2, y_2, marker='.', linestyle='none', color='blue')\n",
        "\n",
        "# Label axes, set margin, and show plot\n",
        "plt.margins(0.02)\n",
        "_ = plt.xlabel('monthly rainfall (mm)')\n",
        "_ = plt.ylabel('ECDF')\n",
        "plt.show()"
      ],
      "metadata": {
        "id": "Br8kVapfPgm8"
      },
      "execution_count": null,
      "outputs": []
    },
    {
      "cell_type": "markdown",
      "source": [
        "Generating permutation replicates"
      ],
      "metadata": {
        "id": "4RXyJUYyRPlr"
      }
    },
    {
      "cell_type": "code",
      "source": [
        "def draw_perm_reps(data_1, data_2, func, size=1):\n",
        "    \"\"\"Generate multiple permutation replicates.\"\"\"\n",
        "\n",
        "    # Initialize array of replicates: perm_replicates\n",
        "    perm_replicates = np.empty(size)\n",
        "\n",
        "    for i in range(size):\n",
        "        # Generate permutation sample\n",
        "        perm_sample_1, perm_sample_2 = permutation_sample(data_1,data_2)\n",
        "\n",
        "        # Compute the test statistic\n",
        "        perm_replicates[i] = func(perm_sample_1,perm_sample_2)\n",
        "\n",
        "    return perm_replicates\n",
        "\n",
        "\n",
        "     = sns.swarmplot(x='ID',y='impact_force',data = df)\n",
        "# Label axes\n",
        "_ = plt.xlabel('frog')\n",
        "_ = plt.ylabel('impact force (N)')\n",
        "\n",
        "# Show the plot\n",
        "plt.show()"
      ],
      "metadata": {
        "id": "ivrBuQdZRS1d"
      },
      "execution_count": null,
      "outputs": []
    },
    {
      "cell_type": "markdown",
      "source": [
        "Permutation test on frog data"
      ],
      "metadata": {
        "id": "9ZiB9EWWR6ky"
      }
    },
    {
      "cell_type": "code",
      "source": [
        "def diff_of_means(data_1, data_2):\n",
        "    \"\"\"Difference in means of two arrays.\"\"\"\n",
        "\n",
        "    # The difference of means of data_1, data_2: diff\n",
        "    diff = np.mean(data_1) - np.mean(data_2)\n",
        "\n",
        "    return diff\n",
        "\n",
        "# Compute difference of mean impact force from experiment: empirical_diff_means\n",
        "empirical_diff_means = diff_of_means(force_a,force_b)\n",
        "\n",
        "# Draw 10,000 permutation replicates: perm_replicates\n",
        "perm_replicates = draw_perm_reps(force_a, force_b,\n",
        "                                 diff_of_means, size=10000)\n",
        "\n",
        "# Compute p-value: p\n",
        "p = np.sum(perm_replicates >= empirical_diff_means) / len(perm_replicates)\n",
        "\n",
        "# Print the result\n",
        "print('p-value =', p)"
      ],
      "metadata": {
        "id": "q9FgD0dJR_hP"
      },
      "execution_count": null,
      "outputs": []
    },
    {
      "cell_type": "markdown",
      "source": [
        "a one-sample bootstrap hypothesis"
      ],
      "metadata": {
        "id": "RYr5b3hhTFgf"
      }
    },
    {
      "cell_type": "code",
      "source": [
        "translated_force_b = force_b - np.mean(force_b) + 0.55\n",
        "\n",
        "# Take bootstrap replicates of Frog B's translated impact forces: bs_replicates\n",
        "bs_replicates = draw_bs_reps(translated_force_b, np.mean, 10000)\n",
        "\n",
        "# Compute fraction of replicates that are less than the observed Frog B force: p\n",
        "p = np.sum(bs_replicates <= np.mean(force_b)) / 10000\n",
        "\n",
        "# Print the p-value\n",
        "print('p = ', p)"
      ],
      "metadata": {
        "id": "m4mZ2W6OTJkv"
      },
      "execution_count": null,
      "outputs": []
    },
    {
      "cell_type": "markdown",
      "source": [
        "a 2-sample bootstrap hypothesis : tests for difference of means"
      ],
      "metadata": {
        "id": "db6znXcWTmYc"
      }
    },
    {
      "cell_type": "code",
      "source": [
        "# Compute mean of all forces: mean_force\n",
        "mean_force = np.mean(forces_concat)\n",
        "\n",
        "# Generate shifted arrays\n",
        "force_a_shifted = force_a - np.mean(force_a) + mean_force\n",
        "force_b_shifted = force_b - np.mean(force_b) + mean_force \n",
        "\n",
        "# Compute 10,000 bootstrap replicates from shifted arrays\n",
        "bs_replicates_a = draw_bs_reps(force_a_shifted, np.mean, size=10000)\n",
        "bs_replicates_b = draw_bs_reps(force_b_shifted, np.mean, size=10000)\n",
        "\n",
        "# Get replicates of difference of means: bs_replicates\n",
        "bs_replicates = bs_replicates_a - bs_replicates_b\n",
        "\n",
        "# Compute and print p-value: p\n",
        "p = np.sum(bs_replicates >= empirical_diff_means) / len(bs_replicates)\n",
        "print('p-value =', p)"
      ],
      "metadata": {
        "id": "iqH_PfogTpqi"
      },
      "execution_count": null,
      "outputs": []
    },
    {
      "cell_type": "code",
      "source": [
        "HYPOTHESIS TEST EXAMPLES"
      ],
      "metadata": {
        "id": "HkIe1ic2gxd3"
      },
      "execution_count": null,
      "outputs": []
    },
    {
      "cell_type": "markdown",
      "source": [
        "Vote for civil rights act in 1964"
      ],
      "metadata": {
        "id": "cOF9E6IQgzi1"
      }
    },
    {
      "cell_type": "code",
      "source": [
        "# Construct arrays of data: dems, reps\n",
        "dems = np.array([True] * 153 + [False] * 91)\n",
        "reps = np.array([True] * 136 + [False] * 35)\n",
        "\n",
        "def frac_yea_dems(dems, reps):\n",
        "    \"\"\"Compute fraction of Democrat yea votes.\"\"\"\n",
        "    frac = np.sum(dems) / len (dems)\n",
        "    return frac\n",
        "\n",
        "# Acquire permutation samples: perm_replicates\n",
        "perm_replicates = draw_perm_reps(dems, reps, frac_yea_dems, size=10000)\n",
        "\n",
        "# Compute and print p-value: p\n",
        "p = np.sum(perm_replicates <= 153/244) / len(perm_replicates)\n",
        "print('p-value =', p)"
      ],
      "metadata": {
        "id": "LAdh6yoYg6bQ"
      },
      "execution_count": null,
      "outputs": []
    },
    {
      "cell_type": "markdown",
      "source": [
        " A time-on-website analog"
      ],
      "metadata": {
        "id": "wf1_zKGoh6iL"
      }
    },
    {
      "cell_type": "code",
      "source": [
        "# Compute the observed difference in mean inter-no-hitter times: nht_diff_obs\n",
        "nht_diff_obs = diff_of_means(nht_dead, nht_live)\n",
        "\n",
        "# Acquire 10,000 permutation replicates of difference in mean no-hitter time: perm_replicates\n",
        "perm_replicates = draw_perm_reps (nht_dead, nht_live, diff_of_means, size = 10000)\n",
        "\n",
        "\n",
        "# Compute and print the p-value: p\n",
        "p = np.sum(perm_replicates <= nht_diff_obs) / len(perm_replicates)\n",
        "print('p-val =', p)"
      ],
      "metadata": {
        "id": "T8cQzVH3h8z3"
      },
      "execution_count": null,
      "outputs": []
    },
    {
      "cell_type": "markdown",
      "source": [
        "Hypothesis test on pearson correlation"
      ],
      "metadata": {
        "id": "aKoAlXbzi__S"
      }
    },
    {
      "cell_type": "code",
      "source": [
        "# Compute observed correlation: r_obs\n",
        "r_obs = pearson_r(illiteracy, fertility)\n",
        "\n",
        "# Initialize permutation replicates: perm_replicates\n",
        "perm_replicates = np.empty(10000)\n",
        "\n",
        "# Draw replicates\n",
        "for i in range(10000):\n",
        "    # Permute illiteracy measurments: illiteracy_permuted\n",
        "    illiteracy_permuted = np.random.permutation(illiteracy)\n",
        "\n",
        "    # Compute Pearson correlation\n",
        "    perm_replicates[i] = pearson_r(illiteracy_permuted, fertility)\n",
        "\n",
        "# Compute p-value: p\n",
        "p = np.sum(perm_replicates >= r_obs) / len(perm_replicates)\n",
        "print('p-val =', p)"
      ],
      "metadata": {
        "id": "FYdS8R3zjC19"
      },
      "execution_count": null,
      "outputs": []
    },
    {
      "cell_type": "markdown",
      "source": [
        "do neonicotinoid insecticides have unintended consequences"
      ],
      "metadata": {
        "id": "_r1qMQ2PjOXV"
      }
    },
    {
      "cell_type": "code",
      "source": [
        "# Compute x,y values for ECDFs\n",
        "x_control, y_control = ecdf(control)\n",
        "x_treated, y_treated = ecdf(treated)\n",
        "\n",
        "# Plot the ECDFs\n",
        "plt.plot(x_control, y_control, marker='.', linestyle='none')\n",
        "plt.plot(x_treated, y_treated, marker='.', linestyle='none')\n",
        "\n",
        "# Set the margins\n",
        "plt.margins(0.02)\n",
        "\n",
        "# Add a legend\n",
        "plt.legend(('control', 'treated'), loc='lower right')\n",
        "\n",
        "# Label axes and show plot\n",
        "plt.xlabel('millions of alive sperm per mL')\n",
        "plt.ylabel('ECDF')\n",
        "plt.show()"
      ],
      "metadata": {
        "id": "IBr5_5hZjY-k"
      },
      "execution_count": null,
      "outputs": []
    },
    {
      "cell_type": "markdown",
      "source": [
        "Bootstrap hypothesis on bee sperm counts"
      ],
      "metadata": {
        "id": "iW2rv2jxjlQJ"
      }
    },
    {
      "cell_type": "code",
      "source": [
        "5. Bootstrap hypothesis test on bee sperm counts\n",
        "Now, you will test the following hypothesis: On average, male bees treated with neonicotinoid insecticide have the same number of active sperm per milliliter of semen than do untreated male bees. You will use the difference of means as your test statistic.\n",
        "For your reference, the call signature for the draw_bs_reps() function you wrote in chapter 2 is draw_bs_reps(data, func, size=1).\n",
        "INSTRUCTIONS\n",
        "100 XP\n",
        "Compute the mean alive sperm count of control minus that of treated.\n",
        "Compute the mean of all alive sperm counts. To do this, first concatenate control and treated and take the mean of the concatenated array.\n",
        "Generate shifted data sets for both control and treated such that the shifted data sets have the same mean. This has already been done for you.\n",
        "Generate 10,000 bootstrap replicates of the mean each for the two shifted arrays. Use your draw_bs_reps() function.\n",
        "Compute the bootstrap replicates of the difference of means.\n",
        "The code to compute and print the p-value has been written for you. Hit 'Submit Answer' to see the result!\n",
        "'''\n",
        "\n",
        "# Compute the difference in mean sperm count: diff_means\n",
        "diff_means = np.mean(control) - np.mean(treated)\n",
        "\n",
        "# Compute mean of pooled data: mean_count\n",
        "mean_count = np.mean(np.concatenate((control, treated)))\n",
        "\n",
        "# Generate shifted data sets\n",
        "control_shifted = control - np.mean(control) + mean_count\n",
        "treated_shifted = treated - np.mean(treated) + mean_count\n",
        "\n",
        "# Generate bootstrap replicates\n",
        "bs_reps_control = draw_bs_reps(control_shifted,\n",
        "                               np.mean, size=10000)\n",
        "bs_reps_treated = draw_bs_reps(treated_shifted,\n",
        "                               np.mean, size=10000)\n",
        "\n",
        "# Get replicates of difference of means: bs_replicates\n",
        "bs_replicates = bs_reps_control - bs_reps_treated\n",
        "\n",
        "# Compute and print p-value: p\n",
        "p = np.sum(bs_replicates >= np.mean(control) - np.mean(treated)) \\\n",
        "            / len(bs_replicates)\n",
        "print('p-value =', p)\n",
        "\n",
        "\n"
      ],
      "metadata": {
        "id": "PgAggq1LjoYZ"
      },
      "execution_count": null,
      "outputs": []
    },
    {
      "cell_type": "markdown",
      "source": [
        "PUTTING IT ALL TOGETHER: A  CASE STUDY"
      ],
      "metadata": {
        "id": "T6zLbW0Kk6hX"
      }
    },
    {
      "cell_type": "markdown",
      "source": [
        "EDA of beak depths of darwin finches"
      ],
      "metadata": {
        "id": "3fdpoIDEk-qm"
      }
    },
    {
      "cell_type": "code",
      "source": [
        "1. EDA of beak depths of Darwin's finches\n",
        "For your first foray into the Darwin finch data, you will study how the beak depth (the distance, top to bottom, of a closed beak) of the finch species Geospiza scandens has changed over time. The Grants have noticed some changes of beak geometry depending on the types of seeds available on the island, and they also noticed that there was some interbreeding with another major species on Daphne Major, Geospiza fortis. These effects can lead to changes in the species over time.\n",
        "In the next few problems, you will look at the beak depth of G. scandens on Daphne Major in 1975 and in 2012. To start with, let's plot all of the beak depth measurements in 1975 and 2012 in a bee swarm plot.\n",
        "The data are stored in a pandas DataFrame called df with columns 'year' and 'beak_depth'. The units of beak depth are millimeters (mm).\n",
        "INSTRUCTIONS\n",
        "100 XP\n",
        "Create the beeswarm plot.\n",
        "Label the axes.\n",
        "Show the plot.\n",
        "'''\n",
        "\n",
        "# Create bee swarm plot\n",
        "_ = sns.swarmplot(data=df, x='year', y='beak_depth')\n",
        "\n",
        "# Label the axes\n",
        "_ = plt.xlabel('year')\n",
        "_ = plt.ylabel('beak depth (mm)')\n",
        "\n",
        "# Show the plot\n",
        "plt.show()\n"
      ],
      "metadata": {
        "id": "PF4iMX8PlCq_"
      },
      "execution_count": null,
      "outputs": []
    },
    {
      "cell_type": "markdown",
      "source": [
        "ECDS of beak depths"
      ],
      "metadata": {
        "id": "1zbIO8twlMGk"
      }
    },
    {
      "cell_type": "code",
      "source": [
        "While bee swarm plots are useful, we found that ECDFs are often even better when doing EDA. Plot the ECDFs for the 1975 and 2012 beak depth measurements on the same plot.\n",
        "For your convenience, the beak depths for the respective years has been stored in the NumPy arrays bd_1975 and bd_2012.\n",
        "INSTRUCTIONS\n",
        "100 XP\n",
        "Compute the ECDF for the 1975 and 2012 data.\n",
        "Plot the two ECDFs.\n",
        "Set a 2% margin and add axis labels and a legend to the plot.\n",
        "Hit 'Submit Answer' to view the plot!\n",
        "'''\n",
        "\n",
        "# Compute ECDFs\n",
        "x_1975, y_1975 = ecdf(bd_1975)\n",
        "x_2012, y_2012 = ecdf(bd_2012)\n",
        "\n",
        "# Plot the ECDFs\n",
        "_ = plt.plot(x_1975, y_1975, marker='.', linestyle='none')\n",
        "_ = plt.plot(x_2012, y_2012, marker='.', linestyle='none')\n",
        "\n",
        "# Set margins\n",
        "plt.margins(0.02)\n",
        "\n",
        "# Add axis labels and legend\n",
        "_ = plt.xlabel('beak depth (mm)')\n",
        "_ = plt.ylabel('ECDF')\n",
        "_ = plt.legend(('1975', '2012'), loc='lower right')\n",
        "\n",
        "# Show the plot\n",
        "plt.show()\n"
      ],
      "metadata": {
        "id": "hrYmRjPolYkz"
      },
      "execution_count": null,
      "outputs": []
    },
    {
      "cell_type": "markdown",
      "source": [
        "Parameter estimates of beak depths"
      ],
      "metadata": {
        "id": "TaAqpaYalZcB"
      }
    },
    {
      "cell_type": "code",
      "source": [
        "Estimate the difference of the mean beak depth of the G. scandens samples from 1975 and 2012 and report a 95% confidence interval.\n",
        "Since in this exercise you will use the draw_bs_reps() function you wrote in chapter 2, it may be helpful to refer back to it.\n",
        "INSTRUCTIONS\n",
        "100 XP\n",
        "Compute the difference of the sample means.\n",
        "Take 10,000 bootstrap replicates of the mean for the 1975 beak depths using your draw_bs_reps() function. Also get 10,000 bootstrap replicates of the mean for the 2012 beak depths.\n",
        "Subtract the 1975 replicates from the 2012 replicates to get bootstrap replicates of the difference of means.\n",
        "Use the replicates to compute the 95% confidence interval.\n",
        "Hit 'Submit Answer' to view the results!\n",
        "'''\n",
        "\n",
        "# Compute the difference of the sample means: mean_diff\n",
        "mean_diff = np.mean(bd_2012) - np.mean(bd_1975)\n",
        "\n",
        "# Get bootstrap replicates of means\n",
        "bs_replicates_1975 = draw_bs_reps(bd_1975, np.mean, 10000)\n",
        "bs_replicates_2012 = draw_bs_reps(bd_2012, np.mean, 10000)\n",
        "\n",
        "# Compute samples of difference of means: bs_diff_replicates\n",
        "bs_diff_replicates = bs_replicates_2012 - bs_replicates_1975\n",
        "\n",
        "# Compute 95% confidence interval: conf_int\n",
        "conf_int = np.percentile(bs_diff_replicates, [2.5, 97.5])\n",
        "\n",
        "# Print the results\n",
        "print('difference of means =', mean_diff, 'mm')\n",
        "print('95% confidence interval =', conf_int, 'mm')"
      ],
      "metadata": {
        "id": "nsNdCp0jloaM"
      },
      "execution_count": null,
      "outputs": []
    },
    {
      "cell_type": "markdown",
      "source": [
        "Hypothesis test: are beak depths deeper in 2012"
      ],
      "metadata": {
        "id": "TN6FrBYolpDz"
      }
    },
    {
      "cell_type": "code",
      "source": [
        "Your plot of the ECDF and determination of the confidence interval make it pretty clear that the beaks of G. scandens on Daphne Major have gotten deeper. But is it possible that this effect is just due to random chance? In other words, what is the probability that we would get the observed difference in mean beak depth if the means were the same?\n",
        "Be careful! The hypothesis we are testing is not that the beak depths come from the same distribution. For that we could use a permutation test. The hypothesis is that the means are equal. To perform this hypothesis test, we need to shift the two data sets so that they have the same mean and then use bootstrap sampling to compute the difference of means.\n",
        "INSTRUCTIONS\n",
        "100 XP\n",
        "Make a concatenated array of the 1975 and 2012 beak depths and compute and store its mean.\n",
        "Shift bd_1975 and bd_2012 such that their means are equal to the one you just computed for the combined data set.\n",
        "Take 10,000 bootstrap replicates of the mean each for the 1975 and 2012 beak depths.\n",
        "Subtract the 1975 replicates from the 2012 replicates to get bootstrap replicates of the difference.\n",
        "Compute and print the p-value. The observed difference in means you computed in the last exercise is still in your namespace as mean_diff.\n",
        "'''\n",
        "\n",
        "# Compute mean of combined data set: combined_mean\n",
        "combined_mean = np.mean(np.concatenate((bd_1975, bd_2012)))\n",
        "\n",
        "# Shift the samples\n",
        "bd_1975_shifted = bd_1975 - np.mean(bd_1975) + combined_mean\n",
        "bd_2012_shifted = bd_2012 - np.mean(bd_2012) + combined_mean\n",
        "\n",
        "# Get bootstrap replicates of shifted data sets\n",
        "bs_replicates_1975 = draw_bs_reps(bd_1975_shifted, np.mean, 10000)\n",
        "bs_replicates_2012 = draw_bs_reps(bd_2012_shifted, np.mean, 10000)\n",
        "\n",
        "# Compute replicates of difference of means: bs_diff_replicates\n",
        "bs_diff_replicates = bs_replicates_2012 - bs_replicates_1975\n",
        "\n",
        "# Compute the p-value\n",
        "p = np.sum(bs_diff_replicates >= mean_diff) / len(bs_diff_replicates)\n",
        "\n",
        "# Print p-value\n",
        "print('p =', p)"
      ],
      "metadata": {
        "id": "gpNCmG36l6iV"
      },
      "execution_count": null,
      "outputs": []
    },
    {
      "cell_type": "markdown",
      "source": [
        "EDA of beak length and depth "
      ],
      "metadata": {
        "id": "wFiK4C8SnklT"
      }
    },
    {
      "cell_type": "code",
      "source": [
        "The beak length data are stored as bl_1975 and bl_2012, again with units of millimeters (mm). You still have the beak depth data stored in bd_1975 and bd_2012. Make scatter plots of beak depth (y-axis) versus beak length (x-axis) for the 1975 and 2012 specimens.\n",
        "INSTRUCTIONS\n",
        "100 XP\n",
        "Make a scatter plot of the 1975 data. Use the color='blue' keyword argument. Also use an alpha=0.5 keyword argument to have transparency in case data points overlap.\n",
        "Do the same for the 2012 data, but use the color='red' keyword argument.\n",
        "Add a legend and label the axes.\n",
        "Show your plot.\n",
        "'''\n",
        "\n",
        "# Make scatter plot of 1975 data\n",
        "_ = plt.plot(bl_1975, bd_1975, marker='.',\n",
        "             linestyle='none', color='blue', alpha=0.5)\n",
        "\n",
        "# Make scatter plot of 2012 data\n",
        "_ = plt.plot(bl_2012, bd_2012, marker='.',\n",
        "             linestyle='none', color='red', alpha=0.5)\n",
        "\n",
        "# Label axes and make legend\n",
        "_ = plt.xlabel('beak length (mm)')\n",
        "_ = plt.ylabel('beak depth (mm)')\n",
        "_ = plt.legend(('1975', '2012'), loc='upper left')\n",
        "\n",
        "# Show the plot\n",
        "plt.show()\n"
      ],
      "metadata": {
        "id": "UDLi8hZMnomP"
      },
      "execution_count": null,
      "outputs": []
    },
    {
      "cell_type": "markdown",
      "source": [
        "Linear regression"
      ],
      "metadata": {
        "id": "g67yLbaynuCD"
      }
    },
    {
      "cell_type": "code",
      "source": [
        "Perform a linear regression for both the 1975 and 2012 data. Then, perform pairs bootstrap estimates for the regression parameters. Report 95% confidence intervals on the slope and intercept of the regression line.\n",
        "You will use the draw_bs_pairs_linreg() function you wrote back in chapter 2.\n",
        "As a reminder, its call signature is draw_bs_pairs_linreg(x, y, size=1), and it returns bs_slope_reps and bs_intercept_reps.\n",
        "INSTRUCTIONS\n",
        "100 XP\n",
        "Compute the slope and intercept for both the 1975 and 2012 data sets.\n",
        "Obtain 1000 pairs bootstrap samples for the linear regressions using your draw_bs_pairs_linreg() function.\n",
        "Compute 95% confidence intervals for the slopes and the intercepts.\n",
        "'''\n",
        "\n",
        "# Compute the linear regressions\n",
        "slope_1975, intercept_1975 = np.polyfit(bl_1975, bd_1975, 1)\n",
        "slope_2012, intercept_2012 = np.polyfit(bl_2012, bd_2012, 1)\n",
        "\n",
        "# Perform pairs bootstrap for the linear regressions\n",
        "bs_slope_reps_1975, bs_intercept_reps_1975 = \\\n",
        "        draw_bs_pairs_linreg(bl_1975, bd_1975, 1000)\n",
        "bs_slope_reps_2012, bs_intercept_reps_2012 = \\\n",
        "        draw_bs_pairs_linreg(bl_2012, bd_2012, 1000)\n",
        "\n",
        "# Compute confidence intervals of slopes\n",
        "slope_conf_int_1975 = np.percentile(bs_slope_reps_1975, [2.5, 97.5])\n",
        "slope_conf_int_2012 = np.percentile(bs_slope_reps_2012, [2.5, 97.5])\n",
        "intercept_conf_int_1975 = np.percentile(\n",
        "                            bs_intercept_reps_1975, [2.5, 97.5])\n",
        "intercept_conf_int_2012 = np.percentile(\n",
        "                            bs_intercept_reps_2012, [2.5, 97.5])\n",
        "\n",
        "\n",
        "# Print the results\n",
        "print('1975: slope =', slope_1975,\n",
        "      'conf int =', slope_conf_int_1975)\n",
        "print('1975: intercept =', intercept_1975,\n",
        "      'conf int =', intercept_conf_int_1975)\n",
        "print('2012: slope =', slope_2012,\n",
        "      'conf int =', slope_conf_int_2012)\n",
        "print('2012: intercept =', intercept_2012,\n",
        "      'conf int =', intercept_conf_int_2012)"
      ],
      "metadata": {
        "id": "Nk59hRdwoIWi"
      },
      "execution_count": null,
      "outputs": []
    },
    {
      "cell_type": "markdown",
      "source": [
        "Display Linear regression result"
      ],
      "metadata": {
        "id": "1OOrPk59oR0O"
      }
    },
    {
      "cell_type": "code",
      "source": [
        "Now, you will display your linear regression results on the scatter plot, the code for which is already pre-written for you from your previous exercise. To do this, take the first 100 bootstrap samples (stored in bs_slope_reps_1975, bs_intercept_reps_1975, bs_slope_reps_2012, and bs_intercept_reps_2012) and plot the lines with alpha=0.2 and linewidth=0.5 keyword arguments to plt.plot().\n",
        "INSTRUCTIONS\n",
        "100 XP\n",
        "Generate the x-values for the bootstrap lines using np.array(). They should consist of 10 mm and 17 mm.\n",
        "Write a for loop to plot 100 of the bootstrap lines for the 1975 and 2012 data sets. The lines for the 1975 data set should be 'blue' and those for the 2012 data set should be 'red'.\n",
        "Hit 'Submit Answer' to view the plot!\n",
        "'''\n",
        "\n",
        "# Make scatter plot of 1975 data\n",
        "_ = plt.plot(bl_1975, bd_1975, marker='.',\n",
        "             linestyle='none', color='blue', alpha=0.5)\n",
        "\n",
        "# Make scatter plot of 2012 data\n",
        "_ = plt.plot(bl_2012, bd_2012, marker='.',\n",
        "             linestyle='none', color='red', alpha=0.5)\n",
        "\n",
        "# Label axes and make legend\n",
        "_ = plt.xlabel('beak length (mm)')\n",
        "_ = plt.ylabel('beak depth (mm)')\n",
        "_ = plt.legend(('1975', '2012'), loc='upper left')\n",
        "\n",
        "# Generate x-values for bootstrap lines: x\n",
        "x = np.array([10, 17])\n",
        "\n",
        "# Plot the bootstrap lines\n",
        "for i in range(100):\n",
        "    plt.plot(x, bs_slope_reps_1975[i] * x + bs_intercept_reps_1975[i],\n",
        "             linewidth=0.5, alpha=0.2, color='blue')\n",
        "    plt.plot(x, bs_slope_reps_2012[i] * x + bs_intercept_reps_2012[i],\n",
        "             linewidth=0.5, alpha=0.2, color='red')\n",
        "\n",
        "\n",
        "# Draw the plot again\n",
        "plt.show()"
      ],
      "metadata": {
        "id": "BRv1bC5soUsY"
      },
      "execution_count": null,
      "outputs": []
    },
    {
      "cell_type": "markdown",
      "source": [
        "Beak Length to depth ratio"
      ],
      "metadata": {
        "id": "eLguP_-poYIR"
      }
    },
    {
      "cell_type": "code",
      "source": [
        "The linear regressions showed interesting information about the beak geometry. The slope was the same in 1975 and 2012, suggesting that for every millimeter gained in beak length, the birds gained about half a millimeter in depth in both years. However, if we are interested in the shape of the beak, we want to compare the ratio of beak length to beak depth. Let's make that comparison.\n",
        "Remember, the data are stored in bd_1975, bd_2012, bl_1975, and bl_2012.\n",
        "INSTRUCTIONS\n",
        "100 XP\n",
        "Make arrays of the beak length to depth ratio of each bird for 1975 and for 2012.\n",
        "Compute the mean of the length to depth ratio for 1975 and for 2012.\n",
        "Generate 10,000 bootstrap replicates each for the mean ratio for 1975 and 2012 using your draw_bs_reps() function.\n",
        "Get a 99% bootstrap confidence interval for the length to depth ratio for 1975 and 2012.\n",
        "Print the results.\n",
        "'''\n",
        "\n",
        "# Compute length-to-depth ratios\n",
        "ratio_1975 = bl_1975 / bd_1975\n",
        "ratio_2012 = bl_2012 / bd_2012\n",
        "\n",
        "# Compute means\n",
        "mean_ratio_1975 = np.mean(ratio_1975)\n",
        "mean_ratio_2012 = np.mean(ratio_2012)\n",
        "\n",
        "# Generate bootstrap replicates of the means\n",
        "bs_replicates_1975 = draw_bs_reps(ratio_1975, np.mean, size=10000)\n",
        "bs_replicates_2012 = draw_bs_reps(ratio_2012, np.mean, size=10000)\n",
        "\n",
        "# Compute the 99% confidence intervals\n",
        "conf_int_1975 = np.percentile(bs_replicates_1975, [0.5, 99.5])\n",
        "conf_int_2012 = np.percentile(bs_replicates_2012, [0.5, 99.5])\n",
        "\n",
        "# Print the results\n",
        "print('1975: mean ratio =', mean_ratio_1975,\n",
        "      'conf int =', conf_int_1975)\n",
        "print('2012: mean ratio =', mean_ratio_2012,\n",
        "      'conf int =', conf_int_2012)"
      ],
      "metadata": {
        "id": "YLqrvM5cokpV"
      },
      "execution_count": null,
      "outputs": []
    },
    {
      "cell_type": "markdown",
      "source": [
        "EDA of heritability"
      ],
      "metadata": {
        "id": "32_oI8RXpNEj"
      }
    },
    {
      "cell_type": "code",
      "source": [
        "The array bd_parent_scandens contains the average beak depth (in mm) of two parents of the species G. scandens. The array bd_offspring_scandens contains the average beak depth of the offspring of the respective parents. The arrays bd_parent_fortis and bd_offspring_fortis contain the same information about measurements from G. fortis birds.\n",
        "Make a scatter plot of the average offspring beak depth (y-axis) versus average parental beak depth (x-axis) for both species. Use the alpha=0.5 keyword argument to help you see overlapping points.\n",
        "INSTRUCTIONS\n",
        "100 XP\n",
        "Generate scatter plots for both species. Display the data for G. fortis in blue and G. scandens in red.\n",
        "Set the axis labels, make a legend, and show the plot.\n",
        "'''\n",
        "\n",
        "# Make scatter plots\n",
        "_ = plt.plot(bd_parent_fortis, bd_offspring_fortis,\n",
        "             marker='.', linestyle='none', color='blue', alpha=0.5)\n",
        "_ = plt.plot(bd_parent_scandens, bd_offspring_scandens,\n",
        "             marker='.', linestyle='none', color='red', alpha=0.5)\n",
        "\n",
        "# Set margins, make legend, label axes, and show plot\n",
        "plt.margins(0.02)\n",
        "\n",
        "# Label axes\n",
        "_ = plt.xlabel('parental beak depth (mm)')\n",
        "_ = plt.ylabel('offspring beak depth (mm)')\n",
        "\n",
        "# Add legend\n",
        "_ = plt.legend(('G. fortis', 'G. scandens'), loc='lower right')\n",
        "\n",
        "# Show plot\n",
        "plt.show()"
      ],
      "metadata": {
        "id": "E0wGKOivpPcf"
      },
      "execution_count": null,
      "outputs": []
    },
    {
      "cell_type": "markdown",
      "source": [
        "Correlation of offspring and parental data"
      ],
      "metadata": {
        "id": "iIoaDYn1pU6a"
      }
    },
    {
      "cell_type": "code",
      "source": [
        "In an effort to quantify the correlation between offspring and parent beak depths, we would like to compute statistics, such as the Pearson correlation coefficient, between parents and offspring. To get confidence intervals on this, we need to do a pairs bootstrap.\n",
        "You have already written a function to do pairs bootstrap to get estimates for parameters derived from linear regression. Your task in this exercise is to modify that function to make a new function with call signature draw_bs_pairs(x, y, func, size=1) that performs pairs bootstrap and computes a single statistic on the pairs samples defined by func(bs_x, bs_y). In the next exercise, you will use pearson_r for func.\n",
        "INSTRUCTIONS\n",
        "100 XP\n",
        "We have provided your original draw_bs_pairs_linreg() function (named as draw_bs_pairs()). Modify this function to make the draw_bs_pairs() function described above. Be sure to adjust the doc string appropriately, and remember that in this modified function, you only need to return a single statistic.\n",
        "Things to keep in mind: The modified function requires an additional func parameter and returns only bs_replicates, as opposed to bs_slope_reps and bs_intercept_reps as the function in the sample code does.\n",
        "'''\n",
        "\n",
        "def draw_bs_pairs(x, y, size=1):\n",
        "    \"\"\"Perform pairs bootstrap for linear regression.\"\"\"\n",
        "\n",
        "    # Set up array of indices to sample from: inds\n",
        "    inds = np.arange(len(x))\n",
        "\n",
        "    # Initialize replicates: bs_replicates\n",
        "    bs_replicates = np.empty(size)\n",
        "\n",
        "    # Generate replicates\n",
        "    for i in range(1):\n",
        "        bs_inds = np.random.choice(inds, len(inds))\n",
        "        bs_x, bs_y = x[bs_inds], y[bs_inds]\n",
        "        bs_replicates[i] = func(bs_x, bs_y)\n",
        "\n",
        "    return bs_replicates"
      ],
      "metadata": {
        "id": "MUn9Oe95pf9t"
      },
      "execution_count": null,
      "outputs": []
    },
    {
      "cell_type": "markdown",
      "source": [
        "Pearson correlation of offspring and parental data"
      ],
      "metadata": {
        "id": "ViM91A4GpnVn"
      }
    },
    {
      "cell_type": "code",
      "source": [
        "The Pearson correlation coefficient seems like a useful measure of how strongly the beak depth of parents are inherited by their offspring. Compute the Pearson correlation coefficient between parental and offspring beak depths for G. scandens. Do the same for G. fortis. Then, use the function you wrote in the last exercise to compute a 95% confidence interval using pairs bootstrap.\n",
        "Remember, the data are stored in bd_parent_scandens, bd_offspring_scandens, bd_parent_fortis, and bd_offspring_fortis.\n",
        "INSTRUCTIONS\n",
        "100 XP\n",
        "Use the pearson_r() function you wrote in the prequel to this course to compute the Pearson correlation coefficient for G. scandens and G. fortis.\n",
        "Acquire 1000 pairs bootstrap replicates of the Pearson correlation coefficient using the draw_bs_pairs() function you wrote in the previous exercise for G. scandens and G. fortis.\n",
        "Compute the 95% confidence interval for both using your bootstrap replicates.\n",
        "'''\n",
        "\n",
        "# Compute the Pearson correlation coefficients\n",
        "r_scandens = pearson_r(bd_parent_scandens, bd_offspring_scandens)\n",
        "r_fortis = pearson_r(bd_parent_fortis, bd_offspring_fortis)\n",
        "\n",
        "# Acquire 1000 bootstrap replicates of Pearson r\n",
        "bs_replicates_scandens = draw_bs_pairs(\n",
        "        bd_parent_scandens, bd_offspring_scandens, pearson_r, size=1000)\n",
        "bs_replicates_fortis = draw_bs_pairs(\n",
        "        bd_parent_fortis, bd_offspring_fortis, pearson_r, size=1000)\n",
        "\n",
        "# Compute 95% confidence intervals\n",
        "conf_int_scandens = np.percentile(bs_replicates_scandens, [2.5, 97.5])\n",
        "conf_int_fortis = np.percentile(bs_replicates_fortis, [2.5, 97.5])\n",
        "\n",
        "# Print results\n",
        "print('G. scandens:', r_scandens, conf_int_scandens)\n",
        "print('G. fortis:', r_fortis, conf_int_fortis)"
      ],
      "metadata": {
        "id": "0T4gXeiNprGG"
      },
      "execution_count": null,
      "outputs": []
    },
    {
      "cell_type": "markdown",
      "source": [
        "Measuring Heritability"
      ],
      "metadata": {
        "id": "RLtd0lrhp08w"
      }
    },
    {
      "cell_type": "code",
      "source": [
        "Remember that the Pearson correlation coefficient is the ratio of the covariance to the geometric mean of the variances of the two data sets. This is a measure of the correlation between parents and offspring, but might not be the best estimate of heritability. If we stop and think, it makes more sense to define heritability as the ratio of the covariance between parent and offspring to the variance of the parents alone. In this exercise, you will estimate the heritability and perform a pairs bootstrap calculation to get the 95% confidence interval.\n",
        "This exercise highlights a very important point. Statistical inference (and data analysis in general) is not a plug-n-chug enterprise. You need to think carefully about the questions you are seeking to answer with your data and analyze them appropriately. If you are interested in how heritable traits are, the quantity we defined as the heritability is more apt than the off-the-shelf statistic, the Pearson correlation coefficient.\n",
        "Remember, the data are stored in bd_parent_scandens, bd_offspring_scandens, bd_parent_fortis, and bd_offspring_fortis.\n",
        "INSTRUCTIONS\n",
        "100 XP\n",
        "Write a function heritability(parents, offspring) that computes heritability defined as the ratio of the covariance of the trait in parents and offspring divided by the variance of the trait in the parents. Hint: Remind yourself of the np.cov() function we covered in the prequel to this course.\n",
        "Use this function to compute the heritability for G. scandens and G. fortis.\n",
        "Acquire 1000 bootstrap replicates of the heritability using pairs bootstrap for G. scandens and G. fortis.\n",
        "Compute the 95% confidence interval for both using your bootstrap replicates.\n",
        "Print the results.\n",
        "'''\n",
        "\n",
        "def heritability(parents, offspring):\n",
        "    \"\"\"Compute the heritability from parent and offspring samples.\"\"\"\n",
        "    covariance_matrix = np.cov(parents, offspring)\n",
        "    return covariance_matrix[0,1] / covariance_matrix[0,0]\n",
        "\n",
        "# Compute the heritability\n",
        "heritability_scandens = heritability(bd_parent_scandens,\n",
        "                                     bd_offspring_scandens)\n",
        "heritability_fortis = heritability(bd_parent_fortis,\n",
        "                                   bd_offspring_fortis)\n",
        "\n",
        "# Acquire 1000 bootstrap replicates of heritability\n",
        "replicates_scandens = draw_bs_pairs(\n",
        "        bd_parent_scandens, bd_offspring_scandens, heritability, size=1000)\n",
        "replicates_fortis = draw_bs_pairs(\n",
        "        bd_parent_fortis, bd_offspring_fortis, heritability, size=1000)\n",
        "\n",
        "# Compute 95% confidence intervals\n",
        "conf_int_scandens = np.percentile(replicates_scandens, [2.5, 97.5])\n",
        "conf_int_fortis = np.percentile(replicates_fortis, [2.5, 97.5])\n",
        "\n",
        "# Print results\n",
        "print('G. scandens:', heritability_scandens, conf_int_scandens)\n",
        "print('G. fortis:', heritability_fortis, conf_int_fortis)"
      ],
      "metadata": {
        "id": "JTYO1Evdp3D-"
      },
      "execution_count": null,
      "outputs": []
    },
    {
      "cell_type": "markdown",
      "source": [
        "I s beak depth heritable at all in G. scandens"
      ],
      "metadata": {
        "id": "wFR3xg09qKz3"
      }
    },
    {
      "cell_type": "code",
      "source": [
        "The heritability of beak depth in G. scandens seems low. It could be that this observed heritability was just achieved by chance and beak depth is actually not really heritable in the species. You will test that hypothesis here. To do this, you will do a pairs permutation test.\n",
        "INSTRUCTIONS\n",
        "100 XP\n",
        "Initialize your array of replicates of heritability. We will take 10,000 pairs permutation replicates.\n",
        "Write a for loop to generate your replicates.\n",
        "Permute the bd_parent_scandens array using np.random.permutation().\n",
        "Compute the heritability between the permuted array and the bd_offspring_scandens array using the heritability() function you wrote in the last exercise. Store the result in the replicates array.\n",
        "Compute the p-value as the number of replicates that are greater than the observed heritability_scandens you computed in the last exercise.\n",
        "'''\n",
        "\n",
        "# Initialize array of replicates: perm_replicates\n",
        "perm_replicates = np.empty(10000)\n",
        "\n",
        "# Draw replicates\n",
        "for i in range(10000):\n",
        "    # Permute parent beak depths\n",
        "    bd_parent_permuted = np.random.permutation(bd_parent_scandens)\n",
        "    perm_replicates[i] = heritability(bd_parent_permuted,\n",
        "                                      bd_offspring_scandens)\n",
        "\n",
        "# Compute p-value: p\n",
        "p = np.sum(perm_replicates >= heritability_scandens) / len(perm_replicates)\n",
        "\n",
        "# Print the p-value\n",
        "print('p-val =', p)"
      ],
      "metadata": {
        "id": "3JKkYxdSqPiN"
      },
      "execution_count": null,
      "outputs": []
    }
  ]
}