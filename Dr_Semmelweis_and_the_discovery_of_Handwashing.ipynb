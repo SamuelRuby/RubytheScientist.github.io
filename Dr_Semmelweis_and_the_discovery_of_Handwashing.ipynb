{
  "nbformat": 4,
  "nbformat_minor": 0,
  "metadata": {
    "colab": {
      "name": "Dr. Semmelweis and the discovery of Handwashing",
      "provenance": [],
      "authorship_tag": "ABX9TyMHUPTyIksIa82cuPVxr90g",
      "include_colab_link": true
    },
    "kernelspec": {
      "name": "python3",
      "display_name": "Python 3"
    },
    "language_info": {
      "name": "python"
    }
  },
  "cells": [
    {
      "cell_type": "markdown",
      "metadata": {
        "id": "view-in-github",
        "colab_type": "text"
      },
      "source": [
        "<a href=\"https://colab.research.google.com/github/SamuelRuby/RubytheScientist.github.io/blob/main/Dr_Semmelweis_and_the_discovery_of_Handwashing.ipynb\" target=\"_parent\"><img src=\"https://colab.research.google.com/assets/colab-badge.svg\" alt=\"Open In Colab\"/></a>"
      ]
    },
    {
      "cell_type": "code",
      "execution_count": null,
      "metadata": {
        "id": "jnwO6ipRk1Yz"
      },
      "outputs": [],
      "source": [
        ""
      ]
    },
    {
      "cell_type": "markdown",
      "source": [
        "This is Dr. Ignaz Semmelweis, a Hungarian physician born in 1818 and active at the Vienna General Hospital. If Dr. Semmelweis looks troubled it's probably because he's thinking about childbed fever: A deadly disease affecting women that just have given birth. He is thinking about it because in the early 1840s at the Vienna General Hospital as many as 10% of the women giving birth die from it. He is thinking about it because he knows the cause of childbed fever: It's the contaminated hands of the doctors delivering the babies. And they won't listen to him and wash their hands!\n",
        "\n",
        "In this notebook, we're going to reanalyze the data that made Semmelweis discover the importance of handwashing. Let's start by looking at the data that made Semmelweis realize that something was wrong with the procedures at Vienna General Hospital."
      ],
      "metadata": {
        "id": "9CO8Adt5k5qu"
      }
    },
    {
      "cell_type": "code",
      "source": [
        "# Importing modules\n",
        "import pandas as pd\n",
        "# ... YOUR CODE FOR TASK 1 ...\n",
        "\n",
        "# Read datasets/yearly_deaths_by_clinic.csv into yearly\n",
        "yearly = pd.read_csv('datasets/yearly_deaths_by_clinic.csv')\n",
        "\n",
        "# Print out yearly\n",
        "# ... YOUR CODE FOR TASK 1 ...\n",
        "print (yearly)\n",
        "\n",
        "\n",
        "    year  births  deaths    clinic\n",
        "0   1841    3036     237  clinic 1\n",
        "1   1842    3287     518  clinic 1\n",
        "2   1843    3060     274  clinic 1\n",
        "3   1844    3157     260  clinic 1\n",
        "4   1845    3492     241  clinic 1\n",
        "5   1846    4010     459  clinic 1\n",
        "6   1841    2442      86  clinic 2\n",
        "7   1842    2659     202  clinic 2\n",
        "8   1843    2739     164  clinic 2\n",
        "9   1844    2956      68  clinic 2\n",
        "10  1845    3241      66  clinic 2\n",
        "11  1846    3754     105  clinic 2"
      ],
      "metadata": {
        "id": "nDLSZiLJk6WX"
      },
      "execution_count": null,
      "outputs": []
    },
    {
      "cell_type": "code",
      "source": [
        ""
      ],
      "metadata": {
        "id": "ZA0WzR5YnZaY"
      },
      "execution_count": null,
      "outputs": []
    },
    {
      "cell_type": "markdown",
      "source": [
        "2. The alarming number of deaths\n",
        "The table above shows the number of women giving birth at the two clinics at the Vienna General Hospital for the years 1841 to 1846. You'll notice that giving birth was very dangerous; an alarming number of women died as the result of childbirth, most of them from childbed fever.\n",
        "\n",
        "We see this more clearly if we look at the proportion of deaths out of the number of women giving birth. Let's zoom in on the proportion of deaths at Clinic 1."
      ],
      "metadata": {
        "id": "yIVROTuBk9mM"
      }
    },
    {
      "cell_type": "code",
      "source": [
        "# Calculate proportion of deaths per no. births\n",
        "# ... YOUR CODE FOR TASK 2 ...\n",
        "yearly['proportion_deaths'] = yearly['deaths'] / yearly['births']\n",
        "\n",
        "# Extract Clinic 1 data into clinic_1 and Clinic 2 data into clinic_2\n",
        "clinic_1 = yearly[yearly['clinic'] == 'clinic 1']\n",
        "clinic_2 = yearly[yearly['clinic'] == 'clinic 2']\n",
        "\n",
        "# Print out clinic_1\n",
        "# ... YOUR CODE FOR TASK 2 ...\n",
        "print (clinic_1)\n",
        "\n",
        "\n",
        "   year  births  deaths    clinic  proportion_deaths\n",
        "0  1841    3036     237  clinic 1           0.078063\n",
        "1  1842    3287     518  clinic 1           0.157591\n",
        "2  1843    3060     274  clinic 1           0.089542\n",
        "3  1844    3157     260  clinic 1           0.082357\n",
        "4  1845    3492     241  clinic 1           0.069015\n",
        "5  1846    4010     459  clinic 1           0.114464"
      ],
      "metadata": {
        "id": "lmk8Gz6mlBRp"
      },
      "execution_count": null,
      "outputs": []
    },
    {
      "cell_type": "markdown",
      "source": [
        "3. Death at the clinics\n",
        "If we now plot the proportion of deaths at both Clinic 1 and Clinic 2 we'll see a curious pattern…"
      ],
      "metadata": {
        "id": "lb6uPjfilF07"
      }
    },
    {
      "cell_type": "code",
      "source": [
        "# This makes plots appear in the notebook\n",
        "%matplotlib inline\n",
        "\n",
        "# Plot yearly proportion of deaths at the two clinics\n",
        "ax = clinic_1.plot(x=\"year\", y=\"proportion_deaths\", label=\"Clinic 1\")\n",
        "clinic_2.plot(x=\"year\", y=\"proportion_deaths\", label=\"Clinic 2\", ax=ax, ylabel=\"Proportion deaths\")"
      ],
      "metadata": {
        "id": "rkxJnPKtlJhv"
      },
      "execution_count": null,
      "outputs": []
    },
    {
      "cell_type": "markdown",
      "source": [
        "4. The handwashing begins\n",
        "Why is the proportion of deaths consistently so much higher in Clinic 1? Semmelweis saw the same pattern and was puzzled and distressed. The only difference between the clinics was that many medical students served at Clinic 1, while mostly midwife students served at Clinic 2. While the midwives only tended to the women giving birth, the medical students also spent time in the autopsy rooms examining corpses.\n",
        "\n",
        "Semmelweis started to suspect that something on the corpses spread from the hands of the medical students, caused childbed fever. So in a desperate attempt to stop the high mortality rates, he decreed: Wash your hands! This was an unorthodox and controversial request, nobody in Vienna knew about bacteria at this point in time.\n",
        "\n",
        "Let's load in monthly data from Clinic 1 to see if the handwashing had any effect."
      ],
      "metadata": {
        "id": "Bo2SrbgflMUm"
      }
    },
    {
      "cell_type": "code",
      "source": [
        "# Read datasets/monthly_deaths.csv into monthly\n",
        "monthly = pd.read_csv('datasets/monthly_deaths.csv', parse_dates=['date'])\n",
        "\n",
        "# Calculate proportion of deaths per no. births\n",
        "# ... YOUR CODE FOR TASK 4 ...\n",
        "monthly[\"proportion_deaths\"] = monthly['deaths']/monthly['births']\n",
        "\n",
        "# Print out the first rows in monthly\n",
        "# ... YOUR CODE FOR TASK 4 ...\n",
        "print(monthly.head())\n",
        "\n",
        "\n",
        "      date  births  deaths  proportion_deaths\n",
        "0 1841-01-01     254      37           0.145669\n",
        "1 1841-02-01     239      18           0.075314\n",
        "2 1841-03-01     277      12           0.043321\n",
        "3 1841-04-01     255       4           0.015686\n",
        "4 1841-05-01     255       2           0.007843"
      ],
      "metadata": {
        "id": "X-dDRAZElQq-"
      },
      "execution_count": null,
      "outputs": []
    },
    {
      "cell_type": "markdown",
      "source": [
        "5. The effect of handwashing\n",
        "With the data loaded we can now look at the proportion of deaths over time. In the plot below we haven't marked where obligatory handwashing started, but it reduced the proportion of deaths to such a degree that you should be able to spot it!"
      ],
      "metadata": {
        "id": "lp1AZu9UlUaj"
      }
    },
    {
      "cell_type": "code",
      "source": [
        "# Plot monthly proportion of deaths\n",
        "# ... YOUR CODE FOR TASK 5 ...\n",
        "ax = monthly.plot(x='date', y='proportion_deaths')\n",
        "ax.set_ylabel('Proportion deaths')"
      ],
      "metadata": {
        "id": "zOaEuyeAlXnE"
      },
      "execution_count": null,
      "outputs": []
    },
    {
      "cell_type": "markdown",
      "source": [
        "6. The effect of handwashing highlighted\n",
        "Starting from the summer of 1847 the proportion of deaths is drastically reduced and, yes, this was when Semmelweis made handwashing obligatory.\n",
        "\n",
        "The effect of handwashing is made even more clear if we highlight this in the graph."
      ],
      "metadata": {
        "id": "668Rbd79lbPn"
      }
    },
    {
      "cell_type": "code",
      "source": [
        "# Date when handwashing was made mandatory\n",
        "handwashing_start = pd.to_datetime('1847-06-01')\n",
        "\n",
        "# Split monthly into before and after handwashing_start\n",
        "before_washing = monthly[monthly['date'] < handwashing_start]\n",
        "after_washing = monthly[monthly['date'] >= handwashing_start]\n",
        "\n",
        "# Plot monthly proportion of deaths before and after handwashing\n",
        "# ... YOUR CODE FOR TASK 6 ...\n",
        "ax = before_washing.plot(x='date', y='proportion_deaths', label='before')\n",
        "after_washing.plot(x='date', y='proportion_deaths', label='after', ax=ax)\n",
        "ax.set_ylabel('Proportion deaths')"
      ],
      "metadata": {
        "id": "p0z8205dleRR"
      },
      "execution_count": null,
      "outputs": []
    },
    {
      "cell_type": "markdown",
      "source": [
        "7. More handwashing, fewer deaths?\n",
        "Again, the graph shows that handwashing had a huge effect. How much did it reduce the monthly proportion of deaths on average?"
      ],
      "metadata": {
        "id": "sWPUnMeylh0R"
      }
    },
    {
      "cell_type": "code",
      "source": [
        "# Difference in mean monthly proportion of deaths due to handwashing\n",
        "before_proportion = before_washing['proportion_deaths']\n",
        "after_proportion = after_washing['proportion_deaths']\n",
        "mean_diff = (after_proportion).mean()-(before_proportion).mean()\n",
        "print(mean_diff)\n",
        "\n",
        "-0.08395660751183336"
      ],
      "metadata": {
        "id": "l57be1b1lk7s"
      },
      "execution_count": null,
      "outputs": []
    },
    {
      "cell_type": "markdown",
      "source": [
        "8. A Bootstrap analysis of Semmelweis handwashing data¶\n",
        "It reduced the proportion of deaths by around 8 percentage points! From 10% on average to just 2% (which is still a high number by modern standards).\n",
        "\n",
        "To get a feeling for the uncertainty around how much handwashing reduces mortalities we could look at a confidence interval (here calculated using the bootstrap method)."
      ],
      "metadata": {
        "id": "ccM-IL8Eln2d"
      }
    },
    {
      "cell_type": "code",
      "source": [
        "# A bootstrap analysis of the reduction of deaths due to handwashing\n",
        "boot_mean_diff = []\n",
        "for i in range(3000):\n",
        "    boot_before = before_proportion.sample(frac = 1, replace=True)\n",
        "    boot_after = after_proportion.sample(frac = 1, replace=True)\n",
        "    boot_mean_diff.append(boot_after.mean() - boot_before.mean())\n",
        "\n",
        "# Calculating a 95% confidence interval from boot_mean_diff \n",
        "confidence_interval = pd.Series(boot_mean_diff).quantile([0.025, 0.975])\n",
        "\n",
        "confidence_interval\n",
        "\n",
        "\n",
        "\n",
        "#0.025   -0.101360\n",
        "0.975   -0.067354\n",
        "dtype: float64\n"
      ],
      "metadata": {
        "id": "-lcjrA0wlri-"
      },
      "execution_count": null,
      "outputs": []
    },
    {
      "cell_type": "markdown",
      "source": [
        "9. The fate of Dr. Semmelweis\n",
        "So handwashing reduced the proportion of deaths by between 6.7 and 10 percentage points, according to a 95% confidence interval. All in all, it would seem that Semmelweis had solid evidence that handwashing was a simple but highly effective procedure that could save many lives.\n",
        "\n",
        "The tragedy is that, despite the evidence, Semmelweis' theory — that childbed fever was caused by some \"substance\" (what we today know as bacteria) from autopsy room corpses — was ridiculed by contemporary scientists. The medical community largely rejected his discovery and in 1849 he was forced to leave the Vienna General Hospital for good.\n",
        "\n",
        "One reason for this was that statistics and statistical arguments were uncommon in medical science in the 1800s. Semmelweis only published his data as long tables of raw data, but he didn't show any graphs nor confidence intervals. If he would have had access to the analysis we've just put together he might have been more successful in getting the Viennese doctors to wash their hands."
      ],
      "metadata": {
        "id": "CTGgKnlrlvuq"
      }
    },
    {
      "cell_type": "code",
      "source": [
        "# The data Semmelweis collected points to that:\n",
        "doctors_should_wash_their_hands = True"
      ],
      "metadata": {
        "id": "_tQqaNA1lzDJ"
      },
      "execution_count": null,
      "outputs": []
    }
  ]
}