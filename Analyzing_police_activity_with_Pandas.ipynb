{
  "nbformat": 4,
  "nbformat_minor": 0,
  "metadata": {
    "colab": {
      "name": "Analyzing police activity with Pandas.ipynb",
      "provenance": [],
      "authorship_tag": "ABX9TyMnTayq4ZiBj0Bm/e05zFMS",
      "include_colab_link": true
    },
    "kernelspec": {
      "name": "python3",
      "display_name": "Python 3"
    },
    "language_info": {
      "name": "python"
    }
  },
  "cells": [
    {
      "cell_type": "markdown",
      "metadata": {
        "id": "view-in-github",
        "colab_type": "text"
      },
      "source": [
        "<a href=\"https://colab.research.google.com/github/SamuelRuby/RubytheScientist.github.io/blob/main/Analyzing_police_activity_with_Pandas.ipynb\" target=\"_parent\"><img src=\"https://colab.research.google.com/assets/colab-badge.svg\" alt=\"Open In Colab\"/></a>"
      ]
    },
    {
      "cell_type": "markdown",
      "source": [
        "Let's explore the Stanford Open Policing Project dataset, with emphasis on the policing dataset from Rhode Island, and analyze the impact of gender on police behavior. This project is to gain more practice cleaning messy data, creating visualizations, combining and reshaping datasets, and manipulating time series data. It'll be a valuable experience analyzing a dataset from start to finish.\n",
        "\n",
        "The data was gotten from the Stanford Open Policing Project linked below:\n",
        "\n",
        "https://openpolicing.stanford.edu/publications/"
      ],
      "metadata": {
        "id": "LJcTB2DBsmVt"
      }
    },
    {
      "cell_type": "markdown",
      "source": [
        "Examining the dataset"
      ],
      "metadata": {
        "id": "C4r_3yG3tJ25"
      }
    },
    {
      "cell_type": "code",
      "execution_count": 3,
      "metadata": {
        "colab": {
          "base_uri": "https://localhost:8080/"
        },
        "id": "n3ohSy2U1XNA",
        "outputId": "f73ecd19-38b2-436a-95a7-0dd2d604c8f6"
      },
      "outputs": [
        {
          "output_type": "stream",
          "name": "stdout",
          "text": [
            "    stop_date stop_time  county_name driver_gender  driver_age_raw  \\\n",
            "0  2005-01-02     01:55          NaN             M          1985.0   \n",
            "1  2005-01-18     08:15          NaN             M          1965.0   \n",
            "2  2005-01-23     23:15          NaN             M          1972.0   \n",
            "3  2005-02-20     17:15          NaN             M          1986.0   \n",
            "4  2005-03-14     10:00          NaN             F          1984.0   \n",
            "\n",
            "   driver_age driver_race     violation_raw violation search_conducted  \\\n",
            "0        20.0       White          Speeding  Speeding            False   \n",
            "1        40.0       White          Speeding  Speeding            False   \n",
            "2        33.0       White          Speeding  Speeding            False   \n",
            "3        19.0       White  Call for Service     Other            False   \n",
            "4        21.0       White          Speeding  Speeding            False   \n",
            "\n",
            "  search_type   stop_outcome is_arrested stop_duration drugs_related_stop  \n",
            "0         NaN       Citation       False      0-15 Min              False  \n",
            "1         NaN       Citation       False      0-15 Min              False  \n",
            "2         NaN       Citation       False      0-15 Min              False  \n",
            "3         NaN  Arrest Driver        True     16-30 Min              False  \n",
            "4         NaN       Citation       False      0-15 Min              False  \n",
            "stop_date                 0\n",
            "stop_time                 0\n",
            "county_name           52969\n",
            "driver_gender          3385\n",
            "driver_age_raw         3378\n",
            "driver_age             3620\n",
            "driver_race            3385\n",
            "violation_raw          3385\n",
            "violation              3385\n",
            "search_conducted          1\n",
            "search_type           50884\n",
            "stop_outcome           3385\n",
            "is_arrested            3385\n",
            "stop_duration          3385\n",
            "drugs_related_stop        1\n",
            "dtype: int64\n"
          ]
        }
      ],
      "source": [
        "# Import the pandas library as pd\n",
        "import pandas as pd\n",
        "\n",
        "# Read 'police.csv' into a DataFrame named ri\n",
        "ri = pd.read_csv('/content/sample_data/police.csv')\n",
        "\n",
        "# Examine the head of the DataFrame\n",
        "print(ri.head())\n",
        "\n",
        "# Count the number of missing values in each column\n",
        "print(ri.isnull().sum())"
      ]
    },
    {
      "cell_type": "markdown",
      "source": [
        "Drop columns"
      ],
      "metadata": {
        "id": "t0RFHtmrtMLw"
      }
    },
    {
      "cell_type": "code",
      "source": [
        "# Examine the shape of the DataFrame\n",
        "print(ri.shape)\n",
        "\n",
        "# Drop the 'county_name' and 'state' columns\n",
        "ri.drop(['county_name'], axis='columns', inplace=True)\n",
        "\n",
        "# Examine the shape of the DataFrame (again)\n",
        "print(ri.shape)"
      ],
      "metadata": {
        "colab": {
          "base_uri": "https://localhost:8080/"
        },
        "id": "LHFMcbwr10kZ",
        "outputId": "759ce1fc-652d-45e1-9684-9d207f330807"
      },
      "execution_count": 4,
      "outputs": [
        {
          "output_type": "stream",
          "name": "stdout",
          "text": [
            "(52969, 15)\n",
            "(52969, 14)\n"
          ]
        }
      ]
    },
    {
      "cell_type": "markdown",
      "source": [
        "Drop rows"
      ],
      "metadata": {
        "id": "cu5ORuTwtWVX"
      }
    },
    {
      "cell_type": "code",
      "source": [
        "# Count the number of missing values in each column\n",
        "print(ri.isnull().sum())\n",
        "\n",
        "# Drop all rows that are missing 'driver_gender'\n",
        "ri.dropna(subset=['driver_gender'], inplace=True)\n",
        "\n",
        "# Count the number of missing values in each column (again)\n",
        "print(ri.isnull().sum())\n",
        "\n",
        "# Examine the shape of the DataFrame\n",
        "print(ri.shape)"
      ],
      "metadata": {
        "colab": {
          "base_uri": "https://localhost:8080/"
        },
        "id": "tsjhqpWs3GvW",
        "outputId": "031fe72a-5b0d-4f71-f925-af978ad1a628"
      },
      "execution_count": 5,
      "outputs": [
        {
          "output_type": "stream",
          "name": "stdout",
          "text": [
            "stop_date                 0\n",
            "stop_time                 0\n",
            "driver_gender          3385\n",
            "driver_age_raw         3378\n",
            "driver_age             3620\n",
            "driver_race            3385\n",
            "violation_raw          3385\n",
            "violation              3385\n",
            "search_conducted          1\n",
            "search_type           50884\n",
            "stop_outcome           3385\n",
            "is_arrested            3385\n",
            "stop_duration          3385\n",
            "drugs_related_stop        1\n",
            "dtype: int64\n",
            "stop_date                 0\n",
            "stop_time                 0\n",
            "driver_gender             0\n",
            "driver_age_raw            1\n",
            "driver_age              241\n",
            "driver_race               1\n",
            "violation_raw             1\n",
            "violation                 1\n",
            "search_conducted          1\n",
            "search_type           47499\n",
            "stop_outcome              1\n",
            "is_arrested               1\n",
            "stop_duration             1\n",
            "drugs_related_stop        1\n",
            "dtype: int64\n",
            "(49584, 14)\n"
          ]
        }
      ]
    },
    {
      "cell_type": "markdown",
      "source": [
        "Fix data types"
      ],
      "metadata": {
        "id": "moXAanhEtX0k"
      }
    },
    {
      "cell_type": "code",
      "source": [
        "# Examine the head of the 'is_arrested' column\n",
        "print(ri.is_arrested.head())\n",
        "\n",
        "# Change the data type of 'is_arrested' to 'bool'\n",
        "ri['is_arrested'] = ri.is_arrested.astype('bool')\n",
        "\n",
        "# Check the data type of 'is_arrested' \n",
        "print(ri.is_arrested.dtype)"
      ],
      "metadata": {
        "colab": {
          "base_uri": "https://localhost:8080/"
        },
        "id": "pmFcz_t_lkRq",
        "outputId": "91576422-29e9-413e-cc3e-e98d83ae2fe9"
      },
      "execution_count": 6,
      "outputs": [
        {
          "output_type": "stream",
          "name": "stdout",
          "text": [
            "0    False\n",
            "1    False\n",
            "2    False\n",
            "3     True\n",
            "4    False\n",
            "Name: is_arrested, dtype: object\n",
            "bool\n"
          ]
        }
      ]
    },
    {
      "cell_type": "markdown",
      "source": [
        "Combining object columns"
      ],
      "metadata": {
        "id": "goCRaag2tcBM"
      }
    },
    {
      "cell_type": "code",
      "source": [
        "# Concatenate 'stop_date' and 'stop_time' (separated by a space)\n",
        "combined = ri.stop_date.str.cat(ri.stop_time, sep= ' ')\n",
        "\n",
        "# Convert 'combined' to datetime format\n",
        "ri['stop_datetime'] = pd.to_datetime(combined)\n",
        "\n",
        "# Examine the data types of the DataFrame\n",
        "print(ri.dtypes)"
      ],
      "metadata": {
        "colab": {
          "base_uri": "https://localhost:8080/"
        },
        "id": "0GDM0yNoma90",
        "outputId": "ce2410b5-6554-43bc-a2cd-0827165a1ee5"
      },
      "execution_count": 7,
      "outputs": [
        {
          "output_type": "stream",
          "name": "stdout",
          "text": [
            "stop_date                     object\n",
            "stop_time                     object\n",
            "driver_gender                 object\n",
            "driver_age_raw               float64\n",
            "driver_age                   float64\n",
            "driver_race                   object\n",
            "violation_raw                 object\n",
            "violation                     object\n",
            "search_conducted              object\n",
            "search_type                   object\n",
            "stop_outcome                  object\n",
            "is_arrested                     bool\n",
            "stop_duration                 object\n",
            "drugs_related_stop            object\n",
            "stop_datetime         datetime64[ns]\n",
            "dtype: object\n"
          ]
        }
      ]
    },
    {
      "cell_type": "markdown",
      "source": [
        "Setting Index"
      ],
      "metadata": {
        "id": "A0ef0syjtgVM"
      }
    },
    {
      "cell_type": "code",
      "source": [
        "# Set 'stop_datetime' as the index\n",
        "ri.set_index('stop_datetime', inplace=True)\n",
        "\n",
        "# Examine the index\n",
        "print(ri.index)\n",
        "\n",
        "# Examine the columns\n",
        "print(ri.columns)"
      ],
      "metadata": {
        "colab": {
          "base_uri": "https://localhost:8080/"
        },
        "id": "noBNbdTpmlJY",
        "outputId": "bd5dddb5-11aa-4884-ba40-a3a863c4de37"
      },
      "execution_count": 8,
      "outputs": [
        {
          "output_type": "stream",
          "name": "stdout",
          "text": [
            "DatetimeIndex(['2005-01-02 01:55:00', '2005-01-18 08:15:00',\n",
            "               '2005-01-23 23:15:00', '2005-02-20 17:15:00',\n",
            "               '2005-03-14 10:00:00', '2005-03-23 09:45:00',\n",
            "               '2005-04-01 17:30:00', '2005-06-06 13:20:00',\n",
            "               '2005-07-13 10:15:00', '2005-07-13 15:45:00',\n",
            "               ...\n",
            "               '2011-10-04 20:35:00', '2011-10-04 22:22:00',\n",
            "               '2011-10-04 22:36:00', '2011-10-04 23:25:00',\n",
            "               '2011-10-05 06:43:00', '2011-10-05 07:19:00',\n",
            "               '2011-10-05 09:12:00', '2011-10-05 10:14:00',\n",
            "               '2011-10-05 11:00:00', '2011-10-05 11:30:00'],\n",
            "              dtype='datetime64[ns]', name='stop_datetime', length=49584, freq=None)\n",
            "Index(['stop_date', 'stop_time', 'driver_gender', 'driver_age_raw',\n",
            "       'driver_age', 'driver_race', 'violation_raw', 'violation',\n",
            "       'search_conducted', 'search_type', 'stop_outcome', 'is_arrested',\n",
            "       'stop_duration', 'drugs_related_stop'],\n",
            "      dtype='object')\n"
          ]
        }
      ]
    },
    {
      "cell_type": "markdown",
      "source": [
        "Examining Data Violations"
      ],
      "metadata": {
        "id": "lATBdk3ttkSO"
      }
    },
    {
      "cell_type": "code",
      "source": [
        "# Count the unique values in 'violation'\n",
        "print(ri.violation.value_counts())\n",
        "\n",
        "# Express the counts as proportions\n",
        "print(ri.violation.value_counts (normalize= True))"
      ],
      "metadata": {
        "colab": {
          "base_uri": "https://localhost:8080/"
        },
        "id": "B2SmEVK8moJv",
        "outputId": "163e028e-4fd0-4509-f139-1241bba07077"
      },
      "execution_count": 9,
      "outputs": [
        {
          "output_type": "stream",
          "name": "stdout",
          "text": [
            "Speeding               32139\n",
            "Moving violation        8386\n",
            "Equipment               4276\n",
            "Other                   2962\n",
            "Registration/plates     1820\n",
            "Name: violation, dtype: int64\n",
            "Speeding               0.648186\n",
            "Moving violation       0.169131\n",
            "Equipment              0.086239\n",
            "Other                  0.059738\n",
            "Registration/plates    0.036706\n",
            "Name: violation, dtype: float64\n"
          ]
        }
      ]
    },
    {
      "cell_type": "markdown",
      "source": [
        "Comparing violations by gender"
      ],
      "metadata": {
        "id": "lGGFmz9-tovc"
      }
    },
    {
      "cell_type": "code",
      "source": [
        "# Create a DataFrame of female drivers\n",
        "female = ri[ri.driver_gender == 'F']\n",
        "\n",
        "# Create a DataFrame of male drivers\n",
        "male = ri[ri.driver_gender == 'M']\n",
        "\n",
        "# Compute the violations by female drivers (as proportions)\n",
        "print(female.violation.value_counts(normalize= True))\n",
        "\n",
        "# Compute the violations by male drivers (as proportions)\n",
        "print(male.violation.value_counts (normalize= True))"
      ],
      "metadata": {
        "colab": {
          "base_uri": "https://localhost:8080/"
        },
        "id": "JlffTOp-mrla",
        "outputId": "3900a707-6f41-4d70-b8cf-7c21bdbf48d3"
      },
      "execution_count": 10,
      "outputs": [
        {
          "output_type": "stream",
          "name": "stdout",
          "text": [
            "Speeding               0.761619\n",
            "Moving violation       0.106783\n",
            "Equipment              0.065683\n",
            "Registration/plates    0.038719\n",
            "Other                  0.027195\n",
            "Name: violation, dtype: float64\n",
            "Speeding               0.607805\n",
            "Moving violation       0.191325\n",
            "Equipment              0.093557\n",
            "Other                  0.071323\n",
            "Registration/plates    0.035990\n",
            "Name: violation, dtype: float64\n"
          ]
        }
      ]
    },
    {
      "cell_type": "markdown",
      "source": [
        "Comparing speed outcomes by gender"
      ],
      "metadata": {
        "id": "zHLbPGp8tvK6"
      }
    },
    {
      "cell_type": "code",
      "source": [
        "# Create a DataFrame of female drivers stopped for speeding\n",
        "female_and_speeding = ri[(ri.driver_gender == 'F') & (ri.violation == 'Speeding')]\n",
        "\n",
        "# Create a DataFrame of male drivers stopped for speeding\n",
        "male_and_speeding = ri[(ri.driver_gender == 'M') & (ri.violation == 'Speeding')]\n",
        "\n",
        "# Compute the stop outcomes for female drivers (as proportions)\n",
        "print(female_and_speeding.stop_outcome.value_counts (normalize= True))\n",
        "\n",
        "# Compute the stop outcomes for male drivers (as proportions)\n",
        "print(male_and_speeding.stop_outcome.value_counts(normalize= True))"
      ],
      "metadata": {
        "colab": {
          "base_uri": "https://localhost:8080/"
        },
        "id": "0v48FQuCm0B5",
        "outputId": "030d6dff-fde2-4431-db4e-b98417f40a37"
      },
      "execution_count": 11,
      "outputs": [
        {
          "output_type": "stream",
          "name": "stdout",
          "text": [
            "Citation            0.974985\n",
            "Warning             0.016038\n",
            "Arrest Driver       0.006556\n",
            "N/D                 0.001311\n",
            "Arrest Passenger    0.000807\n",
            "No Action           0.000303\n",
            "Name: stop_outcome, dtype: float64\n",
            "Citation            0.964769\n",
            "Arrest Driver       0.017188\n",
            "Warning             0.014488\n",
            "Arrest Passenger    0.001530\n",
            "N/D                 0.001260\n",
            "No Action           0.000765\n",
            "Name: stop_outcome, dtype: float64\n"
          ]
        }
      ]
    },
    {
      "cell_type": "markdown",
      "source": [
        "Calcuate search rate"
      ],
      "metadata": {
        "id": "jTODMNROt45E"
      }
    },
    {
      "cell_type": "code",
      "source": [
        "# Check the data type of 'search_conducted'\n",
        "print(ri.search_conducted.dtype)\n",
        "\n",
        "# Calculate the search rate by counting the values\n",
        "print(ri.search_conducted.value_counts (normalize= True))\n",
        "\n",
        "# Calculate the search rate by taking the mean\n",
        "print(ri.search_conducted.mean())"
      ],
      "metadata": {
        "colab": {
          "base_uri": "https://localhost:8080/"
        },
        "id": "MHThmVkHm42A",
        "outputId": "e3a8a094-6df7-4821-a1ca-521e12df2625"
      },
      "execution_count": 12,
      "outputs": [
        {
          "output_type": "stream",
          "name": "stdout",
          "text": [
            "object\n",
            "False    0.957949\n",
            "True     0.042051\n",
            "Name: search_conducted, dtype: float64\n",
            "0.04205070286186798\n"
          ]
        }
      ]
    },
    {
      "cell_type": "markdown",
      "source": [
        "Comparing search rates by gender"
      ],
      "metadata": {
        "id": "Eg3r_brGt-EL"
      }
    },
    {
      "cell_type": "code",
      "source": [
        "# Calculate the search rate for female drivers\n",
        "print(ri[ri.driver_gender == 'F'].search_conducted.mean())\n",
        "\n",
        "# Calculate the search rate for male drivers\n",
        "print(ri[ri.driver_gender == 'M'].search_conducted.mean())\n",
        "\n",
        "# Calculate the search rate for both groups simultaneously\n",
        "print(ri.groupby('driver_gender').search_conducted.mean())\n",
        "\n",
        "#adding more factors to the analysis\n",
        "# Calculate the search rate for each combination of gender and violation\n",
        "print(ri.groupby(['driver_gender', 'violation']).search_conducted.mean())\n",
        "\n",
        "# Reverse the ordering to group by violation before gender\n",
        "print(ri.groupby(['violation', 'driver_gender']).search_conducted.mean())"
      ],
      "metadata": {
        "colab": {
          "base_uri": "https://localhost:8080/"
        },
        "id": "uiySb90Vm8-O",
        "outputId": "b4c8d271-e6dc-4c47-ba1e-2f9a55dd3752"
      },
      "execution_count": 13,
      "outputs": [
        {
          "output_type": "stream",
          "name": "stdout",
          "text": [
            "0.023661365906122764\n",
            "0.0485970573757042\n",
            "driver_gender\n",
            "F    0.023661\n",
            "M    0.048597\n",
            "Name: search_conducted, dtype: float64\n",
            "driver_gender  violation          \n",
            "F              Equipment              0.072515\n",
            "               Moving violation       0.055396\n",
            "               Other                  0.070621\n",
            "               Registration/plates    0.107143\n",
            "               Speeding               0.009078\n",
            "M              Equipment              0.109032\n",
            "               Moving violation       0.068039\n",
            "               Other                  0.045245\n",
            "               Registration/plates    0.155015\n",
            "               Speeding               0.027267\n",
            "Name: search_conducted, dtype: float64\n",
            "violation            driver_gender\n",
            "Equipment            F                0.072515\n",
            "                     M                0.109032\n",
            "Moving violation     F                0.055396\n",
            "                     M                0.068039\n",
            "Other                F                0.070621\n",
            "                     M                0.045245\n",
            "Registration/plates  F                0.107143\n",
            "                     M                0.155015\n",
            "Speeding             F                0.009078\n",
            "                     M                0.027267\n",
            "Name: search_conducted, dtype: float64\n"
          ]
        }
      ]
    },
    {
      "cell_type": "markdown",
      "source": [
        "Counting protective frisks"
      ],
      "metadata": {
        "id": "-aAglzECuBY_"
      }
    },
    {
      "cell_type": "code",
      "source": [
        "# Count the 'search_type' values\n",
        "print(ri.search_type.value_counts())\n",
        "\n",
        "# Check if 'search_type' contains the string 'Protective Frisk'\n",
        "ri['frisk'] = ri.search_type.str.contains('Protective Frisk', na=False)\n",
        "\n",
        "# Check the data type of 'frisk'\n",
        "print(ri.frisk.dtype)\n",
        "\n",
        "# Take the sum of 'frisk'\n",
        "print(ri.frisk.sum())"
      ],
      "metadata": {
        "colab": {
          "base_uri": "https://localhost:8080/"
        },
        "id": "2r5IapCJnATW",
        "outputId": "bce9e38a-b1d9-4af1-98eb-55584c17d17a"
      },
      "execution_count": 14,
      "outputs": [
        {
          "output_type": "stream",
          "name": "stdout",
          "text": [
            "Incident to Arrest                                          941\n",
            "Probable Cause                                              447\n",
            "Inventory                                                   129\n",
            "Protective Frisk                                            120\n",
            "Reasonable Suspicion                                        116\n",
            "Incident to Arrest,Inventory                                 90\n",
            "Incident to Arrest,Probable Cause                            68\n",
            "Incident to Arrest,Protective Frisk                          31\n",
            "Probable Cause,Reasonable Suspicion                          29\n",
            "Probable Cause,Protective Frisk                              22\n",
            "Incident to Arrest,Inventory,Probable Cause                  21\n",
            "Inventory,Probable Cause                                     13\n",
            "Incident to Arrest,Inventory,Protective Frisk                11\n",
            "Inventory,Protective Frisk                                   10\n",
            "Incident to Arrest,Probable Cause,Protective Frisk           10\n",
            "Protective Frisk,Reasonable Suspicion                        10\n",
            "Incident to Arrest,Reasonable Suspicion                       6\n",
            "Incident to Arrest,Probable Cause,Reasonable Suspicion        3\n",
            "Incident to Arrest,Inventory,Reasonable Suspicion             2\n",
            "Inventory,Probable Cause,Protective Frisk                     2\n",
            "Inventory,Reasonable Suspicion                                2\n",
            "Incident to Arrest,Protective Frisk,Reasonable Suspicion      1\n",
            "Inventory,Probable Cause,Reasonable Suspicion                 1\n",
            "Name: search_type, dtype: int64\n",
            "bool\n",
            "217\n"
          ]
        }
      ]
    },
    {
      "cell_type": "markdown",
      "source": [
        "Comparing frisk rates by gender"
      ],
      "metadata": {
        "id": "VY6HiBnZuFbV"
      }
    },
    {
      "cell_type": "code",
      "source": [
        "# Create a DataFrame of stops in which a search was conducted\n",
        "searched = ri[ri.search_conducted == True]\n",
        "\n",
        "# Calculate the overall frisk rate by taking the mean of 'frisk'\n",
        "print(searched.frisk.mean())\n",
        "\n",
        "# Calculate the frisk rate for each gender\n",
        "print(searched.groupby('driver_gender').frisk.mean())"
      ],
      "metadata": {
        "colab": {
          "base_uri": "https://localhost:8080/"
        },
        "id": "MSUXz2QpnDVN",
        "outputId": "6a4972da-3cb2-4920-8dd8-201850356eb0"
      },
      "execution_count": 15,
      "outputs": [
        {
          "output_type": "stream",
          "name": "stdout",
          "text": [
            "0.1040767386091127\n",
            "driver_gender\n",
            "F    0.074675\n",
            "M    0.109173\n",
            "Name: frisk, dtype: float64\n"
          ]
        }
      ]
    },
    {
      "cell_type": "markdown",
      "source": [
        "Calculating hourly arrest rate\n",
        "\n"
      ],
      "metadata": {
        "id": "bcYt3GRYuIro"
      }
    },
    {
      "cell_type": "code",
      "source": [
        "# Calculate the overall arrest rate\n",
        "print(ri.is_arrested.mean())\n",
        "\n",
        "# Calculate the hourly arrest rate\n",
        "print(ri.groupby(ri.index.hour).is_arrested.mean())\n",
        "\n",
        "# Save the hourly arrest rate\n",
        "hourly_arrest_rate = ri.groupby(ri.index.hour).is_arrested.mean()"
      ],
      "metadata": {
        "colab": {
          "base_uri": "https://localhost:8080/"
        },
        "id": "a9Lvnyo_nJI1",
        "outputId": "b86f642a-f002-496e-dbe6-33c42c981fb6"
      },
      "execution_count": 16,
      "outputs": [
        {
          "output_type": "stream",
          "name": "stdout",
          "text": [
            "0.03771377863827041\n",
            "stop_datetime\n",
            "0     0.050225\n",
            "1     0.064788\n",
            "2     0.068707\n",
            "3     0.053156\n",
            "4     0.075342\n",
            "5     0.037313\n",
            "6     0.015625\n",
            "7     0.012756\n",
            "8     0.021704\n",
            "9     0.026847\n",
            "10    0.031113\n",
            "11    0.030167\n",
            "12    0.037919\n",
            "13    0.035657\n",
            "14    0.038302\n",
            "15    0.034820\n",
            "16    0.038310\n",
            "17    0.037869\n",
            "18    0.046926\n",
            "19    0.040089\n",
            "20    0.047878\n",
            "21    0.057110\n",
            "22    0.050777\n",
            "23    0.042389\n",
            "Name: is_arrested, dtype: float64\n"
          ]
        }
      ]
    },
    {
      "cell_type": "markdown",
      "source": [
        "Plotting hourly arrest rate\n",
        "\n"
      ],
      "metadata": {
        "id": "Syrqj1OzuMdJ"
      }
    },
    {
      "cell_type": "code",
      "source": [
        "# Import matplotlib.pyplot as plt\n",
        "import matplotlib.pyplot as plt\n",
        "\n",
        "# Create a line plot of 'hourly_arrest_rate'\n",
        "hourly_arrest_rate.plot()\n",
        "\n",
        "# Add the xlabel, ylabel, and title\n",
        "plt.xlabel('Hour')\n",
        "plt.ylabel('Arrest Rate')\n",
        "plt.title('Arrest Rate by Time of Day')\n",
        "\n",
        "# Display the plot\n",
        "plt.show()"
      ],
      "metadata": {
        "colab": {
          "base_uri": "https://localhost:8080/",
          "height": 295
        },
        "id": "iyKIkyOfnO9A",
        "outputId": "34a92a25-ed7b-4d2d-8aed-5622007dced2"
      },
      "execution_count": 17,
      "outputs": [
        {
          "output_type": "display_data",
          "data": {
            "text/plain": [
              "<Figure size 432x288 with 1 Axes>"
            ],
            "image/png": "[encoded data removed]"
          },
          "metadata": {
            "needs_background": "light"
          }
        }
      ]
    },
    {
      "cell_type": "markdown",
      "source": [
        "Plotting drug-related stops"
      ],
      "metadata": {
        "id": "NO6Q2M3uuPIJ"
      }
    },
    {
      "cell_type": "code",
      "source": [
        "# Calculate the annual rate of drug-related stops\n",
        "print(ri.drugs_related_stop.resample('A').mean())\n",
        "\n",
        "# Save the annual rate of drug-related stops\n",
        "annual_drug_rate = ri.drugs_related_stop.resample ('A').mean()\n",
        "\n",
        "# Create a line plot of 'annual_drug_rate'\n",
        "annual_drug_rate.plot()\n",
        "\n",
        "# Display the plot\n",
        "plt.show()"
      ],
      "metadata": {
        "colab": {
          "base_uri": "https://localhost:8080/",
          "height": 440
        },
        "id": "RFTe_RjqnStc",
        "outputId": "4ad3df8b-7942-42b4-a674-70fdeaf5674d"
      },
      "execution_count": 18,
      "outputs": [
        {
          "output_type": "stream",
          "name": "stdout",
          "text": [
            "stop_datetime\n",
            "2005-12-31    0.007186\n",
            "2006-12-31    0.005818\n",
            "2007-12-31    0.007524\n",
            "2008-12-31    0.006993\n",
            "2009-12-31    0.011607\n",
            "2010-12-31    0.008721\n",
            "2011-12-31    0.008851\n",
            "Freq: A-DEC, Name: drugs_related_stop, dtype: float64\n"
          ]
        },
        {
          "output_type": "display_data",
          "data": {
            "text/plain": [
              "<Figure size 432x288 with 1 Axes>"
            ],
            "image/png": "[encoded data removed]"
          },
          "metadata": {
            "needs_background": "light"
          }
        }
      ]
    },
    {
      "cell_type": "markdown",
      "source": [
        "Comparing drug and serach rates"
      ],
      "metadata": {
        "id": "5eOpIAoSuSSC"
      }
    },
    {
      "cell_type": "code",
      "source": [
        "# Calculate and save the annual search rate\n",
        "annual_search_rate = ri.search_conducted.resample('A').mean()\n",
        "\n",
        "# Concatenate 'annual_drug_rate' and 'annual_search_rate'\n",
        "annual = pd.concat([annual_drug_rate, annual_search_rate], axis='columns')\n",
        "\n",
        "# Create subplots from 'annual'\n",
        "annual.plot(subplots= True)\n",
        "\n",
        "# Display the subplots\n",
        "plt.show()"
      ],
      "metadata": {
        "colab": {
          "base_uri": "https://localhost:8080/",
          "height": 280
        },
        "id": "C7aqwwoonZQc",
        "outputId": "c8ebf020-2296-4fde-f715-d51f7a484d40"
      },
      "execution_count": 19,
      "outputs": [
        {
          "output_type": "display_data",
          "data": {
            "text/plain": [
              "<Figure size 432x288 with 2 Axes>"
            ],
            "image/png": "[encoded data removed]"
          },
          "metadata": {
            "needs_background": "light"
          }
        }
      ]
    },
    {
      "cell_type": "markdown",
      "source": [
        "Tallying Violations by District"
      ],
      "metadata": {
        "id": "V9zwy9DYuVcB"
      }
    },
    {
      "cell_type": "code",
      "source": [
        "# Create a frequency table of districts and violations\n",
        "print(pd.crosstab (ri.district, ri.violation))\n",
        "\n",
        "# Save the frequency table as 'all_zones'\n",
        "all_zones = pd.crosstab (ri.district, ri.violation)\n",
        "\n",
        "# Select rows 'Zone K1' through 'Zone K3'\n",
        "print(all_zones.loc ['Zone K1' : 'Zone K3'])\n",
        "\n",
        "# Save the smaller table as 'k_zones'\n",
        "k_zones = all_zones.loc ['Zone K1' : 'Zone K3']\n",
        "\n",
        "\n",
        "# Create a bar plot of 'k_zones'\n",
        "k_zones.plot(kind = 'bar')\n",
        "\n",
        "# Display the plot\n",
        "plt.show()\n",
        "\n",
        "# Create a stacked bar plot of 'k_zones'\n",
        "k_zones.plot(kind = 'bar', stacked = True)\n",
        "\n",
        "# Display the plot\n",
        "plt.show()"
      ],
      "metadata": {
        "colab": {
          "base_uri": "https://localhost:8080/",
          "height": 365
        },
        "id": "YlcyCYB-nfvx",
        "outputId": "223c11ce-fed4-4d28-e913-46c9717f104b"
      },
      "execution_count": 20,
      "outputs": [
        {
          "output_type": "error",
          "ename": "AttributeError",
          "evalue": "ignored",
          "traceback": [
            "\u001b[0;31m---------------------------------------------------------------------------\u001b[0m",
            "\u001b[0;31mAttributeError\u001b[0m                            Traceback (most recent call last)",
            "\u001b[0;32m<ipython-input-20-e8d7219a2465>\u001b[0m in \u001b[0;36m<module>\u001b[0;34m()\u001b[0m\n\u001b[1;32m      1\u001b[0m \u001b[0;31m# Create a frequency table of districts and violations\u001b[0m\u001b[0;34m\u001b[0m\u001b[0;34m\u001b[0m\u001b[0;34m\u001b[0m\u001b[0m\n\u001b[0;32m----> 2\u001b[0;31m \u001b[0mprint\u001b[0m\u001b[0;34m(\u001b[0m\u001b[0mpd\u001b[0m\u001b[0;34m.\u001b[0m\u001b[0mcrosstab\u001b[0m \u001b[0;34m(\u001b[0m\u001b[0mri\u001b[0m\u001b[0;34m.\u001b[0m\u001b[0mdistrict\u001b[0m\u001b[0;34m,\u001b[0m \u001b[0mri\u001b[0m\u001b[0;34m.\u001b[0m\u001b[0mviolation\u001b[0m\u001b[0;34m)\u001b[0m\u001b[0;34m)\u001b[0m\u001b[0;34m\u001b[0m\u001b[0;34m\u001b[0m\u001b[0m\n\u001b[0m\u001b[1;32m      3\u001b[0m \u001b[0;34m\u001b[0m\u001b[0m\n\u001b[1;32m      4\u001b[0m \u001b[0;31m# Save the frequency table as 'all_zones'\u001b[0m\u001b[0;34m\u001b[0m\u001b[0;34m\u001b[0m\u001b[0;34m\u001b[0m\u001b[0m\n\u001b[1;32m      5\u001b[0m \u001b[0mall_zones\u001b[0m \u001b[0;34m=\u001b[0m \u001b[0mpd\u001b[0m\u001b[0;34m.\u001b[0m\u001b[0mcrosstab\u001b[0m \u001b[0;34m(\u001b[0m\u001b[0mri\u001b[0m\u001b[0;34m.\u001b[0m\u001b[0mdistrict\u001b[0m\u001b[0;34m,\u001b[0m \u001b[0mri\u001b[0m\u001b[0;34m.\u001b[0m\u001b[0mviolation\u001b[0m\u001b[0;34m)\u001b[0m\u001b[0;34m\u001b[0m\u001b[0;34m\u001b[0m\u001b[0m\n",
            "\u001b[0;32m/usr/local/lib/python3.7/dist-packages/pandas/core/generic.py\u001b[0m in \u001b[0;36m__getattr__\u001b[0;34m(self, name)\u001b[0m\n\u001b[1;32m   5485\u001b[0m         ):\n\u001b[1;32m   5486\u001b[0m             \u001b[0;32mreturn\u001b[0m \u001b[0mself\u001b[0m\u001b[0;34m[\u001b[0m\u001b[0mname\u001b[0m\u001b[0;34m]\u001b[0m\u001b[0;34m\u001b[0m\u001b[0;34m\u001b[0m\u001b[0m\n\u001b[0;32m-> 5487\u001b[0;31m         \u001b[0;32mreturn\u001b[0m \u001b[0mobject\u001b[0m\u001b[0;34m.\u001b[0m\u001b[0m__getattribute__\u001b[0m\u001b[0;34m(\u001b[0m\u001b[0mself\u001b[0m\u001b[0;34m,\u001b[0m \u001b[0mname\u001b[0m\u001b[0;34m)\u001b[0m\u001b[0;34m\u001b[0m\u001b[0;34m\u001b[0m\u001b[0m\n\u001b[0m\u001b[1;32m   5488\u001b[0m \u001b[0;34m\u001b[0m\u001b[0m\n\u001b[1;32m   5489\u001b[0m     \u001b[0;32mdef\u001b[0m \u001b[0m__setattr__\u001b[0m\u001b[0;34m(\u001b[0m\u001b[0mself\u001b[0m\u001b[0;34m,\u001b[0m \u001b[0mname\u001b[0m\u001b[0;34m:\u001b[0m \u001b[0mstr\u001b[0m\u001b[0;34m,\u001b[0m \u001b[0mvalue\u001b[0m\u001b[0;34m)\u001b[0m \u001b[0;34m->\u001b[0m \u001b[0;32mNone\u001b[0m\u001b[0;34m:\u001b[0m\u001b[0;34m\u001b[0m\u001b[0;34m\u001b[0m\u001b[0m\n",
            "\u001b[0;31mAttributeError\u001b[0m: 'DataFrame' object has no attribute 'district'"
          ]
        }
      ]
    },
    {
      "cell_type": "markdown",
      "source": [
        "Converting stop durations to numbers"
      ],
      "metadata": {
        "id": "breqGiSyuZKV"
      }
    },
    {
      "cell_type": "code",
      "source": [
        "# Print the unique values in 'stop_duration'\n",
        "print(ri.stop_duration.unique())\n",
        "\n",
        "# Create a dictionary that maps strings to integers\n",
        "mapping = {'0-15 Min': 8, '16-30 Min': 23, '30+ Min': 45 }\n",
        "\n",
        "# Convert the 'stop_duration' strings to integers using the 'mapping'\n",
        "ri['stop_minutes'] = ri.stop_duration.map(mapping)\n",
        "\n",
        "# Print the unique values in 'stop_minutes'\n",
        "print(ri.stop_minutes.unique())"
      ],
      "metadata": {
        "colab": {
          "base_uri": "https://localhost:8080/"
        },
        "id": "1b5E-u3AodJ7",
        "outputId": "ae430c72-3665-462c-a355-23089da83c17"
      },
      "execution_count": 21,
      "outputs": [
        {
          "output_type": "stream",
          "name": "stdout",
          "text": [
            "['0-15 Min' '16-30 Min' '30+ Min' nan]\n",
            "[ 8. 23. 45. nan]\n"
          ]
        }
      ]
    },
    {
      "cell_type": "markdown",
      "source": [
        "Plotting stop-length"
      ],
      "metadata": {
        "id": "m7LLq4XUuf-g"
      }
    },
    {
      "cell_type": "code",
      "source": [
        "# Calculate the mean 'stop_minutes' for each value in 'violation_raw'\n",
        "print(ri.groupby('violation_raw').stop_minutes.mean())\n",
        "\n",
        "# Save the resulting Series as 'stop_length'\n",
        "stop_length = ri.groupby('violation_raw').stop_minutes.mean()\n",
        "\n",
        "# Sort 'stop_length' by its values and create a horizontal bar plot\n",
        "stop_length.sort_values().plot(kind= 'barh')\n",
        "\n",
        "# Display the plot\n",
        "plt.show()"
      ],
      "metadata": {
        "colab": {
          "base_uri": "https://localhost:8080/",
          "height": 497
        },
        "id": "Tiz3oSLkohJ9",
        "outputId": "1133e323-cf09-4ea0-97d2-1bf8ba944b56"
      },
      "execution_count": 22,
      "outputs": [
        {
          "output_type": "stream",
          "name": "stdout",
          "text": [
            "violation_raw\n",
            "APB                                 25.627907\n",
            "Call for Service                    25.004458\n",
            "Equipment/Inspection Violation      13.528064\n",
            "Motorist Assist/Courtesy            16.260504\n",
            "Other Traffic Violation             16.040544\n",
            "Registration Violation              16.612637\n",
            "Special Detail/Directed Patrol      15.520716\n",
            "Speeding                            11.015682\n",
            "Suspicious Person                   20.709677\n",
            "Violation of City/Town Ordinance    14.053435\n",
            "Warrant                             22.900000\n",
            "Name: stop_minutes, dtype: float64\n"
          ]
        },
        {
          "output_type": "display_data",
          "data": {
            "text/plain": [
              "<Figure size 432x288 with 1 Axes>"
            ],
            "image/png": "[encoded data removed]"
          },
          "metadata": {
            "needs_background": "light"
          }
        }
      ]
    },
    {
      "cell_type": "markdown",
      "source": [
        "Plotting Temperature"
      ],
      "metadata": {
        "id": "EREqQauzup59"
      }
    },
    {
      "cell_type": "code",
      "source": [
        "# Read 'weather.csv' into a DataFrame named 'weather'\n",
        "weather = pd.read_csv('/content/sample_data/weather.csv')\n",
        "\n",
        "# Describe the temperature columns\n",
        "print(weather[['TMIN', 'TAVG', 'TMAX']].describe())\n",
        "\n",
        "# Create a box plot of the temperature columns\n",
        "weather [['TMIN', 'TAVG', 'TMAX']].plot(kind='box')\n",
        "\n",
        "# Display the plot\n",
        "plt.show()"
      ],
      "metadata": {
        "colab": {
          "base_uri": "https://localhost:8080/",
          "height": 481
        },
        "id": "h5-MfjLSpVF5",
        "outputId": "a99fc127-3cf6-4132-a948-6a6bcf4e9c45"
      },
      "execution_count": 24,
      "outputs": [
        {
          "output_type": "stream",
          "name": "stdout",
          "text": [
            "              TMIN         TAVG         TMAX\n",
            "count  4017.000000  1217.000000  4017.000000\n",
            "mean     43.484441    52.493016    61.268608\n",
            "std      17.020298    17.830714    18.199517\n",
            "min      -5.000000     6.000000    15.000000\n",
            "25%      30.000000    39.000000    47.000000\n",
            "50%      44.000000    54.000000    62.000000\n",
            "75%      58.000000    68.000000    77.000000\n",
            "max      77.000000    86.000000   102.000000\n"
          ]
        },
        {
          "output_type": "stream",
          "name": "stderr",
          "text": [
            "/usr/local/lib/python3.7/dist-packages/matplotlib/cbook/__init__.py:1376: VisibleDeprecationWarning: Creating an ndarray from ragged nested sequences (which is a list-or-tuple of lists-or-tuples-or ndarrays with different lengths or shapes) is deprecated. If you meant to do this, you must specify 'dtype=object' when creating the ndarray.\n",
            "  X = np.atleast_1d(X.T if isinstance(X, np.ndarray) else np.asarray(X))\n"
          ]
        },
        {
          "output_type": "display_data",
          "data": {
            "text/plain": [
              "<Figure size 432x288 with 1 Axes>"
            ],
            "image/png": "[encoded data removed]"
          },
          "metadata": {
            "needs_background": "light"
          }
        }
      ]
    },
    {
      "cell_type": "markdown",
      "source": [
        "Plotting Temperature difference"
      ],
      "metadata": {
        "id": "51p81x8pusmm"
      }
    },
    {
      "cell_type": "code",
      "source": [
        "# Create a 'TDIFF' column that represents temperature difference\n",
        "weather ['TDIFF'] = weather.TMAX - weather.TMIN\n",
        "\n",
        "# Describe the 'TDIFF' column\n",
        "print(weather.TDIFF.describe())\n",
        "\n",
        "# Create a histogram with 20 bins to visualize 'TDIFF'\n",
        "weather.TDIFF.plot(kind='hist', bins= 20)\n",
        "\n",
        "# Display the plot\n",
        "plt.show()"
      ],
      "metadata": {
        "colab": {
          "base_uri": "https://localhost:8080/",
          "height": 425
        },
        "id": "WP52KA1gpeL3",
        "outputId": "6475427d-2c56-4caf-b415-055b81bf994f"
      },
      "execution_count": 25,
      "outputs": [
        {
          "output_type": "stream",
          "name": "stdout",
          "text": [
            "count    4017.000000\n",
            "mean       17.784167\n",
            "std         6.350720\n",
            "min         2.000000\n",
            "25%        14.000000\n",
            "50%        18.000000\n",
            "75%        22.000000\n",
            "max        43.000000\n",
            "Name: TDIFF, dtype: float64\n"
          ]
        },
        {
          "output_type": "display_data",
          "data": {
            "text/plain": [
              "<Figure size 432x288 with 1 Axes>"
            ],
            "image/png": "[encoded data removed]"
          },
          "metadata": {
            "needs_background": "light"
          }
        }
      ]
    },
    {
      "cell_type": "markdown",
      "source": [
        "Counting bad weather conditions"
      ],
      "metadata": {
        "id": "t7c9lgB0uye4"
      }
    },
    {
      "cell_type": "code",
      "source": [
        "# Copy 'WT01' through 'WT22' to a new DataFrame\n",
        "WT = weather.loc[:, 'WT01': 'WT22']\n",
        "\n",
        "# Calculate the sum of each row in 'WT'\n",
        "weather['bad_conditions'] = WT.sum(axis='columns')\n",
        "\n",
        "# Replace missing values in 'bad_conditions' with '0'\n",
        "weather['bad_conditions'] = weather.bad_conditions.fillna(0).astype('int')\n",
        "\n",
        "# Create a histogram to visualize 'bad_conditions'\n",
        "weather.bad_conditions.plot(kind='hist')\n",
        "\n",
        "# Display the plot\n",
        "plt.show()"
      ],
      "metadata": {
        "colab": {
          "base_uri": "https://localhost:8080/",
          "height": 265
        },
        "id": "Jv0yfd2rplpW",
        "outputId": "008c58d6-7688-4a9b-a823-5cfabbf516f6"
      },
      "execution_count": 26,
      "outputs": [
        {
          "output_type": "display_data",
          "data": {
            "text/plain": [
              "<Figure size 432x288 with 1 Axes>"
            ],
            "image/png": "[encoded data removed]"
          },
          "metadata": {
            "needs_background": "light"
          }
        }
      ]
    },
    {
      "cell_type": "markdown",
      "source": [
        "Rating weather conditions"
      ],
      "metadata": {
        "id": "jTk-rho1uzgv"
      }
    },
    {
      "cell_type": "code",
      "source": [
        "# Count the unique values in 'bad_conditions' and sort the index\n",
        "print(weather.bad_conditions.value_counts().sort_index())\n",
        "\n",
        "# Create a dictionary that maps integers to strings\n",
        "mapping = {0:'good', 1:'bad', 2:'bad', 3:'bad', 4:'bad', 5:'worse', 6:'worse', 7:'worse', 8:'worse', 9:'worse'}\n",
        "\n",
        "# Convert the 'bad_conditions' integers to strings using the 'mapping'\n",
        "weather['rating'] = weather.bad_conditions.map(mapping)\n",
        "\n",
        "# Count the unique values in 'rating'\n",
        "print(weather.rating.value_counts())"
      ],
      "metadata": {
        "colab": {
          "base_uri": "https://localhost:8080/"
        },
        "id": "vzyCX0DqpnFR",
        "outputId": "73029ca4-d37a-4810-9143-cb8a5fb5b390"
      },
      "execution_count": 27,
      "outputs": [
        {
          "output_type": "stream",
          "name": "stdout",
          "text": [
            "0    1749\n",
            "1     613\n",
            "2     367\n",
            "3     380\n",
            "4     476\n",
            "5     282\n",
            "6     101\n",
            "7      41\n",
            "8       4\n",
            "9       4\n",
            "Name: bad_conditions, dtype: int64\n",
            "bad      1836\n",
            "good     1749\n",
            "worse     432\n",
            "Name: rating, dtype: int64\n"
          ]
        }
      ]
    },
    {
      "cell_type": "markdown",
      "source": [
        "Changing data type to category"
      ],
      "metadata": {
        "id": "hDuyjY_tu3FI"
      }
    },
    {
      "cell_type": "code",
      "source": [
        "from pandas.api.types import CategoricalDtype\n",
        "# Create a list of weather ratings in logical order\n",
        "cat_dtype = CategoricalDtype(\n",
        "    categories=['good', 'bad', 'worse'], ordered=True)\n",
        "\n",
        "# Change the data type of 'rating' to category\n",
        "weather['rating'] = weather.rating.astype(cat_dtype)\n",
        "\n",
        "#weather['rating'] = weather.rating.astype('category', copy=True, categories= cats)\n",
        "#cat_dtype = CategoricalDtype(\n",
        "   # categories=[2, 1], ordered=True)\n",
        "#ser.astype(cat_dtype)\n",
        "\n",
        "# Examine the head of 'rating'\n",
        "print(weather.rating.head())"
      ],
      "metadata": {
        "colab": {
          "base_uri": "https://localhost:8080/"
        },
        "id": "hW4IzfobpqdQ",
        "outputId": "a99354f7-30da-43ee-fd5b-a52e5f1a5334"
      },
      "execution_count": 32,
      "outputs": [
        {
          "output_type": "stream",
          "name": "stdout",
          "text": [
            "0    bad\n",
            "1    bad\n",
            "2    bad\n",
            "3    bad\n",
            "4    bad\n",
            "Name: rating, dtype: category\n",
            "Categories (3, object): ['good' < 'bad' < 'worse']\n"
          ]
        }
      ]
    },
    {
      "cell_type": "markdown",
      "source": [
        "Preparing & Merging the dataframes"
      ],
      "metadata": {
        "id": "z_jWDRKmu9Ev"
      }
    },
    {
      "cell_type": "code",
      "source": [
        "# Reset the index of 'ri'\n",
        "ri.reset_index(inplace= True)\n",
        "\n",
        "# Examine the head of 'ri'\n",
        "print(ri.head())\n",
        "\n",
        "# Create a DataFrame from the 'DATE' and 'rating' columns\n",
        "weather_rating = weather[['DATE', 'rating']]\n",
        "\n",
        "# Examine the head of 'weather_rating'\n",
        "print(weather_rating.head())"
      ],
      "metadata": {
        "colab": {
          "base_uri": "https://localhost:8080/"
        },
        "id": "Ob03Q-htsGfs",
        "outputId": "a1e5d710-e66b-410f-97ec-6af0361c8984"
      },
      "execution_count": 33,
      "outputs": [
        {
          "output_type": "stream",
          "name": "stdout",
          "text": [
            "        stop_datetime   stop_date stop_time driver_gender  driver_age_raw  \\\n",
            "0 2005-01-02 01:55:00  2005-01-02     01:55             M          1985.0   \n",
            "1 2005-01-18 08:15:00  2005-01-18     08:15             M          1965.0   \n",
            "2 2005-01-23 23:15:00  2005-01-23     23:15             M          1972.0   \n",
            "3 2005-02-20 17:15:00  2005-02-20     17:15             M          1986.0   \n",
            "4 2005-03-14 10:00:00  2005-03-14     10:00             F          1984.0   \n",
            "\n",
            "   driver_age driver_race     violation_raw violation search_conducted  \\\n",
            "0        20.0       White          Speeding  Speeding            False   \n",
            "1        40.0       White          Speeding  Speeding            False   \n",
            "2        33.0       White          Speeding  Speeding            False   \n",
            "3        19.0       White  Call for Service     Other            False   \n",
            "4        21.0       White          Speeding  Speeding            False   \n",
            "\n",
            "  search_type   stop_outcome  is_arrested stop_duration drugs_related_stop  \\\n",
            "0         NaN       Citation        False      0-15 Min              False   \n",
            "1         NaN       Citation        False      0-15 Min              False   \n",
            "2         NaN       Citation        False      0-15 Min              False   \n",
            "3         NaN  Arrest Driver         True     16-30 Min              False   \n",
            "4         NaN       Citation        False      0-15 Min              False   \n",
            "\n",
            "   frisk  stop_minutes  \n",
            "0  False           8.0  \n",
            "1  False           8.0  \n",
            "2  False           8.0  \n",
            "3  False          23.0  \n",
            "4  False           8.0  \n",
            "         DATE rating\n",
            "0  2005-01-01    bad\n",
            "1  2005-01-02    bad\n",
            "2  2005-01-03    bad\n",
            "3  2005-01-04    bad\n",
            "4  2005-01-05    bad\n"
          ]
        }
      ]
    },
    {
      "cell_type": "code",
      "source": [
        "# Examine the shape of 'ri'\n",
        "print(ri.shape)\n",
        "\n",
        "# Merge 'ri' and 'weather_rating' using a left join\n",
        "ri_weather = pd.merge(left=ri, right=weather_rating, left_on='stop_date', right_on='DATE', how='left')\n",
        "\n",
        "# Examine the shape of 'ri_weather'\n",
        "print(ri_weather.shape)\n",
        "\n",
        "# Set 'stop_datetime' as the index of 'ri_weather'\n",
        "ri_weather.set_index('stop_datetime', inplace=True)"
      ],
      "metadata": {
        "colab": {
          "base_uri": "https://localhost:8080/"
        },
        "id": "dagO_6C7sLBH",
        "outputId": "ae7dc73b-38fc-4851-92dc-07f2ecf4384a"
      },
      "execution_count": 34,
      "outputs": [
        {
          "output_type": "stream",
          "name": "stdout",
          "text": [
            "(49584, 17)\n",
            "(49584, 19)\n"
          ]
        }
      ]
    },
    {
      "cell_type": "markdown",
      "source": [
        "Comparing arrest rates by weather rating"
      ],
      "metadata": {
        "id": "KapF6RFgvmMV"
      }
    },
    {
      "cell_type": "code",
      "source": [
        "# Calculate the overall arrest rate\n",
        "print(ri_weather.is_arrested.mean())\n",
        "\n",
        "# Calculate the arrest rate for each 'rating'\n",
        "print(ri_weather.groupby('rating').is_arrested.mean())\n",
        "\n",
        "# Calculate the arrest rate for each 'violation' and 'rating'\n",
        "print(ri_weather.groupby(['violation', 'rating']).is_arrested.mean())"
      ],
      "metadata": {
        "colab": {
          "base_uri": "https://localhost:8080/"
        },
        "id": "PZYivekbsOEu",
        "outputId": "ccf1d876-3f3e-4903-dfa1-0f0aadb97735"
      },
      "execution_count": 35,
      "outputs": [
        {
          "output_type": "stream",
          "name": "stdout",
          "text": [
            "0.03771377863827041\n",
            "rating\n",
            "good     0.035501\n",
            "bad      0.039291\n",
            "worse    0.038924\n",
            "Name: is_arrested, dtype: float64\n",
            "violation            rating\n",
            "Equipment            good      0.074300\n",
            "                     bad       0.087984\n",
            "                     worse     0.100775\n",
            "Moving violation     good      0.065609\n",
            "                     bad       0.067060\n",
            "                     worse     0.065894\n",
            "Other                good      0.065603\n",
            "                     bad       0.089404\n",
            "                     worse     0.051118\n",
            "Registration/plates  good      0.130882\n",
            "                     bad       0.155447\n",
            "                     worse     0.099071\n",
            "Speeding             good      0.015621\n",
            "                     bad       0.014799\n",
            "                     worse     0.015371\n",
            "Name: is_arrested, dtype: float64\n"
          ]
        }
      ]
    },
    {
      "cell_type": "markdown",
      "source": [
        "Selecting from a multi-index series"
      ],
      "metadata": {
        "id": "HJx4sRaxvBci"
      }
    },
    {
      "cell_type": "code",
      "source": [
        "# Save the output of the groupby operation from the last exercise\n",
        "arrest_rate = ri_weather.groupby(['violation', 'rating']).is_arrested.mean()\n",
        "\n",
        "# Print the 'arrest_rate' Series\n",
        "print(arrest_rate)\n",
        "\n",
        "# Print the arrest rate for moving violations in bad weather\n",
        "print('the arrest rate for moving violations in bad weather is ', arrest_rate.loc['Moving violation', 'bad'])\n",
        "\n",
        "# Print the arrest rates for speeding violations in all three weather conditions\n",
        "print(arrest_rate.loc['Speeding'])"
      ],
      "metadata": {
        "colab": {
          "base_uri": "https://localhost:8080/"
        },
        "id": "FRahmlXZsRfk",
        "outputId": "0ba66856-f57d-4b31-cc43-e971c1a662ab"
      },
      "execution_count": 36,
      "outputs": [
        {
          "output_type": "stream",
          "name": "stdout",
          "text": [
            "violation            rating\n",
            "Equipment            good      0.074300\n",
            "                     bad       0.087984\n",
            "                     worse     0.100775\n",
            "Moving violation     good      0.065609\n",
            "                     bad       0.067060\n",
            "                     worse     0.065894\n",
            "Other                good      0.065603\n",
            "                     bad       0.089404\n",
            "                     worse     0.051118\n",
            "Registration/plates  good      0.130882\n",
            "                     bad       0.155447\n",
            "                     worse     0.099071\n",
            "Speeding             good      0.015621\n",
            "                     bad       0.014799\n",
            "                     worse     0.015371\n",
            "Name: is_arrested, dtype: float64\n",
            "the arrest rate for moving violations in bad weather is  0.06706008583690987\n",
            "rating\n",
            "good     0.015621\n",
            "bad      0.014799\n",
            "worse    0.015371\n",
            "Name: is_arrested, dtype: float64\n"
          ]
        }
      ]
    },
    {
      "cell_type": "markdown",
      "source": [
        "Reshaping arrest rate data"
      ],
      "metadata": {
        "id": "4bcCN9j6vSQI"
      }
    },
    {
      "cell_type": "code",
      "source": [
        "# Unstack the 'arrest_rate' Series into a DataFrame\n",
        "print(arrest_rate.unstack())\n",
        "\n",
        "# Create the same DataFrame using a pivot table\n",
        "print(ri_weather.pivot_table(index='rating', columns='violation', values='is_arrested'))"
      ],
      "metadata": {
        "colab": {
          "base_uri": "https://localhost:8080/"
        },
        "id": "622nawkosVKQ",
        "outputId": "ecc8985d-033a-4dde-e422-e83030fc2320"
      },
      "execution_count": 37,
      "outputs": [
        {
          "output_type": "stream",
          "name": "stdout",
          "text": [
            "rating                   good       bad     worse\n",
            "violation                                        \n",
            "Equipment            0.074300  0.087984  0.100775\n",
            "Moving violation     0.065609  0.067060  0.065894\n",
            "Other                0.065603  0.089404  0.051118\n",
            "Registration/plates  0.130882  0.155447  0.099071\n",
            "Speeding             0.015621  0.014799  0.015371\n",
            "violation  Equipment  Moving violation     Other  Registration/plates  \\\n",
            "rating                                                                  \n",
            "good        0.074300          0.065609  0.065603             0.130882   \n",
            "bad         0.087984          0.067060  0.089404             0.155447   \n",
            "worse       0.100775          0.065894  0.051118             0.099071   \n",
            "\n",
            "violation  Speeding  \n",
            "rating               \n",
            "good       0.015621  \n",
            "bad        0.014799  \n",
            "worse      0.015371  \n"
          ]
        }
      ]
    }
  ]
}